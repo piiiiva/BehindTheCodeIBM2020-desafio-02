{
  "nbformat": 4,
  "nbformat_minor": 0,
  "metadata": {
    "colab": {
      "name": "pandas_basico.ipynb",
      "provenance": [],
      "authorship_tag": "ABX9TyN3Xj6R6CzrXXrODvgbV8Bt",
      "include_colab_link": true
    },
    "kernelspec": {
      "name": "python3",
      "display_name": "Python 3"
    }
  },
  "cells": [
    {
      "cell_type": "markdown",
      "metadata": {
        "id": "view-in-github",
        "colab_type": "text"
      },
      "source": [
        "<a href=\"https://colab.research.google.com/github/piiiiva/BehindTheCodeIBM2020-desafio-02/blob/master/pandas_basico.ipynb\" target=\"_parent\"><img src=\"https://colab.research.google.com/assets/colab-badge.svg\" alt=\"Open In Colab\"/></a>"
      ]
    },
    {
      "cell_type": "code",
      "metadata": {
        "colab_type": "code",
        "id": "UrdsR5NUw_JH",
        "colab": {
          "base_uri": "https://localhost:8080/",
          "height": 153
        },
        "outputId": "0ba3b336-d72d-491b-c931-bd4b9b10e3f0"
      },
      "source": [
        "# Treinando o modelo novamente com os dados balanceados\n",
        "\n",
        "modelo.fit(XB, yB)"
      ],
      "execution_count": null,
      "outputs": [
        {
          "output_type": "execute_result",
          "data": {
            "text/plain": [
              "RandomForestClassifier(bootstrap=True, ccp_alpha=0.0, class_weight=None,\n",
              "                       criterion='gini', max_depth=None, max_features='auto',\n",
              "                       max_leaf_nodes=None, max_samples=None,\n",
              "                       min_impurity_decrease=0.0, min_impurity_split=None,\n",
              "                       min_samples_leaf=1, min_samples_split=2,\n",
              "                       min_weight_fraction_leaf=0.0, n_estimators=100,\n",
              "                       n_jobs=None, oob_score=False, random_state=42, verbose=0,\n",
              "                       warm_start=False)"
            ]
          },
          "metadata": {
            "tags": []
          },
          "execution_count": 142
        }
      ]
    },
    {
      "cell_type": "code",
      "metadata": {
        "colab_type": "code",
        "id": "1l-PCuAgw_JM",
        "colab": {}
      },
      "source": [
        "previsao_balanceada = modelo.predict(X_test)"
      ],
      "execution_count": null,
      "outputs": []
    },
    {
      "cell_type": "markdown",
      "metadata": {
        "colab_type": "text",
        "id": "x7MJEBZjw_JP"
      },
      "source": [
        "Perceba que o predict do modelo estamos fazendo com o X_test que não foi balanceado como o X_train no caso XB"
      ]
    },
    {
      "cell_type": "code",
      "metadata": {
        "colab_type": "code",
        "id": "FuwSZbOHw_JP",
        "colab": {
          "base_uri": "https://localhost:8080/",
          "height": 34
        },
        "outputId": "f06c0598-26a0-4d6a-b533-9779d62c30c7"
      },
      "source": [
        "accuracy_score(y_test, previsao_balanceada)"
      ],
      "execution_count": null,
      "outputs": [
        {
          "output_type": "execute_result",
          "data": {
            "text/plain": [
              "0.7852"
            ]
          },
          "metadata": {
            "tags": []
          },
          "execution_count": 144
        }
      ]
    },
    {
      "cell_type": "code",
      "metadata": {
        "colab_type": "code",
        "id": "BpffYDYZw_JR",
        "colab": {
          "base_uri": "https://localhost:8080/",
          "height": 221
        },
        "outputId": "d9bc0f2b-1ff7-4f6b-fcff-1657cdb2e514"
      },
      "source": [
        "print(classification_report(y_test, previsao_balanceada))"
      ],
      "execution_count": null,
      "outputs": [
        {
          "output_type": "stream",
          "text": [
            "              precision    recall  f1-score   support\n",
            "\n",
            " DIFICULDADE       0.86      0.75      0.80      1753\n",
            "      EXATAS       0.80      0.89      0.84      2029\n",
            "   EXCELENTE       0.49      0.67      0.57       162\n",
            "     HUMANAS       0.78      0.83      0.80       807\n",
            "   MUITO_BOM       0.19      0.11      0.14       249\n",
            "\n",
            "    accuracy                           0.79      5000\n",
            "   macro avg       0.63      0.65      0.63      5000\n",
            "weighted avg       0.78      0.79      0.78      5000\n",
            "\n"
          ],
          "name": "stdout"
        }
      ]
    },
    {
      "cell_type": "markdown",
      "metadata": {
        "id": "RR_kMBEDcZJI",
        "colab_type": "text"
      },
      "source": [
        "## PANDAS BÁSICO"
      ]
    },
    {
      "cell_type": "markdown",
      "metadata": {
        "id": "2Tpkgi1hcmvu",
        "colab_type": "text"
      },
      "source": [
        "### IMPORTAR AS BIBLIOTECAS"
      ]
    },
    {
      "cell_type": "code",
      "metadata": {
        "id": "TI0vwHbGcpwm",
        "colab_type": "code",
        "colab": {}
      },
      "source": [
        "#Importando as bibliotecas\n",
        "import pandas as pd"
      ],
      "execution_count": 2,
      "outputs": []
    },
    {
      "cell_type": "code",
      "metadata": {
        "id": "lr80rRR5d4zr",
        "colab_type": "code",
        "colab": {
          "base_uri": "https://localhost:8080/",
          "height": 677
        },
        "outputId": "9aa27938-dd6f-4ede-f618-d883bbec237d"
      },
      "source": [
        "pd.read_csv(\"/content/dataset_desafio_2.csv\")"
      ],
      "execution_count": 3,
      "outputs": [
        {
          "output_type": "execute_result",
          "data": {
            "text/html": [
              "<div>\n",
              "<style scoped>\n",
              "    .dataframe tbody tr th:only-of-type {\n",
              "        vertical-align: middle;\n",
              "    }\n",
              "\n",
              "    .dataframe tbody tr th {\n",
              "        vertical-align: top;\n",
              "    }\n",
              "\n",
              "    .dataframe thead th {\n",
              "        text-align: right;\n",
              "    }\n",
              "</style>\n",
              "<table border=\"1\" class=\"dataframe\">\n",
              "  <thead>\n",
              "    <tr style=\"text-align: right;\">\n",
              "      <th></th>\n",
              "      <th>MATRICULA</th>\n",
              "      <th>NOME</th>\n",
              "      <th>REPROVACOES_DE</th>\n",
              "      <th>REPROVACOES_EM</th>\n",
              "      <th>REPROVACOES_MF</th>\n",
              "      <th>REPROVACOES_GO</th>\n",
              "      <th>NOTA_DE</th>\n",
              "      <th>NOTA_EM</th>\n",
              "      <th>NOTA_MF</th>\n",
              "      <th>NOTA_GO</th>\n",
              "      <th>INGLES</th>\n",
              "      <th>H_AULA_PRES</th>\n",
              "      <th>TAREFAS_ONLINE</th>\n",
              "      <th>FALTAS</th>\n",
              "      <th>PERFIL</th>\n",
              "    </tr>\n",
              "  </thead>\n",
              "  <tbody>\n",
              "    <tr>\n",
              "      <th>0</th>\n",
              "      <td>502375</td>\n",
              "      <td>Márcia Illiglener</td>\n",
              "      <td>0</td>\n",
              "      <td>0</td>\n",
              "      <td>0</td>\n",
              "      <td>0</td>\n",
              "      <td>6.2</td>\n",
              "      <td>5.8</td>\n",
              "      <td>4.6</td>\n",
              "      <td>5.9</td>\n",
              "      <td>0.0</td>\n",
              "      <td>2</td>\n",
              "      <td>4</td>\n",
              "      <td>3</td>\n",
              "      <td>EXATAS</td>\n",
              "    </tr>\n",
              "    <tr>\n",
              "      <th>1</th>\n",
              "      <td>397093</td>\n",
              "      <td>Jason Jytereoman Izoimum</td>\n",
              "      <td>0</td>\n",
              "      <td>0</td>\n",
              "      <td>0</td>\n",
              "      <td>0</td>\n",
              "      <td>6.0</td>\n",
              "      <td>6.2</td>\n",
              "      <td>5.2</td>\n",
              "      <td>4.5</td>\n",
              "      <td>1.0</td>\n",
              "      <td>2</td>\n",
              "      <td>4</td>\n",
              "      <td>3</td>\n",
              "      <td>EXATAS</td>\n",
              "    </tr>\n",
              "    <tr>\n",
              "      <th>2</th>\n",
              "      <td>915288</td>\n",
              "      <td>Bartolomeu Inácio da Gama</td>\n",
              "      <td>0</td>\n",
              "      <td>0</td>\n",
              "      <td>0</td>\n",
              "      <td>0</td>\n",
              "      <td>7.3</td>\n",
              "      <td>6.7</td>\n",
              "      <td>7.1</td>\n",
              "      <td>7.2</td>\n",
              "      <td>0.0</td>\n",
              "      <td>5</td>\n",
              "      <td>0</td>\n",
              "      <td>3</td>\n",
              "      <td>HUMANAS</td>\n",
              "    </tr>\n",
              "    <tr>\n",
              "      <th>3</th>\n",
              "      <td>192652</td>\n",
              "      <td>Fernanda Guedes</td>\n",
              "      <td>1</td>\n",
              "      <td>3</td>\n",
              "      <td>1</td>\n",
              "      <td>1</td>\n",
              "      <td>0.0</td>\n",
              "      <td>0.0</td>\n",
              "      <td>0.0</td>\n",
              "      <td>0.0</td>\n",
              "      <td>1.0</td>\n",
              "      <td>4</td>\n",
              "      <td>4</td>\n",
              "      <td>4</td>\n",
              "      <td>DIFICULDADE</td>\n",
              "    </tr>\n",
              "    <tr>\n",
              "      <th>4</th>\n",
              "      <td>949491</td>\n",
              "      <td>Alessandre Borba Gomes</td>\n",
              "      <td>1</td>\n",
              "      <td>3</td>\n",
              "      <td>1</td>\n",
              "      <td>1</td>\n",
              "      <td>0.0</td>\n",
              "      <td>0.0</td>\n",
              "      <td>0.0</td>\n",
              "      <td>0.0</td>\n",
              "      <td>1.0</td>\n",
              "      <td>5</td>\n",
              "      <td>2</td>\n",
              "      <td>5</td>\n",
              "      <td>DIFICULDADE</td>\n",
              "    </tr>\n",
              "    <tr>\n",
              "      <th>...</th>\n",
              "      <td>...</td>\n",
              "      <td>...</td>\n",
              "      <td>...</td>\n",
              "      <td>...</td>\n",
              "      <td>...</td>\n",
              "      <td>...</td>\n",
              "      <td>...</td>\n",
              "      <td>...</td>\n",
              "      <td>...</td>\n",
              "      <td>...</td>\n",
              "      <td>...</td>\n",
              "      <td>...</td>\n",
              "      <td>...</td>\n",
              "      <td>...</td>\n",
              "      <td>...</td>\n",
              "    </tr>\n",
              "    <tr>\n",
              "      <th>19995</th>\n",
              "      <td>856673</td>\n",
              "      <td>Laércio Mário da Silva</td>\n",
              "      <td>0</td>\n",
              "      <td>0</td>\n",
              "      <td>0</td>\n",
              "      <td>0</td>\n",
              "      <td>7.0</td>\n",
              "      <td>7.9</td>\n",
              "      <td>5.8</td>\n",
              "      <td>7.0</td>\n",
              "      <td>1.0</td>\n",
              "      <td>9</td>\n",
              "      <td>5</td>\n",
              "      <td>6</td>\n",
              "      <td>EXATAS</td>\n",
              "    </tr>\n",
              "    <tr>\n",
              "      <th>19996</th>\n",
              "      <td>576100</td>\n",
              "      <td>Cibele Quésia Poza</td>\n",
              "      <td>1</td>\n",
              "      <td>1</td>\n",
              "      <td>1</td>\n",
              "      <td>1</td>\n",
              "      <td>0.0</td>\n",
              "      <td>0.0</td>\n",
              "      <td>0.0</td>\n",
              "      <td>NaN</td>\n",
              "      <td>1.0</td>\n",
              "      <td>3</td>\n",
              "      <td>2</td>\n",
              "      <td>5</td>\n",
              "      <td>DIFICULDADE</td>\n",
              "    </tr>\n",
              "    <tr>\n",
              "      <th>19997</th>\n",
              "      <td>888739</td>\n",
              "      <td>Marcielle Chale Bape</td>\n",
              "      <td>0</td>\n",
              "      <td>0</td>\n",
              "      <td>0</td>\n",
              "      <td>0</td>\n",
              "      <td>7.9</td>\n",
              "      <td>7.6</td>\n",
              "      <td>8.3</td>\n",
              "      <td>7.2</td>\n",
              "      <td>NaN</td>\n",
              "      <td>8</td>\n",
              "      <td>3</td>\n",
              "      <td>1</td>\n",
              "      <td>EXCELENTE</td>\n",
              "    </tr>\n",
              "    <tr>\n",
              "      <th>19998</th>\n",
              "      <td>722743</td>\n",
              "      <td>Suzanne Mirian Mourão</td>\n",
              "      <td>0</td>\n",
              "      <td>0</td>\n",
              "      <td>1</td>\n",
              "      <td>1</td>\n",
              "      <td>6.3</td>\n",
              "      <td>5.1</td>\n",
              "      <td>0.0</td>\n",
              "      <td>0.0</td>\n",
              "      <td>1.0</td>\n",
              "      <td>3</td>\n",
              "      <td>2</td>\n",
              "      <td>6</td>\n",
              "      <td>DIFICULDADE</td>\n",
              "    </tr>\n",
              "    <tr>\n",
              "      <th>19999</th>\n",
              "      <td>417268</td>\n",
              "      <td>Maria Isaiane da Silva Luwequisman</td>\n",
              "      <td>0</td>\n",
              "      <td>0</td>\n",
              "      <td>1</td>\n",
              "      <td>1</td>\n",
              "      <td>7.0</td>\n",
              "      <td>7.3</td>\n",
              "      <td>0.0</td>\n",
              "      <td>0.0</td>\n",
              "      <td>NaN</td>\n",
              "      <td>3</td>\n",
              "      <td>0</td>\n",
              "      <td>6</td>\n",
              "      <td>DIFICULDADE</td>\n",
              "    </tr>\n",
              "  </tbody>\n",
              "</table>\n",
              "<p>20000 rows × 15 columns</p>\n",
              "</div>"
            ],
            "text/plain": [
              "       MATRICULA                                NOME  ...  FALTAS       PERFIL\n",
              "0         502375                   Márcia Illiglener  ...       3       EXATAS\n",
              "1         397093            Jason Jytereoman Izoimum  ...       3       EXATAS\n",
              "2         915288           Bartolomeu Inácio da Gama  ...       3      HUMANAS\n",
              "3         192652                     Fernanda Guedes  ...       4  DIFICULDADE\n",
              "4         949491              Alessandre Borba Gomes  ...       5  DIFICULDADE\n",
              "...          ...                                 ...  ...     ...          ...\n",
              "19995     856673              Laércio Mário da Silva  ...       6       EXATAS\n",
              "19996     576100                  Cibele Quésia Poza  ...       5  DIFICULDADE\n",
              "19997     888739                Marcielle Chale Bape  ...       1    EXCELENTE\n",
              "19998     722743               Suzanne Mirian Mourão  ...       6  DIFICULDADE\n",
              "19999     417268  Maria Isaiane da Silva Luwequisman  ...       6  DIFICULDADE\n",
              "\n",
              "[20000 rows x 15 columns]"
            ]
          },
          "metadata": {
            "tags": []
          },
          "execution_count": 3
        }
      ]
    },
    {
      "cell_type": "code",
      "metadata": {
        "id": "A-NSuDdFeDUJ",
        "colab_type": "code",
        "colab": {}
      },
      "source": [
        ""
      ],
      "execution_count": 3,
      "outputs": []
    },
    {
      "cell_type": "markdown",
      "metadata": {
        "id": "fZoRFlzleJ2D",
        "colab_type": "text"
      },
      "source": [
        "Algumas vezes o separador não é a vírgula, que é o padrão de um .csv. Então vamos ver se esse csv está separado do jeito certo. Para fazer isso usamos\n",
        "pd.read_csv('nome_do_arquiv.csv', seg='\\t')"
      ]
    },
    {
      "cell_type": "markdown",
      "metadata": {
        "id": "Pw7NfAC6e-6o",
        "colab_type": "text"
      },
      "source": [
        "Para podermos usar o nosso csv precisamos atribuir ele em uma variável"
      ]
    },
    {
      "cell_type": "code",
      "metadata": {
        "id": "p3GmMMoZeT_a",
        "colab_type": "code",
        "colab": {}
      },
      "source": [
        "dados = pd.read_csv(\"/content/dataset_desafio_2.csv\")"
      ],
      "execution_count": 4,
      "outputs": []
    },
    {
      "cell_type": "code",
      "metadata": {
        "id": "ZApG1qx0fF2R",
        "colab_type": "code",
        "colab": {
          "base_uri": "https://localhost:8080/",
          "height": 360
        },
        "outputId": "d2e392f3-2057-4111-c378-2081e8084770"
      },
      "source": [
        "#Para visualizar essa variável com o dataset usamos o head() ou o tail(),\n",
        "#Pode ser vazio ou informar a quantidade de linhas\n",
        "dados.head()"
      ],
      "execution_count": 5,
      "outputs": [
        {
          "output_type": "execute_result",
          "data": {
            "text/html": [
              "<div>\n",
              "<style scoped>\n",
              "    .dataframe tbody tr th:only-of-type {\n",
              "        vertical-align: middle;\n",
              "    }\n",
              "\n",
              "    .dataframe tbody tr th {\n",
              "        vertical-align: top;\n",
              "    }\n",
              "\n",
              "    .dataframe thead th {\n",
              "        text-align: right;\n",
              "    }\n",
              "</style>\n",
              "<table border=\"1\" class=\"dataframe\">\n",
              "  <thead>\n",
              "    <tr style=\"text-align: right;\">\n",
              "      <th></th>\n",
              "      <th>MATRICULA</th>\n",
              "      <th>NOME</th>\n",
              "      <th>REPROVACOES_DE</th>\n",
              "      <th>REPROVACOES_EM</th>\n",
              "      <th>REPROVACOES_MF</th>\n",
              "      <th>REPROVACOES_GO</th>\n",
              "      <th>NOTA_DE</th>\n",
              "      <th>NOTA_EM</th>\n",
              "      <th>NOTA_MF</th>\n",
              "      <th>NOTA_GO</th>\n",
              "      <th>INGLES</th>\n",
              "      <th>H_AULA_PRES</th>\n",
              "      <th>TAREFAS_ONLINE</th>\n",
              "      <th>FALTAS</th>\n",
              "      <th>PERFIL</th>\n",
              "    </tr>\n",
              "  </thead>\n",
              "  <tbody>\n",
              "    <tr>\n",
              "      <th>0</th>\n",
              "      <td>502375</td>\n",
              "      <td>Márcia Illiglener</td>\n",
              "      <td>0</td>\n",
              "      <td>0</td>\n",
              "      <td>0</td>\n",
              "      <td>0</td>\n",
              "      <td>6.2</td>\n",
              "      <td>5.8</td>\n",
              "      <td>4.6</td>\n",
              "      <td>5.9</td>\n",
              "      <td>0.0</td>\n",
              "      <td>2</td>\n",
              "      <td>4</td>\n",
              "      <td>3</td>\n",
              "      <td>EXATAS</td>\n",
              "    </tr>\n",
              "    <tr>\n",
              "      <th>1</th>\n",
              "      <td>397093</td>\n",
              "      <td>Jason Jytereoman Izoimum</td>\n",
              "      <td>0</td>\n",
              "      <td>0</td>\n",
              "      <td>0</td>\n",
              "      <td>0</td>\n",
              "      <td>6.0</td>\n",
              "      <td>6.2</td>\n",
              "      <td>5.2</td>\n",
              "      <td>4.5</td>\n",
              "      <td>1.0</td>\n",
              "      <td>2</td>\n",
              "      <td>4</td>\n",
              "      <td>3</td>\n",
              "      <td>EXATAS</td>\n",
              "    </tr>\n",
              "    <tr>\n",
              "      <th>2</th>\n",
              "      <td>915288</td>\n",
              "      <td>Bartolomeu Inácio da Gama</td>\n",
              "      <td>0</td>\n",
              "      <td>0</td>\n",
              "      <td>0</td>\n",
              "      <td>0</td>\n",
              "      <td>7.3</td>\n",
              "      <td>6.7</td>\n",
              "      <td>7.1</td>\n",
              "      <td>7.2</td>\n",
              "      <td>0.0</td>\n",
              "      <td>5</td>\n",
              "      <td>0</td>\n",
              "      <td>3</td>\n",
              "      <td>HUMANAS</td>\n",
              "    </tr>\n",
              "    <tr>\n",
              "      <th>3</th>\n",
              "      <td>192652</td>\n",
              "      <td>Fernanda Guedes</td>\n",
              "      <td>1</td>\n",
              "      <td>3</td>\n",
              "      <td>1</td>\n",
              "      <td>1</td>\n",
              "      <td>0.0</td>\n",
              "      <td>0.0</td>\n",
              "      <td>0.0</td>\n",
              "      <td>0.0</td>\n",
              "      <td>1.0</td>\n",
              "      <td>4</td>\n",
              "      <td>4</td>\n",
              "      <td>4</td>\n",
              "      <td>DIFICULDADE</td>\n",
              "    </tr>\n",
              "    <tr>\n",
              "      <th>4</th>\n",
              "      <td>949491</td>\n",
              "      <td>Alessandre Borba Gomes</td>\n",
              "      <td>1</td>\n",
              "      <td>3</td>\n",
              "      <td>1</td>\n",
              "      <td>1</td>\n",
              "      <td>0.0</td>\n",
              "      <td>0.0</td>\n",
              "      <td>0.0</td>\n",
              "      <td>0.0</td>\n",
              "      <td>1.0</td>\n",
              "      <td>5</td>\n",
              "      <td>2</td>\n",
              "      <td>5</td>\n",
              "      <td>DIFICULDADE</td>\n",
              "    </tr>\n",
              "  </tbody>\n",
              "</table>\n",
              "</div>"
            ],
            "text/plain": [
              "   MATRICULA                       NOME  ...  FALTAS       PERFIL\n",
              "0     502375          Márcia Illiglener  ...       3       EXATAS\n",
              "1     397093   Jason Jytereoman Izoimum  ...       3       EXATAS\n",
              "2     915288  Bartolomeu Inácio da Gama  ...       3      HUMANAS\n",
              "3     192652            Fernanda Guedes  ...       4  DIFICULDADE\n",
              "4     949491     Alessandre Borba Gomes  ...       5  DIFICULDADE\n",
              "\n",
              "[5 rows x 15 columns]"
            ]
          },
          "metadata": {
            "tags": []
          },
          "execution_count": 5
        }
      ]
    },
    {
      "cell_type": "code",
      "metadata": {
        "id": "58lUH8n2fPMT",
        "colab_type": "code",
        "colab": {
          "base_uri": "https://localhost:8080/",
          "height": 343
        },
        "outputId": "08b49140-7208-4f47-8804-342669e8b261"
      },
      "source": [
        "dados.tail(5)"
      ],
      "execution_count": 6,
      "outputs": [
        {
          "output_type": "execute_result",
          "data": {
            "text/html": [
              "<div>\n",
              "<style scoped>\n",
              "    .dataframe tbody tr th:only-of-type {\n",
              "        vertical-align: middle;\n",
              "    }\n",
              "\n",
              "    .dataframe tbody tr th {\n",
              "        vertical-align: top;\n",
              "    }\n",
              "\n",
              "    .dataframe thead th {\n",
              "        text-align: right;\n",
              "    }\n",
              "</style>\n",
              "<table border=\"1\" class=\"dataframe\">\n",
              "  <thead>\n",
              "    <tr style=\"text-align: right;\">\n",
              "      <th></th>\n",
              "      <th>MATRICULA</th>\n",
              "      <th>NOME</th>\n",
              "      <th>REPROVACOES_DE</th>\n",
              "      <th>REPROVACOES_EM</th>\n",
              "      <th>REPROVACOES_MF</th>\n",
              "      <th>REPROVACOES_GO</th>\n",
              "      <th>NOTA_DE</th>\n",
              "      <th>NOTA_EM</th>\n",
              "      <th>NOTA_MF</th>\n",
              "      <th>NOTA_GO</th>\n",
              "      <th>INGLES</th>\n",
              "      <th>H_AULA_PRES</th>\n",
              "      <th>TAREFAS_ONLINE</th>\n",
              "      <th>FALTAS</th>\n",
              "      <th>PERFIL</th>\n",
              "    </tr>\n",
              "  </thead>\n",
              "  <tbody>\n",
              "    <tr>\n",
              "      <th>19995</th>\n",
              "      <td>856673</td>\n",
              "      <td>Laércio Mário da Silva</td>\n",
              "      <td>0</td>\n",
              "      <td>0</td>\n",
              "      <td>0</td>\n",
              "      <td>0</td>\n",
              "      <td>7.0</td>\n",
              "      <td>7.9</td>\n",
              "      <td>5.8</td>\n",
              "      <td>7.0</td>\n",
              "      <td>1.0</td>\n",
              "      <td>9</td>\n",
              "      <td>5</td>\n",
              "      <td>6</td>\n",
              "      <td>EXATAS</td>\n",
              "    </tr>\n",
              "    <tr>\n",
              "      <th>19996</th>\n",
              "      <td>576100</td>\n",
              "      <td>Cibele Quésia Poza</td>\n",
              "      <td>1</td>\n",
              "      <td>1</td>\n",
              "      <td>1</td>\n",
              "      <td>1</td>\n",
              "      <td>0.0</td>\n",
              "      <td>0.0</td>\n",
              "      <td>0.0</td>\n",
              "      <td>NaN</td>\n",
              "      <td>1.0</td>\n",
              "      <td>3</td>\n",
              "      <td>2</td>\n",
              "      <td>5</td>\n",
              "      <td>DIFICULDADE</td>\n",
              "    </tr>\n",
              "    <tr>\n",
              "      <th>19997</th>\n",
              "      <td>888739</td>\n",
              "      <td>Marcielle Chale Bape</td>\n",
              "      <td>0</td>\n",
              "      <td>0</td>\n",
              "      <td>0</td>\n",
              "      <td>0</td>\n",
              "      <td>7.9</td>\n",
              "      <td>7.6</td>\n",
              "      <td>8.3</td>\n",
              "      <td>7.2</td>\n",
              "      <td>NaN</td>\n",
              "      <td>8</td>\n",
              "      <td>3</td>\n",
              "      <td>1</td>\n",
              "      <td>EXCELENTE</td>\n",
              "    </tr>\n",
              "    <tr>\n",
              "      <th>19998</th>\n",
              "      <td>722743</td>\n",
              "      <td>Suzanne Mirian Mourão</td>\n",
              "      <td>0</td>\n",
              "      <td>0</td>\n",
              "      <td>1</td>\n",
              "      <td>1</td>\n",
              "      <td>6.3</td>\n",
              "      <td>5.1</td>\n",
              "      <td>0.0</td>\n",
              "      <td>0.0</td>\n",
              "      <td>1.0</td>\n",
              "      <td>3</td>\n",
              "      <td>2</td>\n",
              "      <td>6</td>\n",
              "      <td>DIFICULDADE</td>\n",
              "    </tr>\n",
              "    <tr>\n",
              "      <th>19999</th>\n",
              "      <td>417268</td>\n",
              "      <td>Maria Isaiane da Silva Luwequisman</td>\n",
              "      <td>0</td>\n",
              "      <td>0</td>\n",
              "      <td>1</td>\n",
              "      <td>1</td>\n",
              "      <td>7.0</td>\n",
              "      <td>7.3</td>\n",
              "      <td>0.0</td>\n",
              "      <td>0.0</td>\n",
              "      <td>NaN</td>\n",
              "      <td>3</td>\n",
              "      <td>0</td>\n",
              "      <td>6</td>\n",
              "      <td>DIFICULDADE</td>\n",
              "    </tr>\n",
              "  </tbody>\n",
              "</table>\n",
              "</div>"
            ],
            "text/plain": [
              "       MATRICULA                                NOME  ...  FALTAS       PERFIL\n",
              "19995     856673              Laércio Mário da Silva  ...       6       EXATAS\n",
              "19996     576100                  Cibele Quésia Poza  ...       5  DIFICULDADE\n",
              "19997     888739                Marcielle Chale Bape  ...       1    EXCELENTE\n",
              "19998     722743               Suzanne Mirian Mourão  ...       6  DIFICULDADE\n",
              "19999     417268  Maria Isaiane da Silva Luwequisman  ...       6  DIFICULDADE\n",
              "\n",
              "[5 rows x 15 columns]"
            ]
          },
          "metadata": {
            "tags": []
          },
          "execution_count": 6
        }
      ]
    },
    {
      "cell_type": "code",
      "metadata": {
        "id": "mVowrKKJfflV",
        "colab_type": "code",
        "colab": {
          "base_uri": "https://localhost:8080/",
          "height": 1000
        },
        "outputId": "e0c45181-8401-452c-ddbf-a84d47b6187a"
      },
      "source": [
        "#Pegar uma amostra aleatória de 20 ocorrências\n",
        "dados.sample(20)"
      ],
      "execution_count": 7,
      "outputs": [
        {
          "output_type": "execute_result",
          "data": {
            "text/html": [
              "<div>\n",
              "<style scoped>\n",
              "    .dataframe tbody tr th:only-of-type {\n",
              "        vertical-align: middle;\n",
              "    }\n",
              "\n",
              "    .dataframe tbody tr th {\n",
              "        vertical-align: top;\n",
              "    }\n",
              "\n",
              "    .dataframe thead th {\n",
              "        text-align: right;\n",
              "    }\n",
              "</style>\n",
              "<table border=\"1\" class=\"dataframe\">\n",
              "  <thead>\n",
              "    <tr style=\"text-align: right;\">\n",
              "      <th></th>\n",
              "      <th>MATRICULA</th>\n",
              "      <th>NOME</th>\n",
              "      <th>REPROVACOES_DE</th>\n",
              "      <th>REPROVACOES_EM</th>\n",
              "      <th>REPROVACOES_MF</th>\n",
              "      <th>REPROVACOES_GO</th>\n",
              "      <th>NOTA_DE</th>\n",
              "      <th>NOTA_EM</th>\n",
              "      <th>NOTA_MF</th>\n",
              "      <th>NOTA_GO</th>\n",
              "      <th>INGLES</th>\n",
              "      <th>H_AULA_PRES</th>\n",
              "      <th>TAREFAS_ONLINE</th>\n",
              "      <th>FALTAS</th>\n",
              "      <th>PERFIL</th>\n",
              "    </tr>\n",
              "  </thead>\n",
              "  <tbody>\n",
              "    <tr>\n",
              "      <th>6281</th>\n",
              "      <td>624700</td>\n",
              "      <td>Ísis do Espírito Santo dos Santos</td>\n",
              "      <td>0</td>\n",
              "      <td>0</td>\n",
              "      <td>0</td>\n",
              "      <td>0</td>\n",
              "      <td>6.3</td>\n",
              "      <td>6.6</td>\n",
              "      <td>7.6</td>\n",
              "      <td>5.9</td>\n",
              "      <td>NaN</td>\n",
              "      <td>8</td>\n",
              "      <td>3</td>\n",
              "      <td>4</td>\n",
              "      <td>HUMANAS</td>\n",
              "    </tr>\n",
              "    <tr>\n",
              "      <th>14593</th>\n",
              "      <td>120146</td>\n",
              "      <td>Everton de Ortega</td>\n",
              "      <td>1</td>\n",
              "      <td>3</td>\n",
              "      <td>1</td>\n",
              "      <td>1</td>\n",
              "      <td>0.0</td>\n",
              "      <td>0.0</td>\n",
              "      <td>0.0</td>\n",
              "      <td>0.0</td>\n",
              "      <td>1.0</td>\n",
              "      <td>5</td>\n",
              "      <td>2</td>\n",
              "      <td>6</td>\n",
              "      <td>DIFICULDADE</td>\n",
              "    </tr>\n",
              "    <tr>\n",
              "      <th>7687</th>\n",
              "      <td>300726</td>\n",
              "      <td>Humberto Anakin Klein</td>\n",
              "      <td>0</td>\n",
              "      <td>0</td>\n",
              "      <td>0</td>\n",
              "      <td>0</td>\n",
              "      <td>5.2</td>\n",
              "      <td>5.8</td>\n",
              "      <td>5.3</td>\n",
              "      <td>4.2</td>\n",
              "      <td>1.0</td>\n",
              "      <td>3</td>\n",
              "      <td>2</td>\n",
              "      <td>6</td>\n",
              "      <td>DIFICULDADE</td>\n",
              "    </tr>\n",
              "    <tr>\n",
              "      <th>19033</th>\n",
              "      <td>189806</td>\n",
              "      <td>Marli Sâmia do Nascimento</td>\n",
              "      <td>0</td>\n",
              "      <td>0</td>\n",
              "      <td>0</td>\n",
              "      <td>0</td>\n",
              "      <td>5.6</td>\n",
              "      <td>6.3</td>\n",
              "      <td>6.5</td>\n",
              "      <td>5.4</td>\n",
              "      <td>0.0</td>\n",
              "      <td>2</td>\n",
              "      <td>2</td>\n",
              "      <td>6</td>\n",
              "      <td>DIFICULDADE</td>\n",
              "    </tr>\n",
              "    <tr>\n",
              "      <th>11573</th>\n",
              "      <td>609269</td>\n",
              "      <td>Eliel de Pacheco da Silva</td>\n",
              "      <td>1</td>\n",
              "      <td>1</td>\n",
              "      <td>1</td>\n",
              "      <td>1</td>\n",
              "      <td>0.0</td>\n",
              "      <td>0.0</td>\n",
              "      <td>0.0</td>\n",
              "      <td>0.0</td>\n",
              "      <td>1.0</td>\n",
              "      <td>4</td>\n",
              "      <td>0</td>\n",
              "      <td>4</td>\n",
              "      <td>DIFICULDADE</td>\n",
              "    </tr>\n",
              "    <tr>\n",
              "      <th>8758</th>\n",
              "      <td>382569</td>\n",
              "      <td>Cícero de Siqueira Barroso</td>\n",
              "      <td>0</td>\n",
              "      <td>0</td>\n",
              "      <td>0</td>\n",
              "      <td>0</td>\n",
              "      <td>5.7</td>\n",
              "      <td>5.7</td>\n",
              "      <td>6.4</td>\n",
              "      <td>NaN</td>\n",
              "      <td>1.0</td>\n",
              "      <td>4</td>\n",
              "      <td>1</td>\n",
              "      <td>6</td>\n",
              "      <td>EXATAS</td>\n",
              "    </tr>\n",
              "    <tr>\n",
              "      <th>17420</th>\n",
              "      <td>438325</td>\n",
              "      <td>Beto Fabiano da Silva</td>\n",
              "      <td>0</td>\n",
              "      <td>0</td>\n",
              "      <td>0</td>\n",
              "      <td>0</td>\n",
              "      <td>6.5</td>\n",
              "      <td>6.4</td>\n",
              "      <td>5.1</td>\n",
              "      <td>NaN</td>\n",
              "      <td>0.0</td>\n",
              "      <td>2</td>\n",
              "      <td>5</td>\n",
              "      <td>4</td>\n",
              "      <td>EXATAS</td>\n",
              "    </tr>\n",
              "    <tr>\n",
              "      <th>16977</th>\n",
              "      <td>823379</td>\n",
              "      <td>Vinícius Uzanea</td>\n",
              "      <td>1</td>\n",
              "      <td>3</td>\n",
              "      <td>3</td>\n",
              "      <td>3</td>\n",
              "      <td>0.0</td>\n",
              "      <td>0.0</td>\n",
              "      <td>0.0</td>\n",
              "      <td>0.0</td>\n",
              "      <td>1.0</td>\n",
              "      <td>4</td>\n",
              "      <td>1</td>\n",
              "      <td>4</td>\n",
              "      <td>DIFICULDADE</td>\n",
              "    </tr>\n",
              "    <tr>\n",
              "      <th>17774</th>\n",
              "      <td>595092</td>\n",
              "      <td>Denis Renato Kiumison Brasil</td>\n",
              "      <td>0</td>\n",
              "      <td>0</td>\n",
              "      <td>0</td>\n",
              "      <td>0</td>\n",
              "      <td>5.6</td>\n",
              "      <td>6.4</td>\n",
              "      <td>5.0</td>\n",
              "      <td>5.4</td>\n",
              "      <td>1.0</td>\n",
              "      <td>4</td>\n",
              "      <td>5</td>\n",
              "      <td>4</td>\n",
              "      <td>EXATAS</td>\n",
              "    </tr>\n",
              "    <tr>\n",
              "      <th>5188</th>\n",
              "      <td>584034</td>\n",
              "      <td>Karin Coli Tele</td>\n",
              "      <td>0</td>\n",
              "      <td>0</td>\n",
              "      <td>0</td>\n",
              "      <td>0</td>\n",
              "      <td>5.9</td>\n",
              "      <td>5.7</td>\n",
              "      <td>6.1</td>\n",
              "      <td>6.0</td>\n",
              "      <td>1.0</td>\n",
              "      <td>0</td>\n",
              "      <td>2</td>\n",
              "      <td>6</td>\n",
              "      <td>DIFICULDADE</td>\n",
              "    </tr>\n",
              "    <tr>\n",
              "      <th>4052</th>\n",
              "      <td>553363</td>\n",
              "      <td>Demilson Marinho</td>\n",
              "      <td>0</td>\n",
              "      <td>0</td>\n",
              "      <td>0</td>\n",
              "      <td>0</td>\n",
              "      <td>5.7</td>\n",
              "      <td>5.4</td>\n",
              "      <td>5.5</td>\n",
              "      <td>4.9</td>\n",
              "      <td>NaN</td>\n",
              "      <td>3</td>\n",
              "      <td>2</td>\n",
              "      <td>6</td>\n",
              "      <td>EXATAS</td>\n",
              "    </tr>\n",
              "    <tr>\n",
              "      <th>9304</th>\n",
              "      <td>444493</td>\n",
              "      <td>Osório de Siqueira Júnior</td>\n",
              "      <td>0</td>\n",
              "      <td>0</td>\n",
              "      <td>0</td>\n",
              "      <td>0</td>\n",
              "      <td>6.3</td>\n",
              "      <td>6.6</td>\n",
              "      <td>7.1</td>\n",
              "      <td>6.7</td>\n",
              "      <td>0.0</td>\n",
              "      <td>13</td>\n",
              "      <td>5</td>\n",
              "      <td>3</td>\n",
              "      <td>HUMANAS</td>\n",
              "    </tr>\n",
              "    <tr>\n",
              "      <th>2934</th>\n",
              "      <td>125558</td>\n",
              "      <td>Quirino Oséas Moreno do Maranhão Neto</td>\n",
              "      <td>0</td>\n",
              "      <td>0</td>\n",
              "      <td>0</td>\n",
              "      <td>0</td>\n",
              "      <td>6.9</td>\n",
              "      <td>6.4</td>\n",
              "      <td>6.7</td>\n",
              "      <td>NaN</td>\n",
              "      <td>NaN</td>\n",
              "      <td>10</td>\n",
              "      <td>5</td>\n",
              "      <td>3</td>\n",
              "      <td>HUMANAS</td>\n",
              "    </tr>\n",
              "    <tr>\n",
              "      <th>3499</th>\n",
              "      <td>970448</td>\n",
              "      <td>Talita de Souza Josqui</td>\n",
              "      <td>1</td>\n",
              "      <td>1</td>\n",
              "      <td>1</td>\n",
              "      <td>3</td>\n",
              "      <td>0.0</td>\n",
              "      <td>0.0</td>\n",
              "      <td>0.0</td>\n",
              "      <td>0.0</td>\n",
              "      <td>1.0</td>\n",
              "      <td>3</td>\n",
              "      <td>2</td>\n",
              "      <td>6</td>\n",
              "      <td>DIFICULDADE</td>\n",
              "    </tr>\n",
              "    <tr>\n",
              "      <th>13048</th>\n",
              "      <td>518718</td>\n",
              "      <td>Lena de Souza da Silva</td>\n",
              "      <td>0</td>\n",
              "      <td>0</td>\n",
              "      <td>0</td>\n",
              "      <td>0</td>\n",
              "      <td>5.4</td>\n",
              "      <td>5.3</td>\n",
              "      <td>6.0</td>\n",
              "      <td>5.3</td>\n",
              "      <td>1.0</td>\n",
              "      <td>5</td>\n",
              "      <td>5</td>\n",
              "      <td>2</td>\n",
              "      <td>EXATAS</td>\n",
              "    </tr>\n",
              "    <tr>\n",
              "      <th>878</th>\n",
              "      <td>313429</td>\n",
              "      <td>Marco de Sá Posefuda</td>\n",
              "      <td>0</td>\n",
              "      <td>0</td>\n",
              "      <td>0</td>\n",
              "      <td>0</td>\n",
              "      <td>5.5</td>\n",
              "      <td>5.2</td>\n",
              "      <td>5.0</td>\n",
              "      <td>5.0</td>\n",
              "      <td>NaN</td>\n",
              "      <td>12</td>\n",
              "      <td>2</td>\n",
              "      <td>5</td>\n",
              "      <td>EXATAS</td>\n",
              "    </tr>\n",
              "    <tr>\n",
              "      <th>11658</th>\n",
              "      <td>761881</td>\n",
              "      <td>Isac do Vale</td>\n",
              "      <td>0</td>\n",
              "      <td>0</td>\n",
              "      <td>0</td>\n",
              "      <td>0</td>\n",
              "      <td>5.8</td>\n",
              "      <td>5.2</td>\n",
              "      <td>5.6</td>\n",
              "      <td>5.1</td>\n",
              "      <td>0.0</td>\n",
              "      <td>6</td>\n",
              "      <td>7</td>\n",
              "      <td>4</td>\n",
              "      <td>DIFICULDADE</td>\n",
              "    </tr>\n",
              "    <tr>\n",
              "      <th>9858</th>\n",
              "      <td>741110</td>\n",
              "      <td>João Reginaldo Floleman Dias</td>\n",
              "      <td>0</td>\n",
              "      <td>0</td>\n",
              "      <td>0</td>\n",
              "      <td>0</td>\n",
              "      <td>6.5</td>\n",
              "      <td>5.5</td>\n",
              "      <td>6.6</td>\n",
              "      <td>5.2</td>\n",
              "      <td>NaN</td>\n",
              "      <td>5</td>\n",
              "      <td>2</td>\n",
              "      <td>4</td>\n",
              "      <td>HUMANAS</td>\n",
              "    </tr>\n",
              "    <tr>\n",
              "      <th>9504</th>\n",
              "      <td>646127</td>\n",
              "      <td>Mariano Milton de Abreu</td>\n",
              "      <td>0</td>\n",
              "      <td>0</td>\n",
              "      <td>0</td>\n",
              "      <td>0</td>\n",
              "      <td>6.3</td>\n",
              "      <td>6.2</td>\n",
              "      <td>7.4</td>\n",
              "      <td>NaN</td>\n",
              "      <td>1.0</td>\n",
              "      <td>5</td>\n",
              "      <td>5</td>\n",
              "      <td>3</td>\n",
              "      <td>HUMANAS</td>\n",
              "    </tr>\n",
              "    <tr>\n",
              "      <th>10891</th>\n",
              "      <td>640868</td>\n",
              "      <td>Fabiano Celso Irnni</td>\n",
              "      <td>0</td>\n",
              "      <td>0</td>\n",
              "      <td>0</td>\n",
              "      <td>0</td>\n",
              "      <td>4.8</td>\n",
              "      <td>5.2</td>\n",
              "      <td>5.9</td>\n",
              "      <td>5.1</td>\n",
              "      <td>NaN</td>\n",
              "      <td>5</td>\n",
              "      <td>3</td>\n",
              "      <td>5</td>\n",
              "      <td>DIFICULDADE</td>\n",
              "    </tr>\n",
              "  </tbody>\n",
              "</table>\n",
              "</div>"
            ],
            "text/plain": [
              "       MATRICULA                                   NOME  ...  FALTAS       PERFIL\n",
              "6281      624700      Ísis do Espírito Santo dos Santos  ...       4      HUMANAS\n",
              "14593     120146                      Everton de Ortega  ...       6  DIFICULDADE\n",
              "7687      300726                  Humberto Anakin Klein  ...       6  DIFICULDADE\n",
              "19033     189806              Marli Sâmia do Nascimento  ...       6  DIFICULDADE\n",
              "11573     609269              Eliel de Pacheco da Silva  ...       4  DIFICULDADE\n",
              "8758      382569             Cícero de Siqueira Barroso  ...       6       EXATAS\n",
              "17420     438325                  Beto Fabiano da Silva  ...       4       EXATAS\n",
              "16977     823379                        Vinícius Uzanea  ...       4  DIFICULDADE\n",
              "17774     595092           Denis Renato Kiumison Brasil  ...       4       EXATAS\n",
              "5188      584034                        Karin Coli Tele  ...       6  DIFICULDADE\n",
              "4052      553363                       Demilson Marinho  ...       6       EXATAS\n",
              "9304      444493              Osório de Siqueira Júnior  ...       3      HUMANAS\n",
              "2934      125558  Quirino Oséas Moreno do Maranhão Neto  ...       3      HUMANAS\n",
              "3499      970448                 Talita de Souza Josqui  ...       6  DIFICULDADE\n",
              "13048     518718                 Lena de Souza da Silva  ...       2       EXATAS\n",
              "878       313429                   Marco de Sá Posefuda  ...       5       EXATAS\n",
              "11658     761881                           Isac do Vale  ...       4  DIFICULDADE\n",
              "9858      741110           João Reginaldo Floleman Dias  ...       4      HUMANAS\n",
              "9504      646127                Mariano Milton de Abreu  ...       3      HUMANAS\n",
              "10891     640868                    Fabiano Celso Irnni  ...       5  DIFICULDADE\n",
              "\n",
              "[20 rows x 15 columns]"
            ]
          },
          "metadata": {
            "tags": []
          },
          "execution_count": 7
        }
      ]
    },
    {
      "cell_type": "code",
      "metadata": {
        "id": "YAz8VwQaf2cY",
        "colab_type": "code",
        "colab": {
          "base_uri": "https://localhost:8080/",
          "height": 1000
        },
        "outputId": "667bb1e1-77df-443a-e3b9-023e991e7478"
      },
      "source": [
        "#Para que essa amostra seja sempre a mesma. Importante para quando quisermos\n",
        "#fazer várias coisas com a mesma amostra\n",
        "dados.sample(50, random_state=None)"
      ],
      "execution_count": 8,
      "outputs": [
        {
          "output_type": "execute_result",
          "data": {
            "text/html": [
              "<div>\n",
              "<style scoped>\n",
              "    .dataframe tbody tr th:only-of-type {\n",
              "        vertical-align: middle;\n",
              "    }\n",
              "\n",
              "    .dataframe tbody tr th {\n",
              "        vertical-align: top;\n",
              "    }\n",
              "\n",
              "    .dataframe thead th {\n",
              "        text-align: right;\n",
              "    }\n",
              "</style>\n",
              "<table border=\"1\" class=\"dataframe\">\n",
              "  <thead>\n",
              "    <tr style=\"text-align: right;\">\n",
              "      <th></th>\n",
              "      <th>MATRICULA</th>\n",
              "      <th>NOME</th>\n",
              "      <th>REPROVACOES_DE</th>\n",
              "      <th>REPROVACOES_EM</th>\n",
              "      <th>REPROVACOES_MF</th>\n",
              "      <th>REPROVACOES_GO</th>\n",
              "      <th>NOTA_DE</th>\n",
              "      <th>NOTA_EM</th>\n",
              "      <th>NOTA_MF</th>\n",
              "      <th>NOTA_GO</th>\n",
              "      <th>INGLES</th>\n",
              "      <th>H_AULA_PRES</th>\n",
              "      <th>TAREFAS_ONLINE</th>\n",
              "      <th>FALTAS</th>\n",
              "      <th>PERFIL</th>\n",
              "    </tr>\n",
              "  </thead>\n",
              "  <tbody>\n",
              "    <tr>\n",
              "      <th>3169</th>\n",
              "      <td>250548</td>\n",
              "      <td>Kiara Fontes</td>\n",
              "      <td>0</td>\n",
              "      <td>0</td>\n",
              "      <td>0</td>\n",
              "      <td>0</td>\n",
              "      <td>4.9</td>\n",
              "      <td>5.1</td>\n",
              "      <td>5.7</td>\n",
              "      <td>5.4</td>\n",
              "      <td>1.0</td>\n",
              "      <td>3</td>\n",
              "      <td>2</td>\n",
              "      <td>6</td>\n",
              "      <td>EXATAS</td>\n",
              "    </tr>\n",
              "    <tr>\n",
              "      <th>10465</th>\n",
              "      <td>763214</td>\n",
              "      <td>Ivan Hugo Zoyado Dolaomgil</td>\n",
              "      <td>0</td>\n",
              "      <td>0</td>\n",
              "      <td>0</td>\n",
              "      <td>0</td>\n",
              "      <td>5.7</td>\n",
              "      <td>6.7</td>\n",
              "      <td>6.3</td>\n",
              "      <td>5.3</td>\n",
              "      <td>1.0</td>\n",
              "      <td>5</td>\n",
              "      <td>5</td>\n",
              "      <td>2</td>\n",
              "      <td>EXATAS</td>\n",
              "    </tr>\n",
              "    <tr>\n",
              "      <th>13701</th>\n",
              "      <td>341913</td>\n",
              "      <td>Décio de Viana</td>\n",
              "      <td>0</td>\n",
              "      <td>0</td>\n",
              "      <td>0</td>\n",
              "      <td>0</td>\n",
              "      <td>5.2</td>\n",
              "      <td>5.7</td>\n",
              "      <td>5.0</td>\n",
              "      <td>4.5</td>\n",
              "      <td>0.0</td>\n",
              "      <td>5</td>\n",
              "      <td>3</td>\n",
              "      <td>5</td>\n",
              "      <td>DIFICULDADE</td>\n",
              "    </tr>\n",
              "    <tr>\n",
              "      <th>13860</th>\n",
              "      <td>641454</td>\n",
              "      <td>Estevão Juliano de Oliveira da Paraíba</td>\n",
              "      <td>0</td>\n",
              "      <td>0</td>\n",
              "      <td>0</td>\n",
              "      <td>0</td>\n",
              "      <td>4.9</td>\n",
              "      <td>6.1</td>\n",
              "      <td>7.2</td>\n",
              "      <td>6.5</td>\n",
              "      <td>1.0</td>\n",
              "      <td>12</td>\n",
              "      <td>0</td>\n",
              "      <td>3</td>\n",
              "      <td>HUMANAS</td>\n",
              "    </tr>\n",
              "    <tr>\n",
              "      <th>2210</th>\n",
              "      <td>591386</td>\n",
              "      <td>Pablo Leopoldo Dlipieão de Pinheiro</td>\n",
              "      <td>1</td>\n",
              "      <td>1</td>\n",
              "      <td>1</td>\n",
              "      <td>1</td>\n",
              "      <td>0.0</td>\n",
              "      <td>0.0</td>\n",
              "      <td>0.0</td>\n",
              "      <td>0.0</td>\n",
              "      <td>1.0</td>\n",
              "      <td>6</td>\n",
              "      <td>2</td>\n",
              "      <td>3</td>\n",
              "      <td>DIFICULDADE</td>\n",
              "    </tr>\n",
              "    <tr>\n",
              "      <th>17867</th>\n",
              "      <td>582352</td>\n",
              "      <td>Raiane da Encarnação</td>\n",
              "      <td>0</td>\n",
              "      <td>0</td>\n",
              "      <td>0</td>\n",
              "      <td>0</td>\n",
              "      <td>7.3</td>\n",
              "      <td>7.0</td>\n",
              "      <td>6.1</td>\n",
              "      <td>6.5</td>\n",
              "      <td>NaN</td>\n",
              "      <td>2</td>\n",
              "      <td>5</td>\n",
              "      <td>3</td>\n",
              "      <td>MUITO_BOM</td>\n",
              "    </tr>\n",
              "    <tr>\n",
              "      <th>588</th>\n",
              "      <td>906872</td>\n",
              "      <td>Marielle dos Santos</td>\n",
              "      <td>0</td>\n",
              "      <td>0</td>\n",
              "      <td>0</td>\n",
              "      <td>0</td>\n",
              "      <td>6.9</td>\n",
              "      <td>7.2</td>\n",
              "      <td>5.0</td>\n",
              "      <td>5.7</td>\n",
              "      <td>1.0</td>\n",
              "      <td>2</td>\n",
              "      <td>2</td>\n",
              "      <td>3</td>\n",
              "      <td>EXATAS</td>\n",
              "    </tr>\n",
              "    <tr>\n",
              "      <th>19517</th>\n",
              "      <td>271568</td>\n",
              "      <td>Rodrigo de Souza Eppo</td>\n",
              "      <td>0</td>\n",
              "      <td>0</td>\n",
              "      <td>0</td>\n",
              "      <td>0</td>\n",
              "      <td>6.3</td>\n",
              "      <td>5.8</td>\n",
              "      <td>5.2</td>\n",
              "      <td>6.1</td>\n",
              "      <td>0.0</td>\n",
              "      <td>3</td>\n",
              "      <td>3</td>\n",
              "      <td>3</td>\n",
              "      <td>EXATAS</td>\n",
              "    </tr>\n",
              "    <tr>\n",
              "      <th>567</th>\n",
              "      <td>449061</td>\n",
              "      <td>Karin Poiã</td>\n",
              "      <td>0</td>\n",
              "      <td>0</td>\n",
              "      <td>0</td>\n",
              "      <td>0</td>\n",
              "      <td>6.3</td>\n",
              "      <td>5.3</td>\n",
              "      <td>5.8</td>\n",
              "      <td>NaN</td>\n",
              "      <td>NaN</td>\n",
              "      <td>3</td>\n",
              "      <td>4</td>\n",
              "      <td>3</td>\n",
              "      <td>EXATAS</td>\n",
              "    </tr>\n",
              "    <tr>\n",
              "      <th>15189</th>\n",
              "      <td>418840</td>\n",
              "      <td>Laércio Barroso Werner</td>\n",
              "      <td>0</td>\n",
              "      <td>0</td>\n",
              "      <td>0</td>\n",
              "      <td>0</td>\n",
              "      <td>6.1</td>\n",
              "      <td>5.6</td>\n",
              "      <td>6.2</td>\n",
              "      <td>5.8</td>\n",
              "      <td>1.0</td>\n",
              "      <td>4</td>\n",
              "      <td>2</td>\n",
              "      <td>5</td>\n",
              "      <td>EXATAS</td>\n",
              "    </tr>\n",
              "    <tr>\n",
              "      <th>11337</th>\n",
              "      <td>573229</td>\n",
              "      <td>Flávio Renato Branco Panebo</td>\n",
              "      <td>0</td>\n",
              "      <td>0</td>\n",
              "      <td>0</td>\n",
              "      <td>0</td>\n",
              "      <td>7.1</td>\n",
              "      <td>7.1</td>\n",
              "      <td>6.0</td>\n",
              "      <td>5.6</td>\n",
              "      <td>0.0</td>\n",
              "      <td>4</td>\n",
              "      <td>5</td>\n",
              "      <td>3</td>\n",
              "      <td>EXATAS</td>\n",
              "    </tr>\n",
              "    <tr>\n",
              "      <th>207</th>\n",
              "      <td>561340</td>\n",
              "      <td>Priscila Tatiane da Silva</td>\n",
              "      <td>0</td>\n",
              "      <td>0</td>\n",
              "      <td>0</td>\n",
              "      <td>0</td>\n",
              "      <td>6.8</td>\n",
              "      <td>7.0</td>\n",
              "      <td>7.4</td>\n",
              "      <td>5.7</td>\n",
              "      <td>1.0</td>\n",
              "      <td>2</td>\n",
              "      <td>2</td>\n",
              "      <td>5</td>\n",
              "      <td>HUMANAS</td>\n",
              "    </tr>\n",
              "    <tr>\n",
              "      <th>6177</th>\n",
              "      <td>292301</td>\n",
              "      <td>Milene Couto</td>\n",
              "      <td>0</td>\n",
              "      <td>0</td>\n",
              "      <td>0</td>\n",
              "      <td>0</td>\n",
              "      <td>5.7</td>\n",
              "      <td>5.8</td>\n",
              "      <td>5.4</td>\n",
              "      <td>4.8</td>\n",
              "      <td>0.0</td>\n",
              "      <td>1</td>\n",
              "      <td>3</td>\n",
              "      <td>3</td>\n",
              "      <td>DIFICULDADE</td>\n",
              "    </tr>\n",
              "    <tr>\n",
              "      <th>7148</th>\n",
              "      <td>173117</td>\n",
              "      <td>Maria de Madureira</td>\n",
              "      <td>0</td>\n",
              "      <td>0</td>\n",
              "      <td>0</td>\n",
              "      <td>0</td>\n",
              "      <td>6.6</td>\n",
              "      <td>6.1</td>\n",
              "      <td>5.7</td>\n",
              "      <td>6.2</td>\n",
              "      <td>1.0</td>\n",
              "      <td>10</td>\n",
              "      <td>5</td>\n",
              "      <td>3</td>\n",
              "      <td>EXATAS</td>\n",
              "    </tr>\n",
              "    <tr>\n",
              "      <th>8145</th>\n",
              "      <td>100022</td>\n",
              "      <td>Ricardo de Souza Fezpe</td>\n",
              "      <td>0</td>\n",
              "      <td>0</td>\n",
              "      <td>0</td>\n",
              "      <td>0</td>\n",
              "      <td>6.1</td>\n",
              "      <td>5.3</td>\n",
              "      <td>6.1</td>\n",
              "      <td>4.9</td>\n",
              "      <td>0.0</td>\n",
              "      <td>3</td>\n",
              "      <td>1</td>\n",
              "      <td>7</td>\n",
              "      <td>EXATAS</td>\n",
              "    </tr>\n",
              "    <tr>\n",
              "      <th>16008</th>\n",
              "      <td>506049</td>\n",
              "      <td>Cristiane Tristão</td>\n",
              "      <td>0</td>\n",
              "      <td>0</td>\n",
              "      <td>0</td>\n",
              "      <td>0</td>\n",
              "      <td>5.2</td>\n",
              "      <td>5.6</td>\n",
              "      <td>5.5</td>\n",
              "      <td>5.0</td>\n",
              "      <td>1.0</td>\n",
              "      <td>4</td>\n",
              "      <td>5</td>\n",
              "      <td>3</td>\n",
              "      <td>DIFICULDADE</td>\n",
              "    </tr>\n",
              "    <tr>\n",
              "      <th>664</th>\n",
              "      <td>643139</td>\n",
              "      <td>Cristiane da Silva</td>\n",
              "      <td>0</td>\n",
              "      <td>0</td>\n",
              "      <td>0</td>\n",
              "      <td>0</td>\n",
              "      <td>7.5</td>\n",
              "      <td>7.4</td>\n",
              "      <td>7.2</td>\n",
              "      <td>6.8</td>\n",
              "      <td>1.0</td>\n",
              "      <td>10</td>\n",
              "      <td>6</td>\n",
              "      <td>4</td>\n",
              "      <td>MUITO_BOM</td>\n",
              "    </tr>\n",
              "    <tr>\n",
              "      <th>4427</th>\n",
              "      <td>200410</td>\n",
              "      <td>Laura de Ayres</td>\n",
              "      <td>0</td>\n",
              "      <td>0</td>\n",
              "      <td>0</td>\n",
              "      <td>0</td>\n",
              "      <td>5.4</td>\n",
              "      <td>6.2</td>\n",
              "      <td>8.7</td>\n",
              "      <td>5.6</td>\n",
              "      <td>NaN</td>\n",
              "      <td>2</td>\n",
              "      <td>5</td>\n",
              "      <td>3</td>\n",
              "      <td>HUMANAS</td>\n",
              "    </tr>\n",
              "    <tr>\n",
              "      <th>5056</th>\n",
              "      <td>311521</td>\n",
              "      <td>Décio Fred de Oliveira</td>\n",
              "      <td>0</td>\n",
              "      <td>0</td>\n",
              "      <td>0</td>\n",
              "      <td>0</td>\n",
              "      <td>5.0</td>\n",
              "      <td>5.9</td>\n",
              "      <td>4.8</td>\n",
              "      <td>5.7</td>\n",
              "      <td>0.0</td>\n",
              "      <td>2</td>\n",
              "      <td>5</td>\n",
              "      <td>5</td>\n",
              "      <td>DIFICULDADE</td>\n",
              "    </tr>\n",
              "    <tr>\n",
              "      <th>12519</th>\n",
              "      <td>608625</td>\n",
              "      <td>Flávio Wally Zudegipu do Maranhão</td>\n",
              "      <td>0</td>\n",
              "      <td>0</td>\n",
              "      <td>0</td>\n",
              "      <td>0</td>\n",
              "      <td>7.2</td>\n",
              "      <td>7.5</td>\n",
              "      <td>7.2</td>\n",
              "      <td>6.7</td>\n",
              "      <td>1.0</td>\n",
              "      <td>15</td>\n",
              "      <td>5</td>\n",
              "      <td>2</td>\n",
              "      <td>HUMANAS</td>\n",
              "    </tr>\n",
              "    <tr>\n",
              "      <th>6107</th>\n",
              "      <td>444605</td>\n",
              "      <td>Kauê Danilo Elbornozan</td>\n",
              "      <td>0</td>\n",
              "      <td>0</td>\n",
              "      <td>0</td>\n",
              "      <td>0</td>\n",
              "      <td>6.5</td>\n",
              "      <td>6.8</td>\n",
              "      <td>6.9</td>\n",
              "      <td>6.9</td>\n",
              "      <td>0.0</td>\n",
              "      <td>3</td>\n",
              "      <td>6</td>\n",
              "      <td>2</td>\n",
              "      <td>DIFICULDADE</td>\n",
              "    </tr>\n",
              "    <tr>\n",
              "      <th>6033</th>\n",
              "      <td>361966</td>\n",
              "      <td>Jeniffer de Holanda Eorn do Rio</td>\n",
              "      <td>1</td>\n",
              "      <td>3</td>\n",
              "      <td>1</td>\n",
              "      <td>1</td>\n",
              "      <td>0.0</td>\n",
              "      <td>0.0</td>\n",
              "      <td>0.0</td>\n",
              "      <td>0.0</td>\n",
              "      <td>1.0</td>\n",
              "      <td>8</td>\n",
              "      <td>2</td>\n",
              "      <td>5</td>\n",
              "      <td>DIFICULDADE</td>\n",
              "    </tr>\n",
              "    <tr>\n",
              "      <th>19064</th>\n",
              "      <td>922308</td>\n",
              "      <td>Rosimeire Jussara de Oliveira Poamazy</td>\n",
              "      <td>1</td>\n",
              "      <td>1</td>\n",
              "      <td>1</td>\n",
              "      <td>1</td>\n",
              "      <td>0.0</td>\n",
              "      <td>0.0</td>\n",
              "      <td>0.0</td>\n",
              "      <td>0.0</td>\n",
              "      <td>NaN</td>\n",
              "      <td>5</td>\n",
              "      <td>6</td>\n",
              "      <td>5</td>\n",
              "      <td>DIFICULDADE</td>\n",
              "    </tr>\n",
              "    <tr>\n",
              "      <th>5292</th>\n",
              "      <td>967703</td>\n",
              "      <td>Maria da Silva</td>\n",
              "      <td>0</td>\n",
              "      <td>0</td>\n",
              "      <td>0</td>\n",
              "      <td>0</td>\n",
              "      <td>7.2</td>\n",
              "      <td>7.1</td>\n",
              "      <td>8.5</td>\n",
              "      <td>NaN</td>\n",
              "      <td>1.0</td>\n",
              "      <td>4</td>\n",
              "      <td>4</td>\n",
              "      <td>2</td>\n",
              "      <td>EXCELENTE</td>\n",
              "    </tr>\n",
              "    <tr>\n",
              "      <th>16753</th>\n",
              "      <td>566175</td>\n",
              "      <td>Paulo Marcelo Shinezumi da Silva</td>\n",
              "      <td>0</td>\n",
              "      <td>0</td>\n",
              "      <td>3</td>\n",
              "      <td>1</td>\n",
              "      <td>6.0</td>\n",
              "      <td>6.6</td>\n",
              "      <td>0.0</td>\n",
              "      <td>NaN</td>\n",
              "      <td>1.0</td>\n",
              "      <td>2</td>\n",
              "      <td>3</td>\n",
              "      <td>3</td>\n",
              "      <td>DIFICULDADE</td>\n",
              "    </tr>\n",
              "    <tr>\n",
              "      <th>11490</th>\n",
              "      <td>920969</td>\n",
              "      <td>Josiane de Pimentel</td>\n",
              "      <td>0</td>\n",
              "      <td>0</td>\n",
              "      <td>0</td>\n",
              "      <td>0</td>\n",
              "      <td>6.0</td>\n",
              "      <td>5.8</td>\n",
              "      <td>5.8</td>\n",
              "      <td>NaN</td>\n",
              "      <td>NaN</td>\n",
              "      <td>3</td>\n",
              "      <td>0</td>\n",
              "      <td>8</td>\n",
              "      <td>EXATAS</td>\n",
              "    </tr>\n",
              "    <tr>\n",
              "      <th>7044</th>\n",
              "      <td>883510</td>\n",
              "      <td>Osório da Conceição Moui</td>\n",
              "      <td>0</td>\n",
              "      <td>0</td>\n",
              "      <td>0</td>\n",
              "      <td>0</td>\n",
              "      <td>5.7</td>\n",
              "      <td>4.7</td>\n",
              "      <td>5.5</td>\n",
              "      <td>4.9</td>\n",
              "      <td>1.0</td>\n",
              "      <td>2</td>\n",
              "      <td>2</td>\n",
              "      <td>5</td>\n",
              "      <td>EXATAS</td>\n",
              "    </tr>\n",
              "    <tr>\n",
              "      <th>5428</th>\n",
              "      <td>101040</td>\n",
              "      <td>Magali Sabrina Mercado</td>\n",
              "      <td>0</td>\n",
              "      <td>0</td>\n",
              "      <td>0</td>\n",
              "      <td>0</td>\n",
              "      <td>6.4</td>\n",
              "      <td>7.2</td>\n",
              "      <td>7.7</td>\n",
              "      <td>6.0</td>\n",
              "      <td>0.0</td>\n",
              "      <td>4</td>\n",
              "      <td>4</td>\n",
              "      <td>3</td>\n",
              "      <td>HUMANAS</td>\n",
              "    </tr>\n",
              "    <tr>\n",
              "      <th>15952</th>\n",
              "      <td>777914</td>\n",
              "      <td>Sheila Ahiztoão de Arantes</td>\n",
              "      <td>0</td>\n",
              "      <td>0</td>\n",
              "      <td>0</td>\n",
              "      <td>0</td>\n",
              "      <td>6.7</td>\n",
              "      <td>6.5</td>\n",
              "      <td>5.9</td>\n",
              "      <td>5.7</td>\n",
              "      <td>0.0</td>\n",
              "      <td>6</td>\n",
              "      <td>4</td>\n",
              "      <td>3</td>\n",
              "      <td>EXATAS</td>\n",
              "    </tr>\n",
              "    <tr>\n",
              "      <th>10165</th>\n",
              "      <td>269621</td>\n",
              "      <td>Ediane Rosana Fortes Bahia</td>\n",
              "      <td>1</td>\n",
              "      <td>1</td>\n",
              "      <td>1</td>\n",
              "      <td>3</td>\n",
              "      <td>0.0</td>\n",
              "      <td>0.0</td>\n",
              "      <td>0.0</td>\n",
              "      <td>NaN</td>\n",
              "      <td>1.0</td>\n",
              "      <td>4</td>\n",
              "      <td>3</td>\n",
              "      <td>4</td>\n",
              "      <td>DIFICULDADE</td>\n",
              "    </tr>\n",
              "    <tr>\n",
              "      <th>11648</th>\n",
              "      <td>755833</td>\n",
              "      <td>Andréia de Peres</td>\n",
              "      <td>0</td>\n",
              "      <td>0</td>\n",
              "      <td>0</td>\n",
              "      <td>0</td>\n",
              "      <td>7.0</td>\n",
              "      <td>6.3</td>\n",
              "      <td>9.3</td>\n",
              "      <td>NaN</td>\n",
              "      <td>0.0</td>\n",
              "      <td>10</td>\n",
              "      <td>2</td>\n",
              "      <td>1</td>\n",
              "      <td>HUMANAS</td>\n",
              "    </tr>\n",
              "    <tr>\n",
              "      <th>14281</th>\n",
              "      <td>949044</td>\n",
              "      <td>Quirino de Oliveira Barroso</td>\n",
              "      <td>0</td>\n",
              "      <td>0</td>\n",
              "      <td>0</td>\n",
              "      <td>0</td>\n",
              "      <td>7.0</td>\n",
              "      <td>7.3</td>\n",
              "      <td>7.4</td>\n",
              "      <td>6.4</td>\n",
              "      <td>0.0</td>\n",
              "      <td>7</td>\n",
              "      <td>3</td>\n",
              "      <td>3</td>\n",
              "      <td>HUMANAS</td>\n",
              "    </tr>\n",
              "    <tr>\n",
              "      <th>6442</th>\n",
              "      <td>117935</td>\n",
              "      <td>Everaldo Roberto de Souza dos Santos</td>\n",
              "      <td>0</td>\n",
              "      <td>0</td>\n",
              "      <td>0</td>\n",
              "      <td>0</td>\n",
              "      <td>6.4</td>\n",
              "      <td>6.1</td>\n",
              "      <td>5.8</td>\n",
              "      <td>NaN</td>\n",
              "      <td>0.0</td>\n",
              "      <td>0</td>\n",
              "      <td>0</td>\n",
              "      <td>3</td>\n",
              "      <td>EXATAS</td>\n",
              "    </tr>\n",
              "    <tr>\n",
              "      <th>18037</th>\n",
              "      <td>447874</td>\n",
              "      <td>Rose Michi</td>\n",
              "      <td>1</td>\n",
              "      <td>1</td>\n",
              "      <td>1</td>\n",
              "      <td>1</td>\n",
              "      <td>0.0</td>\n",
              "      <td>0.0</td>\n",
              "      <td>0.0</td>\n",
              "      <td>NaN</td>\n",
              "      <td>1.0</td>\n",
              "      <td>5</td>\n",
              "      <td>3</td>\n",
              "      <td>5</td>\n",
              "      <td>DIFICULDADE</td>\n",
              "    </tr>\n",
              "    <tr>\n",
              "      <th>9136</th>\n",
              "      <td>400276</td>\n",
              "      <td>Marco Arnaldo Cluzlelã</td>\n",
              "      <td>0</td>\n",
              "      <td>0</td>\n",
              "      <td>0</td>\n",
              "      <td>0</td>\n",
              "      <td>6.0</td>\n",
              "      <td>6.0</td>\n",
              "      <td>5.4</td>\n",
              "      <td>5.5</td>\n",
              "      <td>0.0</td>\n",
              "      <td>5</td>\n",
              "      <td>4</td>\n",
              "      <td>4</td>\n",
              "      <td>EXATAS</td>\n",
              "    </tr>\n",
              "    <tr>\n",
              "      <th>13611</th>\n",
              "      <td>430905</td>\n",
              "      <td>Clarice Ângela Korinede de Souza da Encarnação</td>\n",
              "      <td>1</td>\n",
              "      <td>1</td>\n",
              "      <td>1</td>\n",
              "      <td>1</td>\n",
              "      <td>0.0</td>\n",
              "      <td>0.0</td>\n",
              "      <td>0.0</td>\n",
              "      <td>0.0</td>\n",
              "      <td>1.0</td>\n",
              "      <td>5</td>\n",
              "      <td>2</td>\n",
              "      <td>6</td>\n",
              "      <td>DIFICULDADE</td>\n",
              "    </tr>\n",
              "    <tr>\n",
              "      <th>7983</th>\n",
              "      <td>563810</td>\n",
              "      <td>Carla de Ayres Góis</td>\n",
              "      <td>3</td>\n",
              "      <td>1</td>\n",
              "      <td>1</td>\n",
              "      <td>3</td>\n",
              "      <td>0.0</td>\n",
              "      <td>0.0</td>\n",
              "      <td>0.0</td>\n",
              "      <td>0.0</td>\n",
              "      <td>1.0</td>\n",
              "      <td>0</td>\n",
              "      <td>0</td>\n",
              "      <td>8</td>\n",
              "      <td>DIFICULDADE</td>\n",
              "    </tr>\n",
              "    <tr>\n",
              "      <th>13430</th>\n",
              "      <td>823361</td>\n",
              "      <td>Osório Planiene Fortes</td>\n",
              "      <td>0</td>\n",
              "      <td>0</td>\n",
              "      <td>0</td>\n",
              "      <td>0</td>\n",
              "      <td>5.6</td>\n",
              "      <td>6.9</td>\n",
              "      <td>5.8</td>\n",
              "      <td>5.4</td>\n",
              "      <td>1.0</td>\n",
              "      <td>5</td>\n",
              "      <td>2</td>\n",
              "      <td>3</td>\n",
              "      <td>EXATAS</td>\n",
              "    </tr>\n",
              "    <tr>\n",
              "      <th>10874</th>\n",
              "      <td>665130</td>\n",
              "      <td>Marcos da Silva</td>\n",
              "      <td>0</td>\n",
              "      <td>0</td>\n",
              "      <td>0</td>\n",
              "      <td>0</td>\n",
              "      <td>7.2</td>\n",
              "      <td>7.6</td>\n",
              "      <td>6.5</td>\n",
              "      <td>6.9</td>\n",
              "      <td>NaN</td>\n",
              "      <td>9</td>\n",
              "      <td>4</td>\n",
              "      <td>3</td>\n",
              "      <td>EXATAS</td>\n",
              "    </tr>\n",
              "    <tr>\n",
              "      <th>1563</th>\n",
              "      <td>817673</td>\n",
              "      <td>Juliana Carolina de Paiva</td>\n",
              "      <td>0</td>\n",
              "      <td>0</td>\n",
              "      <td>0</td>\n",
              "      <td>0</td>\n",
              "      <td>6.9</td>\n",
              "      <td>5.9</td>\n",
              "      <td>5.2</td>\n",
              "      <td>6.1</td>\n",
              "      <td>0.0</td>\n",
              "      <td>12</td>\n",
              "      <td>6</td>\n",
              "      <td>3</td>\n",
              "      <td>EXATAS</td>\n",
              "    </tr>\n",
              "    <tr>\n",
              "      <th>11990</th>\n",
              "      <td>139838</td>\n",
              "      <td>Fátima de Arruda</td>\n",
              "      <td>1</td>\n",
              "      <td>3</td>\n",
              "      <td>1</td>\n",
              "      <td>1</td>\n",
              "      <td>0.0</td>\n",
              "      <td>0.0</td>\n",
              "      <td>0.0</td>\n",
              "      <td>0.0</td>\n",
              "      <td>1.0</td>\n",
              "      <td>4</td>\n",
              "      <td>5</td>\n",
              "      <td>2</td>\n",
              "      <td>DIFICULDADE</td>\n",
              "    </tr>\n",
              "    <tr>\n",
              "      <th>10438</th>\n",
              "      <td>906157</td>\n",
              "      <td>Maria Jussara Gomes Castelo Mimu</td>\n",
              "      <td>0</td>\n",
              "      <td>0</td>\n",
              "      <td>0</td>\n",
              "      <td>0</td>\n",
              "      <td>6.2</td>\n",
              "      <td>6.4</td>\n",
              "      <td>6.1</td>\n",
              "      <td>7.0</td>\n",
              "      <td>0.0</td>\n",
              "      <td>5</td>\n",
              "      <td>4</td>\n",
              "      <td>4</td>\n",
              "      <td>EXATAS</td>\n",
              "    </tr>\n",
              "    <tr>\n",
              "      <th>16497</th>\n",
              "      <td>779284</td>\n",
              "      <td>Iago Cauê Untasesco</td>\n",
              "      <td>0</td>\n",
              "      <td>0</td>\n",
              "      <td>0</td>\n",
              "      <td>0</td>\n",
              "      <td>6.4</td>\n",
              "      <td>6.1</td>\n",
              "      <td>5.4</td>\n",
              "      <td>4.4</td>\n",
              "      <td>1.0</td>\n",
              "      <td>2</td>\n",
              "      <td>3</td>\n",
              "      <td>6</td>\n",
              "      <td>EXATAS</td>\n",
              "    </tr>\n",
              "    <tr>\n",
              "      <th>6096</th>\n",
              "      <td>754505</td>\n",
              "      <td>Mirian de Fraga Preto</td>\n",
              "      <td>0</td>\n",
              "      <td>0</td>\n",
              "      <td>0</td>\n",
              "      <td>0</td>\n",
              "      <td>6.4</td>\n",
              "      <td>5.1</td>\n",
              "      <td>5.7</td>\n",
              "      <td>5.7</td>\n",
              "      <td>1.0</td>\n",
              "      <td>4</td>\n",
              "      <td>5</td>\n",
              "      <td>3</td>\n",
              "      <td>EXATAS</td>\n",
              "    </tr>\n",
              "    <tr>\n",
              "      <th>3099</th>\n",
              "      <td>391862</td>\n",
              "      <td>Gilmar Isac Guerra</td>\n",
              "      <td>0</td>\n",
              "      <td>0</td>\n",
              "      <td>0</td>\n",
              "      <td>0</td>\n",
              "      <td>6.9</td>\n",
              "      <td>6.7</td>\n",
              "      <td>7.3</td>\n",
              "      <td>5.1</td>\n",
              "      <td>1.0</td>\n",
              "      <td>5</td>\n",
              "      <td>0</td>\n",
              "      <td>2</td>\n",
              "      <td>HUMANAS</td>\n",
              "    </tr>\n",
              "    <tr>\n",
              "      <th>2525</th>\n",
              "      <td>540243</td>\n",
              "      <td>Kiara Evelyn Telu de Vargas Schneider</td>\n",
              "      <td>0</td>\n",
              "      <td>0</td>\n",
              "      <td>0</td>\n",
              "      <td>0</td>\n",
              "      <td>6.8</td>\n",
              "      <td>6.4</td>\n",
              "      <td>5.8</td>\n",
              "      <td>6.4</td>\n",
              "      <td>0.0</td>\n",
              "      <td>7</td>\n",
              "      <td>5</td>\n",
              "      <td>2</td>\n",
              "      <td>EXATAS</td>\n",
              "    </tr>\n",
              "    <tr>\n",
              "      <th>1895</th>\n",
              "      <td>648704</td>\n",
              "      <td>Keyla Igreja</td>\n",
              "      <td>0</td>\n",
              "      <td>0</td>\n",
              "      <td>1</td>\n",
              "      <td>1</td>\n",
              "      <td>6.4</td>\n",
              "      <td>6.0</td>\n",
              "      <td>0.0</td>\n",
              "      <td>NaN</td>\n",
              "      <td>NaN</td>\n",
              "      <td>4</td>\n",
              "      <td>3</td>\n",
              "      <td>6</td>\n",
              "      <td>DIFICULDADE</td>\n",
              "    </tr>\n",
              "    <tr>\n",
              "      <th>6812</th>\n",
              "      <td>843360</td>\n",
              "      <td>Bóris Zasofu Werner</td>\n",
              "      <td>0</td>\n",
              "      <td>0</td>\n",
              "      <td>0</td>\n",
              "      <td>0</td>\n",
              "      <td>5.1</td>\n",
              "      <td>6.0</td>\n",
              "      <td>6.9</td>\n",
              "      <td>4.7</td>\n",
              "      <td>0.0</td>\n",
              "      <td>13</td>\n",
              "      <td>5</td>\n",
              "      <td>1</td>\n",
              "      <td>HUMANAS</td>\n",
              "    </tr>\n",
              "    <tr>\n",
              "      <th>1240</th>\n",
              "      <td>609366</td>\n",
              "      <td>Anna Martinez de Jesus Vrucea</td>\n",
              "      <td>0</td>\n",
              "      <td>0</td>\n",
              "      <td>0</td>\n",
              "      <td>0</td>\n",
              "      <td>7.8</td>\n",
              "      <td>8.1</td>\n",
              "      <td>9.0</td>\n",
              "      <td>7.5</td>\n",
              "      <td>1.0</td>\n",
              "      <td>15</td>\n",
              "      <td>5</td>\n",
              "      <td>3</td>\n",
              "      <td>MUITO_BOM</td>\n",
              "    </tr>\n",
              "    <tr>\n",
              "      <th>16458</th>\n",
              "      <td>381199</td>\n",
              "      <td>Cássia de Barbosa</td>\n",
              "      <td>0</td>\n",
              "      <td>0</td>\n",
              "      <td>0</td>\n",
              "      <td>0</td>\n",
              "      <td>6.5</td>\n",
              "      <td>6.0</td>\n",
              "      <td>5.5</td>\n",
              "      <td>5.0</td>\n",
              "      <td>1.0</td>\n",
              "      <td>5</td>\n",
              "      <td>4</td>\n",
              "      <td>6</td>\n",
              "      <td>EXATAS</td>\n",
              "    </tr>\n",
              "  </tbody>\n",
              "</table>\n",
              "</div>"
            ],
            "text/plain": [
              "       MATRICULA  ...       PERFIL\n",
              "3169      250548  ...       EXATAS\n",
              "10465     763214  ...       EXATAS\n",
              "13701     341913  ...  DIFICULDADE\n",
              "13860     641454  ...      HUMANAS\n",
              "2210      591386  ...  DIFICULDADE\n",
              "17867     582352  ...    MUITO_BOM\n",
              "588       906872  ...       EXATAS\n",
              "19517     271568  ...       EXATAS\n",
              "567       449061  ...       EXATAS\n",
              "15189     418840  ...       EXATAS\n",
              "11337     573229  ...       EXATAS\n",
              "207       561340  ...      HUMANAS\n",
              "6177      292301  ...  DIFICULDADE\n",
              "7148      173117  ...       EXATAS\n",
              "8145      100022  ...       EXATAS\n",
              "16008     506049  ...  DIFICULDADE\n",
              "664       643139  ...    MUITO_BOM\n",
              "4427      200410  ...      HUMANAS\n",
              "5056      311521  ...  DIFICULDADE\n",
              "12519     608625  ...      HUMANAS\n",
              "6107      444605  ...  DIFICULDADE\n",
              "6033      361966  ...  DIFICULDADE\n",
              "19064     922308  ...  DIFICULDADE\n",
              "5292      967703  ...    EXCELENTE\n",
              "16753     566175  ...  DIFICULDADE\n",
              "11490     920969  ...       EXATAS\n",
              "7044      883510  ...       EXATAS\n",
              "5428      101040  ...      HUMANAS\n",
              "15952     777914  ...       EXATAS\n",
              "10165     269621  ...  DIFICULDADE\n",
              "11648     755833  ...      HUMANAS\n",
              "14281     949044  ...      HUMANAS\n",
              "6442      117935  ...       EXATAS\n",
              "18037     447874  ...  DIFICULDADE\n",
              "9136      400276  ...       EXATAS\n",
              "13611     430905  ...  DIFICULDADE\n",
              "7983      563810  ...  DIFICULDADE\n",
              "13430     823361  ...       EXATAS\n",
              "10874     665130  ...       EXATAS\n",
              "1563      817673  ...       EXATAS\n",
              "11990     139838  ...  DIFICULDADE\n",
              "10438     906157  ...       EXATAS\n",
              "16497     779284  ...       EXATAS\n",
              "6096      754505  ...       EXATAS\n",
              "3099      391862  ...      HUMANAS\n",
              "2525      540243  ...       EXATAS\n",
              "1895      648704  ...  DIFICULDADE\n",
              "6812      843360  ...      HUMANAS\n",
              "1240      609366  ...    MUITO_BOM\n",
              "16458     381199  ...       EXATAS\n",
              "\n",
              "[50 rows x 15 columns]"
            ]
          },
          "metadata": {
            "tags": []
          },
          "execution_count": 8
        }
      ]
    },
    {
      "cell_type": "code",
      "metadata": {
        "id": "3rq8OVCTgN-a",
        "colab_type": "code",
        "colab": {
          "base_uri": "https://localhost:8080/",
          "height": 139
        },
        "outputId": "6845c7b5-c908-4ce2-ed08-b803a0d08d10"
      },
      "source": [
        "#Verificar quais são as colunas que temos para trabalhar\n",
        "print(dados.columns)\n",
        "#Imprime uma lista com as colunas\n",
        "print(list(dados.columns))"
      ],
      "execution_count": 9,
      "outputs": [
        {
          "output_type": "stream",
          "text": [
            "Index(['MATRICULA', 'NOME', 'REPROVACOES_DE', 'REPROVACOES_EM',\n",
            "       'REPROVACOES_MF', 'REPROVACOES_GO', 'NOTA_DE', 'NOTA_EM', 'NOTA_MF',\n",
            "       'NOTA_GO', 'INGLES', 'H_AULA_PRES', 'TAREFAS_ONLINE', 'FALTAS',\n",
            "       'PERFIL'],\n",
            "      dtype='object')\n",
            "['MATRICULA', 'NOME', 'REPROVACOES_DE', 'REPROVACOES_EM', 'REPROVACOES_MF', 'REPROVACOES_GO', 'NOTA_DE', 'NOTA_EM', 'NOTA_MF', 'NOTA_GO', 'INGLES', 'H_AULA_PRES', 'TAREFAS_ONLINE', 'FALTAS', 'PERFIL']\n"
          ],
          "name": "stdout"
        }
      ]
    },
    {
      "cell_type": "code",
      "metadata": {
        "id": "wZKdjnkAgXXe",
        "colab_type": "code",
        "colab": {}
      },
      "source": [
        "colunas = list(dados.columns)"
      ],
      "execution_count": 10,
      "outputs": []
    },
    {
      "cell_type": "code",
      "metadata": {
        "id": "btaTCqzVg_bc",
        "colab_type": "code",
        "colab": {}
      },
      "source": [
        "#tirando itens da lista (pop() vai tirar a ultima coluna)"
      ],
      "execution_count": 11,
      "outputs": []
    },
    {
      "cell_type": "code",
      "metadata": {
        "id": "k8d5ZUpjhA9Y",
        "colab_type": "code",
        "colab": {
          "base_uri": "https://localhost:8080/",
          "height": 35
        },
        "outputId": "e6d99c95-b57a-4f93-8a0f-ea74b9b9ce61"
      },
      "source": [
        "colunas.pop()"
      ],
      "execution_count": 12,
      "outputs": [
        {
          "output_type": "execute_result",
          "data": {
            "application/vnd.google.colaboratory.intrinsic+json": {
              "type": "string"
            },
            "text/plain": [
              "'PERFIL'"
            ]
          },
          "metadata": {
            "tags": []
          },
          "execution_count": 12
        }
      ]
    },
    {
      "cell_type": "markdown",
      "metadata": {
        "id": "NuA7BZTnhYqc",
        "colab_type": "text"
      },
      "source": [
        "Perceba que ao chamarmos coluna vemos que a coluna PERFIL não está mais presente"
      ]
    },
    {
      "cell_type": "code",
      "metadata": {
        "id": "FHUIEvwThEiw",
        "colab_type": "code",
        "colab": {
          "base_uri": "https://localhost:8080/",
          "height": 255
        },
        "outputId": "37297cd3-d33e-4682-a3a4-374e6400138b"
      },
      "source": [
        "colunas"
      ],
      "execution_count": 13,
      "outputs": [
        {
          "output_type": "execute_result",
          "data": {
            "text/plain": [
              "['MATRICULA',\n",
              " 'NOME',\n",
              " 'REPROVACOES_DE',\n",
              " 'REPROVACOES_EM',\n",
              " 'REPROVACOES_MF',\n",
              " 'REPROVACOES_GO',\n",
              " 'NOTA_DE',\n",
              " 'NOTA_EM',\n",
              " 'NOTA_MF',\n",
              " 'NOTA_GO',\n",
              " 'INGLES',\n",
              " 'H_AULA_PRES',\n",
              " 'TAREFAS_ONLINE',\n",
              " 'FALTAS']"
            ]
          },
          "metadata": {
            "tags": []
          },
          "execution_count": 13
        }
      ]
    },
    {
      "cell_type": "markdown",
      "metadata": {
        "id": "AODRy3-0hktO",
        "colab_type": "text"
      },
      "source": [
        "Precisamos armazenar essa lista atualizada em uma variável para podermos trabalhar com elas"
      ]
    },
    {
      "cell_type": "code",
      "metadata": {
        "id": "qSNlriMfhP-P",
        "colab_type": "code",
        "colab": {}
      },
      "source": [
        "X = dados[colunas]"
      ],
      "execution_count": 14,
      "outputs": []
    },
    {
      "cell_type": "code",
      "metadata": {
        "id": "zBPldt7hhqzZ",
        "colab_type": "code",
        "colab": {
          "base_uri": "https://localhost:8080/",
          "height": 360
        },
        "outputId": "186d4a19-f659-430f-fcb1-4ca0b5d9c7cd"
      },
      "source": [
        "X.head()"
      ],
      "execution_count": 15,
      "outputs": [
        {
          "output_type": "execute_result",
          "data": {
            "text/html": [
              "<div>\n",
              "<style scoped>\n",
              "    .dataframe tbody tr th:only-of-type {\n",
              "        vertical-align: middle;\n",
              "    }\n",
              "\n",
              "    .dataframe tbody tr th {\n",
              "        vertical-align: top;\n",
              "    }\n",
              "\n",
              "    .dataframe thead th {\n",
              "        text-align: right;\n",
              "    }\n",
              "</style>\n",
              "<table border=\"1\" class=\"dataframe\">\n",
              "  <thead>\n",
              "    <tr style=\"text-align: right;\">\n",
              "      <th></th>\n",
              "      <th>MATRICULA</th>\n",
              "      <th>NOME</th>\n",
              "      <th>REPROVACOES_DE</th>\n",
              "      <th>REPROVACOES_EM</th>\n",
              "      <th>REPROVACOES_MF</th>\n",
              "      <th>REPROVACOES_GO</th>\n",
              "      <th>NOTA_DE</th>\n",
              "      <th>NOTA_EM</th>\n",
              "      <th>NOTA_MF</th>\n",
              "      <th>NOTA_GO</th>\n",
              "      <th>INGLES</th>\n",
              "      <th>H_AULA_PRES</th>\n",
              "      <th>TAREFAS_ONLINE</th>\n",
              "      <th>FALTAS</th>\n",
              "    </tr>\n",
              "  </thead>\n",
              "  <tbody>\n",
              "    <tr>\n",
              "      <th>0</th>\n",
              "      <td>502375</td>\n",
              "      <td>Márcia Illiglener</td>\n",
              "      <td>0</td>\n",
              "      <td>0</td>\n",
              "      <td>0</td>\n",
              "      <td>0</td>\n",
              "      <td>6.2</td>\n",
              "      <td>5.8</td>\n",
              "      <td>4.6</td>\n",
              "      <td>5.9</td>\n",
              "      <td>0.0</td>\n",
              "      <td>2</td>\n",
              "      <td>4</td>\n",
              "      <td>3</td>\n",
              "    </tr>\n",
              "    <tr>\n",
              "      <th>1</th>\n",
              "      <td>397093</td>\n",
              "      <td>Jason Jytereoman Izoimum</td>\n",
              "      <td>0</td>\n",
              "      <td>0</td>\n",
              "      <td>0</td>\n",
              "      <td>0</td>\n",
              "      <td>6.0</td>\n",
              "      <td>6.2</td>\n",
              "      <td>5.2</td>\n",
              "      <td>4.5</td>\n",
              "      <td>1.0</td>\n",
              "      <td>2</td>\n",
              "      <td>4</td>\n",
              "      <td>3</td>\n",
              "    </tr>\n",
              "    <tr>\n",
              "      <th>2</th>\n",
              "      <td>915288</td>\n",
              "      <td>Bartolomeu Inácio da Gama</td>\n",
              "      <td>0</td>\n",
              "      <td>0</td>\n",
              "      <td>0</td>\n",
              "      <td>0</td>\n",
              "      <td>7.3</td>\n",
              "      <td>6.7</td>\n",
              "      <td>7.1</td>\n",
              "      <td>7.2</td>\n",
              "      <td>0.0</td>\n",
              "      <td>5</td>\n",
              "      <td>0</td>\n",
              "      <td>3</td>\n",
              "    </tr>\n",
              "    <tr>\n",
              "      <th>3</th>\n",
              "      <td>192652</td>\n",
              "      <td>Fernanda Guedes</td>\n",
              "      <td>1</td>\n",
              "      <td>3</td>\n",
              "      <td>1</td>\n",
              "      <td>1</td>\n",
              "      <td>0.0</td>\n",
              "      <td>0.0</td>\n",
              "      <td>0.0</td>\n",
              "      <td>0.0</td>\n",
              "      <td>1.0</td>\n",
              "      <td>4</td>\n",
              "      <td>4</td>\n",
              "      <td>4</td>\n",
              "    </tr>\n",
              "    <tr>\n",
              "      <th>4</th>\n",
              "      <td>949491</td>\n",
              "      <td>Alessandre Borba Gomes</td>\n",
              "      <td>1</td>\n",
              "      <td>3</td>\n",
              "      <td>1</td>\n",
              "      <td>1</td>\n",
              "      <td>0.0</td>\n",
              "      <td>0.0</td>\n",
              "      <td>0.0</td>\n",
              "      <td>0.0</td>\n",
              "      <td>1.0</td>\n",
              "      <td>5</td>\n",
              "      <td>2</td>\n",
              "      <td>5</td>\n",
              "    </tr>\n",
              "  </tbody>\n",
              "</table>\n",
              "</div>"
            ],
            "text/plain": [
              "   MATRICULA                       NOME  ...  TAREFAS_ONLINE  FALTAS\n",
              "0     502375          Márcia Illiglener  ...               4       3\n",
              "1     397093   Jason Jytereoman Izoimum  ...               4       3\n",
              "2     915288  Bartolomeu Inácio da Gama  ...               0       3\n",
              "3     192652            Fernanda Guedes  ...               4       4\n",
              "4     949491     Alessandre Borba Gomes  ...               2       5\n",
              "\n",
              "[5 rows x 14 columns]"
            ]
          },
          "metadata": {
            "tags": []
          },
          "execution_count": 15
        }
      ]
    },
    {
      "cell_type": "markdown",
      "metadata": {
        "id": "TMHgFJwRhyTF",
        "colab_type": "text"
      },
      "source": [
        "Vamos retirar a coluna MATRÍCULA da análise sem retirar a coluna. "
      ]
    },
    {
      "cell_type": "code",
      "metadata": {
        "id": "WtCzmIA5ht2h",
        "colab_type": "code",
        "colab": {}
      },
      "source": [
        "#transformar coluna em índice (usaremos o inplace para aplicar diretamente em dados, caso contrário precisamos inserir em uma nova variável)\n",
        "dados.set_index('MATRICULA', inplace=True)"
      ],
      "execution_count": 16,
      "outputs": []
    },
    {
      "cell_type": "code",
      "metadata": {
        "id": "jfeNYSWaiFrQ",
        "colab_type": "code",
        "colab": {}
      },
      "source": [
        "#reset_index para voltar a operação se por acaso alterou uma coluna que não queria\n",
        "dados.reset_index(inplace=True)"
      ],
      "execution_count": 17,
      "outputs": []
    },
    {
      "cell_type": "code",
      "metadata": {
        "id": "JokiwDQOjDLY",
        "colab_type": "code",
        "colab": {
          "base_uri": "https://localhost:8080/",
          "height": 677
        },
        "outputId": "53604c9d-e9ea-4fe7-b7c7-caecc52ccd33"
      },
      "source": [
        "dados"
      ],
      "execution_count": 18,
      "outputs": [
        {
          "output_type": "execute_result",
          "data": {
            "text/html": [
              "<div>\n",
              "<style scoped>\n",
              "    .dataframe tbody tr th:only-of-type {\n",
              "        vertical-align: middle;\n",
              "    }\n",
              "\n",
              "    .dataframe tbody tr th {\n",
              "        vertical-align: top;\n",
              "    }\n",
              "\n",
              "    .dataframe thead th {\n",
              "        text-align: right;\n",
              "    }\n",
              "</style>\n",
              "<table border=\"1\" class=\"dataframe\">\n",
              "  <thead>\n",
              "    <tr style=\"text-align: right;\">\n",
              "      <th></th>\n",
              "      <th>MATRICULA</th>\n",
              "      <th>NOME</th>\n",
              "      <th>REPROVACOES_DE</th>\n",
              "      <th>REPROVACOES_EM</th>\n",
              "      <th>REPROVACOES_MF</th>\n",
              "      <th>REPROVACOES_GO</th>\n",
              "      <th>NOTA_DE</th>\n",
              "      <th>NOTA_EM</th>\n",
              "      <th>NOTA_MF</th>\n",
              "      <th>NOTA_GO</th>\n",
              "      <th>INGLES</th>\n",
              "      <th>H_AULA_PRES</th>\n",
              "      <th>TAREFAS_ONLINE</th>\n",
              "      <th>FALTAS</th>\n",
              "      <th>PERFIL</th>\n",
              "    </tr>\n",
              "  </thead>\n",
              "  <tbody>\n",
              "    <tr>\n",
              "      <th>0</th>\n",
              "      <td>502375</td>\n",
              "      <td>Márcia Illiglener</td>\n",
              "      <td>0</td>\n",
              "      <td>0</td>\n",
              "      <td>0</td>\n",
              "      <td>0</td>\n",
              "      <td>6.2</td>\n",
              "      <td>5.8</td>\n",
              "      <td>4.6</td>\n",
              "      <td>5.9</td>\n",
              "      <td>0.0</td>\n",
              "      <td>2</td>\n",
              "      <td>4</td>\n",
              "      <td>3</td>\n",
              "      <td>EXATAS</td>\n",
              "    </tr>\n",
              "    <tr>\n",
              "      <th>1</th>\n",
              "      <td>397093</td>\n",
              "      <td>Jason Jytereoman Izoimum</td>\n",
              "      <td>0</td>\n",
              "      <td>0</td>\n",
              "      <td>0</td>\n",
              "      <td>0</td>\n",
              "      <td>6.0</td>\n",
              "      <td>6.2</td>\n",
              "      <td>5.2</td>\n",
              "      <td>4.5</td>\n",
              "      <td>1.0</td>\n",
              "      <td>2</td>\n",
              "      <td>4</td>\n",
              "      <td>3</td>\n",
              "      <td>EXATAS</td>\n",
              "    </tr>\n",
              "    <tr>\n",
              "      <th>2</th>\n",
              "      <td>915288</td>\n",
              "      <td>Bartolomeu Inácio da Gama</td>\n",
              "      <td>0</td>\n",
              "      <td>0</td>\n",
              "      <td>0</td>\n",
              "      <td>0</td>\n",
              "      <td>7.3</td>\n",
              "      <td>6.7</td>\n",
              "      <td>7.1</td>\n",
              "      <td>7.2</td>\n",
              "      <td>0.0</td>\n",
              "      <td>5</td>\n",
              "      <td>0</td>\n",
              "      <td>3</td>\n",
              "      <td>HUMANAS</td>\n",
              "    </tr>\n",
              "    <tr>\n",
              "      <th>3</th>\n",
              "      <td>192652</td>\n",
              "      <td>Fernanda Guedes</td>\n",
              "      <td>1</td>\n",
              "      <td>3</td>\n",
              "      <td>1</td>\n",
              "      <td>1</td>\n",
              "      <td>0.0</td>\n",
              "      <td>0.0</td>\n",
              "      <td>0.0</td>\n",
              "      <td>0.0</td>\n",
              "      <td>1.0</td>\n",
              "      <td>4</td>\n",
              "      <td>4</td>\n",
              "      <td>4</td>\n",
              "      <td>DIFICULDADE</td>\n",
              "    </tr>\n",
              "    <tr>\n",
              "      <th>4</th>\n",
              "      <td>949491</td>\n",
              "      <td>Alessandre Borba Gomes</td>\n",
              "      <td>1</td>\n",
              "      <td>3</td>\n",
              "      <td>1</td>\n",
              "      <td>1</td>\n",
              "      <td>0.0</td>\n",
              "      <td>0.0</td>\n",
              "      <td>0.0</td>\n",
              "      <td>0.0</td>\n",
              "      <td>1.0</td>\n",
              "      <td>5</td>\n",
              "      <td>2</td>\n",
              "      <td>5</td>\n",
              "      <td>DIFICULDADE</td>\n",
              "    </tr>\n",
              "    <tr>\n",
              "      <th>...</th>\n",
              "      <td>...</td>\n",
              "      <td>...</td>\n",
              "      <td>...</td>\n",
              "      <td>...</td>\n",
              "      <td>...</td>\n",
              "      <td>...</td>\n",
              "      <td>...</td>\n",
              "      <td>...</td>\n",
              "      <td>...</td>\n",
              "      <td>...</td>\n",
              "      <td>...</td>\n",
              "      <td>...</td>\n",
              "      <td>...</td>\n",
              "      <td>...</td>\n",
              "      <td>...</td>\n",
              "    </tr>\n",
              "    <tr>\n",
              "      <th>19995</th>\n",
              "      <td>856673</td>\n",
              "      <td>Laércio Mário da Silva</td>\n",
              "      <td>0</td>\n",
              "      <td>0</td>\n",
              "      <td>0</td>\n",
              "      <td>0</td>\n",
              "      <td>7.0</td>\n",
              "      <td>7.9</td>\n",
              "      <td>5.8</td>\n",
              "      <td>7.0</td>\n",
              "      <td>1.0</td>\n",
              "      <td>9</td>\n",
              "      <td>5</td>\n",
              "      <td>6</td>\n",
              "      <td>EXATAS</td>\n",
              "    </tr>\n",
              "    <tr>\n",
              "      <th>19996</th>\n",
              "      <td>576100</td>\n",
              "      <td>Cibele Quésia Poza</td>\n",
              "      <td>1</td>\n",
              "      <td>1</td>\n",
              "      <td>1</td>\n",
              "      <td>1</td>\n",
              "      <td>0.0</td>\n",
              "      <td>0.0</td>\n",
              "      <td>0.0</td>\n",
              "      <td>NaN</td>\n",
              "      <td>1.0</td>\n",
              "      <td>3</td>\n",
              "      <td>2</td>\n",
              "      <td>5</td>\n",
              "      <td>DIFICULDADE</td>\n",
              "    </tr>\n",
              "    <tr>\n",
              "      <th>19997</th>\n",
              "      <td>888739</td>\n",
              "      <td>Marcielle Chale Bape</td>\n",
              "      <td>0</td>\n",
              "      <td>0</td>\n",
              "      <td>0</td>\n",
              "      <td>0</td>\n",
              "      <td>7.9</td>\n",
              "      <td>7.6</td>\n",
              "      <td>8.3</td>\n",
              "      <td>7.2</td>\n",
              "      <td>NaN</td>\n",
              "      <td>8</td>\n",
              "      <td>3</td>\n",
              "      <td>1</td>\n",
              "      <td>EXCELENTE</td>\n",
              "    </tr>\n",
              "    <tr>\n",
              "      <th>19998</th>\n",
              "      <td>722743</td>\n",
              "      <td>Suzanne Mirian Mourão</td>\n",
              "      <td>0</td>\n",
              "      <td>0</td>\n",
              "      <td>1</td>\n",
              "      <td>1</td>\n",
              "      <td>6.3</td>\n",
              "      <td>5.1</td>\n",
              "      <td>0.0</td>\n",
              "      <td>0.0</td>\n",
              "      <td>1.0</td>\n",
              "      <td>3</td>\n",
              "      <td>2</td>\n",
              "      <td>6</td>\n",
              "      <td>DIFICULDADE</td>\n",
              "    </tr>\n",
              "    <tr>\n",
              "      <th>19999</th>\n",
              "      <td>417268</td>\n",
              "      <td>Maria Isaiane da Silva Luwequisman</td>\n",
              "      <td>0</td>\n",
              "      <td>0</td>\n",
              "      <td>1</td>\n",
              "      <td>1</td>\n",
              "      <td>7.0</td>\n",
              "      <td>7.3</td>\n",
              "      <td>0.0</td>\n",
              "      <td>0.0</td>\n",
              "      <td>NaN</td>\n",
              "      <td>3</td>\n",
              "      <td>0</td>\n",
              "      <td>6</td>\n",
              "      <td>DIFICULDADE</td>\n",
              "    </tr>\n",
              "  </tbody>\n",
              "</table>\n",
              "<p>20000 rows × 15 columns</p>\n",
              "</div>"
            ],
            "text/plain": [
              "       MATRICULA                                NOME  ...  FALTAS       PERFIL\n",
              "0         502375                   Márcia Illiglener  ...       3       EXATAS\n",
              "1         397093            Jason Jytereoman Izoimum  ...       3       EXATAS\n",
              "2         915288           Bartolomeu Inácio da Gama  ...       3      HUMANAS\n",
              "3         192652                     Fernanda Guedes  ...       4  DIFICULDADE\n",
              "4         949491              Alessandre Borba Gomes  ...       5  DIFICULDADE\n",
              "...          ...                                 ...  ...     ...          ...\n",
              "19995     856673              Laércio Mário da Silva  ...       6       EXATAS\n",
              "19996     576100                  Cibele Quésia Poza  ...       5  DIFICULDADE\n",
              "19997     888739                Marcielle Chale Bape  ...       1    EXCELENTE\n",
              "19998     722743               Suzanne Mirian Mourão  ...       6  DIFICULDADE\n",
              "19999     417268  Maria Isaiane da Silva Luwequisman  ...       6  DIFICULDADE\n",
              "\n",
              "[20000 rows x 15 columns]"
            ]
          },
          "metadata": {
            "tags": []
          },
          "execution_count": 18
        }
      ]
    },
    {
      "cell_type": "markdown",
      "metadata": {
        "id": "_eNFlEifjOI8",
        "colab_type": "text"
      },
      "source": [
        "### **Importante**\n",
        "Vamos retirar colunas para trabalhar neste momento, mas na plataforma da IBM serão necessárias. Claro que depois podemos retirar conforme a necessidade."
      ]
    },
    {
      "cell_type": "code",
      "metadata": {
        "id": "nMD818IcjEtC",
        "colab_type": "code",
        "colab": {}
      },
      "source": [
        "#Removendo colunas e inserindo em nova variável - remover 1 ('') remover lista (['', '', ''])\n",
        "dados2 = dados.drop(['NOME'], axis='columns')"
      ],
      "execution_count": 19,
      "outputs": []
    },
    {
      "cell_type": "code",
      "metadata": {
        "id": "Rhvw8ALykLJB",
        "colab_type": "code",
        "colab": {
          "base_uri": "https://localhost:8080/",
          "height": 0
        },
        "outputId": "0910f220-cdba-43fe-a2b0-bfffdcdc9550"
      },
      "source": [
        "dados2.head()"
      ],
      "execution_count": 20,
      "outputs": [
        {
          "output_type": "execute_result",
          "data": {
            "text/html": [
              "<div>\n",
              "<style scoped>\n",
              "    .dataframe tbody tr th:only-of-type {\n",
              "        vertical-align: middle;\n",
              "    }\n",
              "\n",
              "    .dataframe tbody tr th {\n",
              "        vertical-align: top;\n",
              "    }\n",
              "\n",
              "    .dataframe thead th {\n",
              "        text-align: right;\n",
              "    }\n",
              "</style>\n",
              "<table border=\"1\" class=\"dataframe\">\n",
              "  <thead>\n",
              "    <tr style=\"text-align: right;\">\n",
              "      <th></th>\n",
              "      <th>MATRICULA</th>\n",
              "      <th>REPROVACOES_DE</th>\n",
              "      <th>REPROVACOES_EM</th>\n",
              "      <th>REPROVACOES_MF</th>\n",
              "      <th>REPROVACOES_GO</th>\n",
              "      <th>NOTA_DE</th>\n",
              "      <th>NOTA_EM</th>\n",
              "      <th>NOTA_MF</th>\n",
              "      <th>NOTA_GO</th>\n",
              "      <th>INGLES</th>\n",
              "      <th>H_AULA_PRES</th>\n",
              "      <th>TAREFAS_ONLINE</th>\n",
              "      <th>FALTAS</th>\n",
              "      <th>PERFIL</th>\n",
              "    </tr>\n",
              "  </thead>\n",
              "  <tbody>\n",
              "    <tr>\n",
              "      <th>0</th>\n",
              "      <td>502375</td>\n",
              "      <td>0</td>\n",
              "      <td>0</td>\n",
              "      <td>0</td>\n",
              "      <td>0</td>\n",
              "      <td>6.2</td>\n",
              "      <td>5.8</td>\n",
              "      <td>4.6</td>\n",
              "      <td>5.9</td>\n",
              "      <td>0.0</td>\n",
              "      <td>2</td>\n",
              "      <td>4</td>\n",
              "      <td>3</td>\n",
              "      <td>EXATAS</td>\n",
              "    </tr>\n",
              "    <tr>\n",
              "      <th>1</th>\n",
              "      <td>397093</td>\n",
              "      <td>0</td>\n",
              "      <td>0</td>\n",
              "      <td>0</td>\n",
              "      <td>0</td>\n",
              "      <td>6.0</td>\n",
              "      <td>6.2</td>\n",
              "      <td>5.2</td>\n",
              "      <td>4.5</td>\n",
              "      <td>1.0</td>\n",
              "      <td>2</td>\n",
              "      <td>4</td>\n",
              "      <td>3</td>\n",
              "      <td>EXATAS</td>\n",
              "    </tr>\n",
              "    <tr>\n",
              "      <th>2</th>\n",
              "      <td>915288</td>\n",
              "      <td>0</td>\n",
              "      <td>0</td>\n",
              "      <td>0</td>\n",
              "      <td>0</td>\n",
              "      <td>7.3</td>\n",
              "      <td>6.7</td>\n",
              "      <td>7.1</td>\n",
              "      <td>7.2</td>\n",
              "      <td>0.0</td>\n",
              "      <td>5</td>\n",
              "      <td>0</td>\n",
              "      <td>3</td>\n",
              "      <td>HUMANAS</td>\n",
              "    </tr>\n",
              "    <tr>\n",
              "      <th>3</th>\n",
              "      <td>192652</td>\n",
              "      <td>1</td>\n",
              "      <td>3</td>\n",
              "      <td>1</td>\n",
              "      <td>1</td>\n",
              "      <td>0.0</td>\n",
              "      <td>0.0</td>\n",
              "      <td>0.0</td>\n",
              "      <td>0.0</td>\n",
              "      <td>1.0</td>\n",
              "      <td>4</td>\n",
              "      <td>4</td>\n",
              "      <td>4</td>\n",
              "      <td>DIFICULDADE</td>\n",
              "    </tr>\n",
              "    <tr>\n",
              "      <th>4</th>\n",
              "      <td>949491</td>\n",
              "      <td>1</td>\n",
              "      <td>3</td>\n",
              "      <td>1</td>\n",
              "      <td>1</td>\n",
              "      <td>0.0</td>\n",
              "      <td>0.0</td>\n",
              "      <td>0.0</td>\n",
              "      <td>0.0</td>\n",
              "      <td>1.0</td>\n",
              "      <td>5</td>\n",
              "      <td>2</td>\n",
              "      <td>5</td>\n",
              "      <td>DIFICULDADE</td>\n",
              "    </tr>\n",
              "  </tbody>\n",
              "</table>\n",
              "</div>"
            ],
            "text/plain": [
              "   MATRICULA  REPROVACOES_DE  ...  FALTAS       PERFIL\n",
              "0     502375               0  ...       3       EXATAS\n",
              "1     397093               0  ...       3       EXATAS\n",
              "2     915288               0  ...       3      HUMANAS\n",
              "3     192652               1  ...       4  DIFICULDADE\n",
              "4     949491               1  ...       5  DIFICULDADE\n",
              "\n",
              "[5 rows x 14 columns]"
            ]
          },
          "metadata": {
            "tags": []
          },
          "execution_count": 20
        }
      ]
    },
    {
      "cell_type": "code",
      "metadata": {
        "id": "MUBC88y7kMvD",
        "colab_type": "code",
        "colab": {}
      },
      "source": [
        "#Podemos retirar a coluna e aplicar diratamente no arquivo que alteramos\n",
        "dados2.drop(['MATRICULA'], axis=1, inplace=True)"
      ],
      "execution_count": 21,
      "outputs": []
    },
    {
      "cell_type": "markdown",
      "metadata": {
        "id": "tdmVdwUzkz-e",
        "colab_type": "text"
      },
      "source": [
        "Agora temos dados2 sem MATRICULA e sem NOMES"
      ]
    },
    {
      "cell_type": "code",
      "metadata": {
        "id": "npg0C7eZkloZ",
        "colab_type": "code",
        "colab": {
          "base_uri": "https://localhost:8080/",
          "height": 0
        },
        "outputId": "597019e6-58ee-4c52-93c0-5c9ec8a3c93c"
      },
      "source": [
        "dados2.head()"
      ],
      "execution_count": 22,
      "outputs": [
        {
          "output_type": "execute_result",
          "data": {
            "text/html": [
              "<div>\n",
              "<style scoped>\n",
              "    .dataframe tbody tr th:only-of-type {\n",
              "        vertical-align: middle;\n",
              "    }\n",
              "\n",
              "    .dataframe tbody tr th {\n",
              "        vertical-align: top;\n",
              "    }\n",
              "\n",
              "    .dataframe thead th {\n",
              "        text-align: right;\n",
              "    }\n",
              "</style>\n",
              "<table border=\"1\" class=\"dataframe\">\n",
              "  <thead>\n",
              "    <tr style=\"text-align: right;\">\n",
              "      <th></th>\n",
              "      <th>REPROVACOES_DE</th>\n",
              "      <th>REPROVACOES_EM</th>\n",
              "      <th>REPROVACOES_MF</th>\n",
              "      <th>REPROVACOES_GO</th>\n",
              "      <th>NOTA_DE</th>\n",
              "      <th>NOTA_EM</th>\n",
              "      <th>NOTA_MF</th>\n",
              "      <th>NOTA_GO</th>\n",
              "      <th>INGLES</th>\n",
              "      <th>H_AULA_PRES</th>\n",
              "      <th>TAREFAS_ONLINE</th>\n",
              "      <th>FALTAS</th>\n",
              "      <th>PERFIL</th>\n",
              "    </tr>\n",
              "  </thead>\n",
              "  <tbody>\n",
              "    <tr>\n",
              "      <th>0</th>\n",
              "      <td>0</td>\n",
              "      <td>0</td>\n",
              "      <td>0</td>\n",
              "      <td>0</td>\n",
              "      <td>6.2</td>\n",
              "      <td>5.8</td>\n",
              "      <td>4.6</td>\n",
              "      <td>5.9</td>\n",
              "      <td>0.0</td>\n",
              "      <td>2</td>\n",
              "      <td>4</td>\n",
              "      <td>3</td>\n",
              "      <td>EXATAS</td>\n",
              "    </tr>\n",
              "    <tr>\n",
              "      <th>1</th>\n",
              "      <td>0</td>\n",
              "      <td>0</td>\n",
              "      <td>0</td>\n",
              "      <td>0</td>\n",
              "      <td>6.0</td>\n",
              "      <td>6.2</td>\n",
              "      <td>5.2</td>\n",
              "      <td>4.5</td>\n",
              "      <td>1.0</td>\n",
              "      <td>2</td>\n",
              "      <td>4</td>\n",
              "      <td>3</td>\n",
              "      <td>EXATAS</td>\n",
              "    </tr>\n",
              "    <tr>\n",
              "      <th>2</th>\n",
              "      <td>0</td>\n",
              "      <td>0</td>\n",
              "      <td>0</td>\n",
              "      <td>0</td>\n",
              "      <td>7.3</td>\n",
              "      <td>6.7</td>\n",
              "      <td>7.1</td>\n",
              "      <td>7.2</td>\n",
              "      <td>0.0</td>\n",
              "      <td>5</td>\n",
              "      <td>0</td>\n",
              "      <td>3</td>\n",
              "      <td>HUMANAS</td>\n",
              "    </tr>\n",
              "    <tr>\n",
              "      <th>3</th>\n",
              "      <td>1</td>\n",
              "      <td>3</td>\n",
              "      <td>1</td>\n",
              "      <td>1</td>\n",
              "      <td>0.0</td>\n",
              "      <td>0.0</td>\n",
              "      <td>0.0</td>\n",
              "      <td>0.0</td>\n",
              "      <td>1.0</td>\n",
              "      <td>4</td>\n",
              "      <td>4</td>\n",
              "      <td>4</td>\n",
              "      <td>DIFICULDADE</td>\n",
              "    </tr>\n",
              "    <tr>\n",
              "      <th>4</th>\n",
              "      <td>1</td>\n",
              "      <td>3</td>\n",
              "      <td>1</td>\n",
              "      <td>1</td>\n",
              "      <td>0.0</td>\n",
              "      <td>0.0</td>\n",
              "      <td>0.0</td>\n",
              "      <td>0.0</td>\n",
              "      <td>1.0</td>\n",
              "      <td>5</td>\n",
              "      <td>2</td>\n",
              "      <td>5</td>\n",
              "      <td>DIFICULDADE</td>\n",
              "    </tr>\n",
              "  </tbody>\n",
              "</table>\n",
              "</div>"
            ],
            "text/plain": [
              "   REPROVACOES_DE  REPROVACOES_EM  ...  FALTAS       PERFIL\n",
              "0               0               0  ...       3       EXATAS\n",
              "1               0               0  ...       3       EXATAS\n",
              "2               0               0  ...       3      HUMANAS\n",
              "3               1               3  ...       4  DIFICULDADE\n",
              "4               1               3  ...       5  DIFICULDADE\n",
              "\n",
              "[5 rows x 13 columns]"
            ]
          },
          "metadata": {
            "tags": []
          },
          "execution_count": 22
        }
      ]
    },
    {
      "cell_type": "markdown",
      "metadata": {
        "id": "7WIDRqquk94a",
        "colab_type": "text"
      },
      "source": [
        "## Fazendo a média"
      ]
    },
    {
      "cell_type": "code",
      "metadata": {
        "id": "bTJ7YTK7ko8I",
        "colab_type": "code",
        "colab": {
          "base_uri": "https://localhost:8080/",
          "height": 34
        },
        "outputId": "4a45c3b8-4d5d-4119-c6c4-90e89dda9d77"
      },
      "source": [
        "#Pegando a média de uma coluna em específico\n",
        "dados2['NOTA_EM'].mean()"
      ],
      "execution_count": 23,
      "outputs": [
        {
          "output_type": "execute_result",
          "data": {
            "text/plain": [
              "5.080285000000016"
            ]
          },
          "metadata": {
            "tags": []
          },
          "execution_count": 23
        }
      ]
    },
    {
      "cell_type": "code",
      "metadata": {
        "id": "zbz1eXhblJMw",
        "colab_type": "code",
        "colab": {
          "base_uri": "https://localhost:8080/",
          "height": 102
        },
        "outputId": "fbbcd455-2296-4af4-9d83-1c1638aaa5d2"
      },
      "source": [
        "dados2[['NOTA_EM', 'NOTA_MF', 'NOTA_DE', 'NOTA_GO']].mean()"
      ],
      "execution_count": 24,
      "outputs": [
        {
          "output_type": "execute_result",
          "data": {
            "text/plain": [
              "NOTA_EM    5.080285\n",
              "NOTA_MF    4.817630\n",
              "NOTA_DE    5.196560\n",
              "NOTA_GO    4.534101\n",
              "dtype: float64"
            ]
          },
          "metadata": {
            "tags": []
          },
          "execution_count": 24
        }
      ]
    },
    {
      "cell_type": "markdown",
      "metadata": {
        "id": "tlGVOrOglkVg",
        "colab_type": "text"
      },
      "source": [
        "## Fazendo a mediana\n",
        "Percebemos que as notas são melhores e em termos estatísticos essa curva não é uma distribuição em formato de sino (não faço ideia do porquê), quer dizer que ela é inviezada para um dos lados."
      ]
    },
    {
      "cell_type": "code",
      "metadata": {
        "id": "KJ6EXBnXljeS",
        "colab_type": "code",
        "colab": {
          "base_uri": "https://localhost:8080/",
          "height": 0
        },
        "outputId": "34f5c0e1-bad1-451e-e10c-b0d292ea138c"
      },
      "source": [
        "dados2[['NOTA_EM', 'NOTA_MF', 'NOTA_DE', 'NOTA_GO']].median()"
      ],
      "execution_count": 25,
      "outputs": [
        {
          "output_type": "execute_result",
          "data": {
            "text/plain": [
              "NOTA_EM    5.9\n",
              "NOTA_MF    5.5\n",
              "NOTA_DE    6.2\n",
              "NOTA_GO    5.4\n",
              "dtype: float64"
            ]
          },
          "metadata": {
            "tags": []
          },
          "execution_count": 25
        }
      ]
    },
    {
      "cell_type": "markdown",
      "metadata": {
        "id": "8jAc909Rxglv",
        "colab_type": "text"
      },
      "source": [
        "## Calcular o desvio padrão\n"
      ]
    },
    {
      "cell_type": "code",
      "metadata": {
        "id": "jq6MGydQxsy7",
        "colab_type": "code",
        "colab": {
          "base_uri": "https://localhost:8080/",
          "height": 102
        },
        "outputId": "13ef3fd6-e27a-47bd-ca38-28697e6b4b25"
      },
      "source": [
        "#Desvio padrão = raiz quadrada da variancia\n",
        "dados2[['NOTA_EM', 'NOTA_MF', 'NOTA_DE', 'NOTA_GO']].std()"
      ],
      "execution_count": 26,
      "outputs": [
        {
          "output_type": "execute_result",
          "data": {
            "text/plain": [
              "NOTA_EM    2.523928\n",
              "NOTA_MF    2.734775\n",
              "NOTA_DE    2.522545\n",
              "NOTA_GO    2.509209\n",
              "dtype: float64"
            ]
          },
          "metadata": {
            "tags": []
          },
          "execution_count": 26
        }
      ]
    },
    {
      "cell_type": "code",
      "metadata": {
        "id": "h7-kc_fplbPf",
        "colab_type": "code",
        "colab": {
          "base_uri": "https://localhost:8080/",
          "height": 102
        },
        "outputId": "412f4b94-4f99-46b4-da28-c309d2bdaa18"
      },
      "source": [
        "#Variancia\n",
        "dados2[['NOTA_EM', 'NOTA_MF', 'NOTA_DE', 'NOTA_GO']].var()"
      ],
      "execution_count": 27,
      "outputs": [
        {
          "output_type": "execute_result",
          "data": {
            "text/plain": [
              "NOTA_EM    6.370213\n",
              "NOTA_MF    7.478996\n",
              "NOTA_DE    6.363232\n",
              "NOTA_GO    6.296132\n",
              "dtype: float64"
            ]
          },
          "metadata": {
            "tags": []
          },
          "execution_count": 27
        }
      ]
    },
    {
      "cell_type": "markdown",
      "metadata": {
        "id": "YiWVWBFrx_uY",
        "colab_type": "text"
      },
      "source": [
        "Podemos agrupar tudo em um lugar usando o describe()"
      ]
    },
    {
      "cell_type": "code",
      "metadata": {
        "id": "LBtPUx6cyEbn",
        "colab_type": "code",
        "colab": {
          "base_uri": "https://localhost:8080/",
          "height": 297
        },
        "outputId": "4f833741-2066-4a97-cee6-28d173535303"
      },
      "source": [
        "#mediana é o 50%\n",
        "dados2[['NOTA_EM', 'NOTA_MF', 'NOTA_DE', 'NOTA_GO']].describe()"
      ],
      "execution_count": 29,
      "outputs": [
        {
          "output_type": "execute_result",
          "data": {
            "text/html": [
              "<div>\n",
              "<style scoped>\n",
              "    .dataframe tbody tr th:only-of-type {\n",
              "        vertical-align: middle;\n",
              "    }\n",
              "\n",
              "    .dataframe tbody tr th {\n",
              "        vertical-align: top;\n",
              "    }\n",
              "\n",
              "    .dataframe thead th {\n",
              "        text-align: right;\n",
              "    }\n",
              "</style>\n",
              "<table border=\"1\" class=\"dataframe\">\n",
              "  <thead>\n",
              "    <tr style=\"text-align: right;\">\n",
              "      <th></th>\n",
              "      <th>NOTA_EM</th>\n",
              "      <th>NOTA_MF</th>\n",
              "      <th>NOTA_DE</th>\n",
              "      <th>NOTA_GO</th>\n",
              "    </tr>\n",
              "  </thead>\n",
              "  <tbody>\n",
              "    <tr>\n",
              "      <th>count</th>\n",
              "      <td>20000.000000</td>\n",
              "      <td>20000.000000</td>\n",
              "      <td>20000.000000</td>\n",
              "      <td>16284.000000</td>\n",
              "    </tr>\n",
              "    <tr>\n",
              "      <th>mean</th>\n",
              "      <td>5.080285</td>\n",
              "      <td>4.817630</td>\n",
              "      <td>5.196560</td>\n",
              "      <td>4.534101</td>\n",
              "    </tr>\n",
              "    <tr>\n",
              "      <th>std</th>\n",
              "      <td>2.523928</td>\n",
              "      <td>2.734775</td>\n",
              "      <td>2.522545</td>\n",
              "      <td>2.509209</td>\n",
              "    </tr>\n",
              "    <tr>\n",
              "      <th>min</th>\n",
              "      <td>0.000000</td>\n",
              "      <td>0.000000</td>\n",
              "      <td>0.000000</td>\n",
              "      <td>0.000000</td>\n",
              "    </tr>\n",
              "    <tr>\n",
              "      <th>25%</th>\n",
              "      <td>4.900000</td>\n",
              "      <td>4.700000</td>\n",
              "      <td>5.200000</td>\n",
              "      <td>4.500000</td>\n",
              "    </tr>\n",
              "    <tr>\n",
              "      <th>50%</th>\n",
              "      <td>5.900000</td>\n",
              "      <td>5.500000</td>\n",
              "      <td>6.200000</td>\n",
              "      <td>5.400000</td>\n",
              "    </tr>\n",
              "    <tr>\n",
              "      <th>75%</th>\n",
              "      <td>6.700000</td>\n",
              "      <td>6.500000</td>\n",
              "      <td>6.700000</td>\n",
              "      <td>6.200000</td>\n",
              "    </tr>\n",
              "    <tr>\n",
              "      <th>max</th>\n",
              "      <td>9.400000</td>\n",
              "      <td>11.500000</td>\n",
              "      <td>9.000000</td>\n",
              "      <td>10.000000</td>\n",
              "    </tr>\n",
              "  </tbody>\n",
              "</table>\n",
              "</div>"
            ],
            "text/plain": [
              "            NOTA_EM       NOTA_MF       NOTA_DE       NOTA_GO\n",
              "count  20000.000000  20000.000000  20000.000000  16284.000000\n",
              "mean       5.080285      4.817630      5.196560      4.534101\n",
              "std        2.523928      2.734775      2.522545      2.509209\n",
              "min        0.000000      0.000000      0.000000      0.000000\n",
              "25%        4.900000      4.700000      5.200000      4.500000\n",
              "50%        5.900000      5.500000      6.200000      5.400000\n",
              "75%        6.700000      6.500000      6.700000      6.200000\n",
              "max        9.400000     11.500000      9.000000     10.000000"
            ]
          },
          "metadata": {
            "tags": []
          },
          "execution_count": 29
        }
      ]
    },
    {
      "cell_type": "markdown",
      "metadata": {
        "id": "U4pO-fA2ymH3",
        "colab_type": "text"
      },
      "source": [
        "Podemos perceber várias coisas importantes.\n",
        "- NOTA_GO tem aluno sem nota\n",
        "- NOTA_MF tem nota acima de 10\n",
        "\n",
        "Vamos ver quem tirou nota maior que 10"
      ]
    },
    {
      "cell_type": "code",
      "metadata": {
        "id": "-yHpbGdqyHsZ",
        "colab_type": "code",
        "colab": {
          "base_uri": "https://localhost:8080/",
          "height": 34
        },
        "outputId": "667d1855-b4c3-4109-a829-d013529c7579"
      },
      "source": [
        "#subset - buscar dentro do dataset\n",
        "# Vair retornar (linhas, colunas)\n",
        "dados2.loc[dados2['NOTA_MF'] > 10].shape"
      ],
      "execution_count": 30,
      "outputs": [
        {
          "output_type": "execute_result",
          "data": {
            "text/plain": [
              "(60, 13)"
            ]
          },
          "metadata": {
            "tags": []
          },
          "execution_count": 30
        }
      ]
    },
    {
      "cell_type": "markdown",
      "metadata": {
        "id": "mJyDT4h6zPCc",
        "colab_type": "text"
      },
      "source": [
        "Percebemos que temos 60 das 20k pessoas com nota maior que 10."
      ]
    },
    {
      "cell_type": "code",
      "metadata": {
        "id": "krdQy-_QzI3V",
        "colab_type": "code",
        "colab": {
          "base_uri": "https://localhost:8080/",
          "height": 34
        },
        "outputId": "d9537a7e-35a3-4ca2-86ad-10194d7dbdfc"
      },
      "source": [
        "# tamanho dataset\n",
        "dados2.shape"
      ],
      "execution_count": 31,
      "outputs": [
        {
          "output_type": "execute_result",
          "data": {
            "text/plain": [
              "(20000, 13)"
            ]
          },
          "metadata": {
            "tags": []
          },
          "execution_count": 31
        }
      ]
    },
    {
      "cell_type": "code",
      "metadata": {
        "id": "Vz2jG8Ox1vGK",
        "colab_type": "code",
        "colab": {}
      },
      "source": [
        "# Desempacotamento de tupla\n",
        "linhas, colunas = dados2.shape"
      ],
      "execution_count": 32,
      "outputs": []
    },
    {
      "cell_type": "code",
      "metadata": {
        "id": "E3FrymT-1-c6",
        "colab_type": "code",
        "colab": {
          "base_uri": "https://localhost:8080/",
          "height": 34
        },
        "outputId": "e44d5755-2744-4489-9510-e2707fbbcd37"
      },
      "source": [
        "linhas"
      ],
      "execution_count": 33,
      "outputs": [
        {
          "output_type": "execute_result",
          "data": {
            "text/plain": [
              "20000"
            ]
          },
          "metadata": {
            "tags": []
          },
          "execution_count": 33
        }
      ]
    },
    {
      "cell_type": "code",
      "metadata": {
        "id": "gnWjWiwk2Hvs",
        "colab_type": "code",
        "colab": {
          "base_uri": "https://localhost:8080/",
          "height": 34
        },
        "outputId": "18f846a2-cd5b-415c-f125-7f694544b19f"
      },
      "source": [
        "colunas"
      ],
      "execution_count": 34,
      "outputs": [
        {
          "output_type": "execute_result",
          "data": {
            "text/plain": [
              "13"
            ]
          },
          "metadata": {
            "tags": []
          },
          "execution_count": 34
        }
      ]
    },
    {
      "cell_type": "code",
      "metadata": {
        "id": "e8hzn3ik2Isq",
        "colab_type": "code",
        "colab": {
          "base_uri": "https://localhost:8080/",
          "height": 34
        },
        "outputId": "383c0e1f-27ca-4345-aca0-b1611e26dc56"
      },
      "source": [
        "dados2.shape[0]"
      ],
      "execution_count": 35,
      "outputs": [
        {
          "output_type": "execute_result",
          "data": {
            "text/plain": [
              "20000"
            ]
          },
          "metadata": {
            "tags": []
          },
          "execution_count": 35
        }
      ]
    },
    {
      "cell_type": "code",
      "metadata": {
        "id": "FeJQsx3A3x6-",
        "colab_type": "code",
        "colab": {
          "base_uri": "https://localhost:8080/",
          "height": 34
        },
        "outputId": "a8723be1-78b1-4990-8062-a64347a262de"
      },
      "source": [
        "dados2.shape[1]\n"
      ],
      "execution_count": 36,
      "outputs": [
        {
          "output_type": "execute_result",
          "data": {
            "text/plain": [
              "13"
            ]
          },
          "metadata": {
            "tags": []
          },
          "execution_count": 36
        }
      ]
    },
    {
      "cell_type": "code",
      "metadata": {
        "id": "pCIwEMiG4FDF",
        "colab_type": "code",
        "colab": {
          "base_uri": "https://localhost:8080/",
          "height": 357
        },
        "outputId": "9aaea5fe-1c8a-4d43-a74a-03ea6d473c5a"
      },
      "source": [
        "#info()\n",
        "dados2.info()"
      ],
      "execution_count": 37,
      "outputs": [
        {
          "output_type": "stream",
          "text": [
            "<class 'pandas.core.frame.DataFrame'>\n",
            "RangeIndex: 20000 entries, 0 to 19999\n",
            "Data columns (total 13 columns):\n",
            " #   Column          Non-Null Count  Dtype  \n",
            "---  ------          --------------  -----  \n",
            " 0   REPROVACOES_DE  20000 non-null  int64  \n",
            " 1   REPROVACOES_EM  20000 non-null  int64  \n",
            " 2   REPROVACOES_MF  20000 non-null  int64  \n",
            " 3   REPROVACOES_GO  20000 non-null  int64  \n",
            " 4   NOTA_DE         20000 non-null  float64\n",
            " 5   NOTA_EM         20000 non-null  float64\n",
            " 6   NOTA_MF         20000 non-null  float64\n",
            " 7   NOTA_GO         16284 non-null  float64\n",
            " 8   INGLES          16372 non-null  float64\n",
            " 9   H_AULA_PRES     20000 non-null  int64  \n",
            " 10  TAREFAS_ONLINE  20000 non-null  int64  \n",
            " 11  FALTAS          20000 non-null  int64  \n",
            " 12  PERFIL          20000 non-null  object \n",
            "dtypes: float64(5), int64(7), object(1)\n",
            "memory usage: 2.0+ MB\n"
          ],
          "name": "stdout"
        }
      ]
    },
    {
      "cell_type": "code",
      "metadata": {
        "id": "J5i6OPCj4VSw",
        "colab_type": "code",
        "colab": {
          "base_uri": "https://localhost:8080/",
          "height": 289
        },
        "outputId": "659d6895-8ee4-4425-d643-81cf988b3294"
      },
      "source": [
        "#Pegar os dados nulos com isna() ou isnull()\n",
        "dados.isna().sum()"
      ],
      "execution_count": 38,
      "outputs": [
        {
          "output_type": "execute_result",
          "data": {
            "text/plain": [
              "MATRICULA            0\n",
              "NOME                 0\n",
              "REPROVACOES_DE       0\n",
              "REPROVACOES_EM       0\n",
              "REPROVACOES_MF       0\n",
              "REPROVACOES_GO       0\n",
              "NOTA_DE              0\n",
              "NOTA_EM              0\n",
              "NOTA_MF              0\n",
              "NOTA_GO           3716\n",
              "INGLES            3628\n",
              "H_AULA_PRES          0\n",
              "TAREFAS_ONLINE       0\n",
              "FALTAS               0\n",
              "PERFIL               0\n",
              "dtype: int64"
            ]
          },
          "metadata": {
            "tags": []
          },
          "execution_count": 38
        }
      ]
    },
    {
      "cell_type": "code",
      "metadata": {
        "id": "J17vykD64nYV",
        "colab_type": "code",
        "colab": {
          "base_uri": "https://localhost:8080/",
          "height": 439
        },
        "outputId": "dd3b56a4-e24c-455c-9eb7-93117e4d16cb"
      },
      "source": [
        "# Visualizar dados especícicos\n",
        "# Quem e quantos são os alunos com o PERFIL DIFICULDADE\n",
        "dados2.query('PERFIL == \"DIFICULDADE\"')"
      ],
      "execution_count": 39,
      "outputs": [
        {
          "output_type": "execute_result",
          "data": {
            "text/html": [
              "<div>\n",
              "<style scoped>\n",
              "    .dataframe tbody tr th:only-of-type {\n",
              "        vertical-align: middle;\n",
              "    }\n",
              "\n",
              "    .dataframe tbody tr th {\n",
              "        vertical-align: top;\n",
              "    }\n",
              "\n",
              "    .dataframe thead th {\n",
              "        text-align: right;\n",
              "    }\n",
              "</style>\n",
              "<table border=\"1\" class=\"dataframe\">\n",
              "  <thead>\n",
              "    <tr style=\"text-align: right;\">\n",
              "      <th></th>\n",
              "      <th>REPROVACOES_DE</th>\n",
              "      <th>REPROVACOES_EM</th>\n",
              "      <th>REPROVACOES_MF</th>\n",
              "      <th>REPROVACOES_GO</th>\n",
              "      <th>NOTA_DE</th>\n",
              "      <th>NOTA_EM</th>\n",
              "      <th>NOTA_MF</th>\n",
              "      <th>NOTA_GO</th>\n",
              "      <th>INGLES</th>\n",
              "      <th>H_AULA_PRES</th>\n",
              "      <th>TAREFAS_ONLINE</th>\n",
              "      <th>FALTAS</th>\n",
              "      <th>PERFIL</th>\n",
              "    </tr>\n",
              "  </thead>\n",
              "  <tbody>\n",
              "    <tr>\n",
              "      <th>3</th>\n",
              "      <td>1</td>\n",
              "      <td>3</td>\n",
              "      <td>1</td>\n",
              "      <td>1</td>\n",
              "      <td>0.0</td>\n",
              "      <td>0.0</td>\n",
              "      <td>0.0</td>\n",
              "      <td>0.0</td>\n",
              "      <td>1.0</td>\n",
              "      <td>4</td>\n",
              "      <td>4</td>\n",
              "      <td>4</td>\n",
              "      <td>DIFICULDADE</td>\n",
              "    </tr>\n",
              "    <tr>\n",
              "      <th>4</th>\n",
              "      <td>1</td>\n",
              "      <td>3</td>\n",
              "      <td>1</td>\n",
              "      <td>1</td>\n",
              "      <td>0.0</td>\n",
              "      <td>0.0</td>\n",
              "      <td>0.0</td>\n",
              "      <td>0.0</td>\n",
              "      <td>1.0</td>\n",
              "      <td>5</td>\n",
              "      <td>2</td>\n",
              "      <td>5</td>\n",
              "      <td>DIFICULDADE</td>\n",
              "    </tr>\n",
              "    <tr>\n",
              "      <th>6</th>\n",
              "      <td>0</td>\n",
              "      <td>0</td>\n",
              "      <td>0</td>\n",
              "      <td>0</td>\n",
              "      <td>5.8</td>\n",
              "      <td>6.0</td>\n",
              "      <td>7.3</td>\n",
              "      <td>5.1</td>\n",
              "      <td>1.0</td>\n",
              "      <td>5</td>\n",
              "      <td>2</td>\n",
              "      <td>6</td>\n",
              "      <td>DIFICULDADE</td>\n",
              "    </tr>\n",
              "    <tr>\n",
              "      <th>7</th>\n",
              "      <td>0</td>\n",
              "      <td>0</td>\n",
              "      <td>0</td>\n",
              "      <td>0</td>\n",
              "      <td>4.9</td>\n",
              "      <td>5.0</td>\n",
              "      <td>5.9</td>\n",
              "      <td>4.6</td>\n",
              "      <td>NaN</td>\n",
              "      <td>2</td>\n",
              "      <td>2</td>\n",
              "      <td>6</td>\n",
              "      <td>DIFICULDADE</td>\n",
              "    </tr>\n",
              "    <tr>\n",
              "      <th>8</th>\n",
              "      <td>0</td>\n",
              "      <td>0</td>\n",
              "      <td>0</td>\n",
              "      <td>0</td>\n",
              "      <td>4.4</td>\n",
              "      <td>4.8</td>\n",
              "      <td>4.7</td>\n",
              "      <td>4.6</td>\n",
              "      <td>1.0</td>\n",
              "      <td>3</td>\n",
              "      <td>4</td>\n",
              "      <td>4</td>\n",
              "      <td>DIFICULDADE</td>\n",
              "    </tr>\n",
              "    <tr>\n",
              "      <th>...</th>\n",
              "      <td>...</td>\n",
              "      <td>...</td>\n",
              "      <td>...</td>\n",
              "      <td>...</td>\n",
              "      <td>...</td>\n",
              "      <td>...</td>\n",
              "      <td>...</td>\n",
              "      <td>...</td>\n",
              "      <td>...</td>\n",
              "      <td>...</td>\n",
              "      <td>...</td>\n",
              "      <td>...</td>\n",
              "      <td>...</td>\n",
              "    </tr>\n",
              "    <tr>\n",
              "      <th>19993</th>\n",
              "      <td>0</td>\n",
              "      <td>0</td>\n",
              "      <td>3</td>\n",
              "      <td>1</td>\n",
              "      <td>6.4</td>\n",
              "      <td>6.1</td>\n",
              "      <td>0.0</td>\n",
              "      <td>0.0</td>\n",
              "      <td>1.0</td>\n",
              "      <td>7</td>\n",
              "      <td>2</td>\n",
              "      <td>6</td>\n",
              "      <td>DIFICULDADE</td>\n",
              "    </tr>\n",
              "    <tr>\n",
              "      <th>19994</th>\n",
              "      <td>1</td>\n",
              "      <td>1</td>\n",
              "      <td>1</td>\n",
              "      <td>1</td>\n",
              "      <td>0.0</td>\n",
              "      <td>0.0</td>\n",
              "      <td>0.0</td>\n",
              "      <td>0.0</td>\n",
              "      <td>1.0</td>\n",
              "      <td>20</td>\n",
              "      <td>4</td>\n",
              "      <td>4</td>\n",
              "      <td>DIFICULDADE</td>\n",
              "    </tr>\n",
              "    <tr>\n",
              "      <th>19996</th>\n",
              "      <td>1</td>\n",
              "      <td>1</td>\n",
              "      <td>1</td>\n",
              "      <td>1</td>\n",
              "      <td>0.0</td>\n",
              "      <td>0.0</td>\n",
              "      <td>0.0</td>\n",
              "      <td>NaN</td>\n",
              "      <td>1.0</td>\n",
              "      <td>3</td>\n",
              "      <td>2</td>\n",
              "      <td>5</td>\n",
              "      <td>DIFICULDADE</td>\n",
              "    </tr>\n",
              "    <tr>\n",
              "      <th>19998</th>\n",
              "      <td>0</td>\n",
              "      <td>0</td>\n",
              "      <td>1</td>\n",
              "      <td>1</td>\n",
              "      <td>6.3</td>\n",
              "      <td>5.1</td>\n",
              "      <td>0.0</td>\n",
              "      <td>0.0</td>\n",
              "      <td>1.0</td>\n",
              "      <td>3</td>\n",
              "      <td>2</td>\n",
              "      <td>6</td>\n",
              "      <td>DIFICULDADE</td>\n",
              "    </tr>\n",
              "    <tr>\n",
              "      <th>19999</th>\n",
              "      <td>0</td>\n",
              "      <td>0</td>\n",
              "      <td>1</td>\n",
              "      <td>1</td>\n",
              "      <td>7.0</td>\n",
              "      <td>7.3</td>\n",
              "      <td>0.0</td>\n",
              "      <td>0.0</td>\n",
              "      <td>NaN</td>\n",
              "      <td>3</td>\n",
              "      <td>0</td>\n",
              "      <td>6</td>\n",
              "      <td>DIFICULDADE</td>\n",
              "    </tr>\n",
              "  </tbody>\n",
              "</table>\n",
              "<p>7001 rows × 13 columns</p>\n",
              "</div>"
            ],
            "text/plain": [
              "       REPROVACOES_DE  REPROVACOES_EM  ...  FALTAS       PERFIL\n",
              "3                   1               3  ...       4  DIFICULDADE\n",
              "4                   1               3  ...       5  DIFICULDADE\n",
              "6                   0               0  ...       6  DIFICULDADE\n",
              "7                   0               0  ...       6  DIFICULDADE\n",
              "8                   0               0  ...       4  DIFICULDADE\n",
              "...               ...             ...  ...     ...          ...\n",
              "19993               0               0  ...       6  DIFICULDADE\n",
              "19994               1               1  ...       4  DIFICULDADE\n",
              "19996               1               1  ...       5  DIFICULDADE\n",
              "19998               0               0  ...       6  DIFICULDADE\n",
              "19999               0               0  ...       6  DIFICULDADE\n",
              "\n",
              "[7001 rows x 13 columns]"
            ]
          },
          "metadata": {
            "tags": []
          },
          "execution_count": 39
        }
      ]
    },
    {
      "cell_type": "markdown",
      "metadata": {
        "id": "_D3bhCdZ325K",
        "colab_type": "text"
      },
      "source": [
        "## Análise visual \n",
        "### Vamos ver como que essas notas estão distribuídas\n",
        "Vamos usar duas bibliotecas para isso\n",
        "- "
      ]
    },
    {
      "cell_type": "code",
      "metadata": {
        "id": "i5ZMX7L431Ck",
        "colab_type": "code",
        "colab": {
          "base_uri": "https://localhost:8080/",
          "height": 0
        },
        "outputId": "26b3727c-4159-4b2f-a82f-636b034a487a"
      },
      "source": [
        "dados2.head(1)"
      ],
      "execution_count": 40,
      "outputs": [
        {
          "output_type": "execute_result",
          "data": {
            "text/html": [
              "<div>\n",
              "<style scoped>\n",
              "    .dataframe tbody tr th:only-of-type {\n",
              "        vertical-align: middle;\n",
              "    }\n",
              "\n",
              "    .dataframe tbody tr th {\n",
              "        vertical-align: top;\n",
              "    }\n",
              "\n",
              "    .dataframe thead th {\n",
              "        text-align: right;\n",
              "    }\n",
              "</style>\n",
              "<table border=\"1\" class=\"dataframe\">\n",
              "  <thead>\n",
              "    <tr style=\"text-align: right;\">\n",
              "      <th></th>\n",
              "      <th>REPROVACOES_DE</th>\n",
              "      <th>REPROVACOES_EM</th>\n",
              "      <th>REPROVACOES_MF</th>\n",
              "      <th>REPROVACOES_GO</th>\n",
              "      <th>NOTA_DE</th>\n",
              "      <th>NOTA_EM</th>\n",
              "      <th>NOTA_MF</th>\n",
              "      <th>NOTA_GO</th>\n",
              "      <th>INGLES</th>\n",
              "      <th>H_AULA_PRES</th>\n",
              "      <th>TAREFAS_ONLINE</th>\n",
              "      <th>FALTAS</th>\n",
              "      <th>PERFIL</th>\n",
              "    </tr>\n",
              "  </thead>\n",
              "  <tbody>\n",
              "    <tr>\n",
              "      <th>0</th>\n",
              "      <td>0</td>\n",
              "      <td>0</td>\n",
              "      <td>0</td>\n",
              "      <td>0</td>\n",
              "      <td>6.2</td>\n",
              "      <td>5.8</td>\n",
              "      <td>4.6</td>\n",
              "      <td>5.9</td>\n",
              "      <td>0.0</td>\n",
              "      <td>2</td>\n",
              "      <td>4</td>\n",
              "      <td>3</td>\n",
              "      <td>EXATAS</td>\n",
              "    </tr>\n",
              "  </tbody>\n",
              "</table>\n",
              "</div>"
            ],
            "text/plain": [
              "   REPROVACOES_DE  REPROVACOES_EM  ...  FALTAS  PERFIL\n",
              "0               0               0  ...       3  EXATAS\n",
              "\n",
              "[1 rows x 13 columns]"
            ]
          },
          "metadata": {
            "tags": []
          },
          "execution_count": 40
        }
      ]
    },
    {
      "cell_type": "markdown",
      "metadata": {
        "id": "EYskNfGj5jmb",
        "colab_type": "text"
      },
      "source": [
        "### Ver a distribuição das notas"
      ]
    },
    {
      "cell_type": "code",
      "metadata": {
        "id": "dsvm2Grk5iKn",
        "colab_type": "code",
        "colab": {
          "base_uri": "https://localhost:8080/",
          "height": 0
        },
        "outputId": "28f2d0fa-fc4b-44ed-f262-cd3fcf2250c5"
      },
      "source": [
        "# Importando as bilbiotecas análise visual\n",
        "import matplotlib.pyplot as plt\n",
        "import seaborn as sns"
      ],
      "execution_count": 41,
      "outputs": [
        {
          "output_type": "stream",
          "text": [
            "/usr/local/lib/python3.6/dist-packages/statsmodels/tools/_testing.py:19: FutureWarning: pandas.util.testing is deprecated. Use the functions in the public API at pandas.testing instead.\n",
            "  import pandas.util.testing as tm\n"
          ],
          "name": "stderr"
        }
      ]
    },
    {
      "cell_type": "code",
      "metadata": {
        "id": "9DdWo3oJ54Xl",
        "colab_type": "code",
        "colab": {
          "base_uri": "https://localhost:8080/",
          "height": 0
        },
        "outputId": "da88aac2-fe96-46df-d9d2-a9e68d5324eb"
      },
      "source": [
        "# O gráfico se chama histograma\n",
        "# usando o matploblib\n",
        "plt.figure(figsize=(12, 6)) # Tamanho do gráfico\n",
        "plt.hist(dados2['NOTA_EM'])\n",
        "plt.title('DISTRIBUIÇÃO DAS NOTAS DE EMPREENDEDORISMO', fontsize=16)\n",
        "plt.xlabel('Notas')\n",
        "# Para aparecer apenas o gráfico\n",
        "plt.show()"
      ],
      "execution_count": 42,
      "outputs": [
        {
          "output_type": "display_data",
          "data": {
            "image/png": "[encoded data removed]",
            "text/plain": [
              "<Figure size 864x432 with 1 Axes>"
            ]
          },
          "metadata": {
            "tags": [],
            "needs_background": "light"
          }
        }
      ]
    },
    {
      "cell_type": "code",
      "metadata": {
        "id": "UUJYRbWc6Ikl",
        "colab_type": "code",
        "colab": {}
      },
      "source": [
        "# Criando uma função para criar o gráfico sempre da mesma forma\n",
        "def histograma(X,titulo,label):\n",
        "  plt.figure(figsize=(12, 6))\n",
        "  plt.hist(X)\n",
        "  plt.title(titulo, fontsize=16)\n",
        "  plt.xlabel(label)\n",
        "  plt.show()"
      ],
      "execution_count": 43,
      "outputs": []
    },
    {
      "cell_type": "code",
      "metadata": {
        "id": "U_DM4avz7dEX",
        "colab_type": "code",
        "colab": {
          "base_uri": "https://localhost:8080/",
          "height": 0
        },
        "outputId": "aae189c7-5fbc-4cac-be19-ace401aa357c"
      },
      "source": [
        "histograma(dados2.NOTA_GO, 'Distibuição notas Gestão Operacional', 'Notas')\n",
        "plt.show()"
      ],
      "execution_count": 44,
      "outputs": [
        {
          "output_type": "stream",
          "text": [
            "/usr/local/lib/python3.6/dist-packages/numpy/lib/histograms.py:839: RuntimeWarning: invalid value encountered in greater_equal\n",
            "  keep = (tmp_a >= first_edge)\n",
            "/usr/local/lib/python3.6/dist-packages/numpy/lib/histograms.py:840: RuntimeWarning: invalid value encountered in less_equal\n",
            "  keep &= (tmp_a <= last_edge)\n"
          ],
          "name": "stderr"
        },
        {
          "output_type": "display_data",
          "data": {
            "image/png": "[encoded data removed]",
            "text/plain": [
              "<Figure size 864x432 with 1 Axes>"
            ]
          },
          "metadata": {
            "tags": [],
            "needs_background": "light"
          }
        }
      ]
    },
    {
      "cell_type": "markdown",
      "metadata": {
        "id": "cRKrjEx776xF",
        "colab_type": "text"
      },
      "source": [
        "### Visualização com o seaborn\n"
      ]
    },
    {
      "cell_type": "code",
      "metadata": {
        "id": "nyOnM7Yv71I7",
        "colab_type": "code",
        "colab": {
          "base_uri": "https://localhost:8080/",
          "height": 0
        },
        "outputId": "adf92d58-09cf-4d4f-94b0-cd6b1251ba3d"
      },
      "source": [
        "#seaborn histograma NOTA_DE\n",
        "plt.figure(figsize=(12,6))\n",
        "# Vamos armazenar dentro da variável ax, geralmente utilziada nas documentações\n",
        "ax = sns.distplot(dados2['NOTA_DE']) # no matplot a função era hist()\n",
        "ax.set_title('Distribuição das notas de Direito Empresarial');"
      ],
      "execution_count": 45,
      "outputs": [
        {
          "output_type": "display_data",
          "data": {
            "image/png": "[encoded data removed]",
            "text/plain": [
              "<Figure size 864x432 with 1 Axes>"
            ]
          },
          "metadata": {
            "tags": [],
            "needs_background": "light"
          }
        }
      ]
    },
    {
      "cell_type": "markdown",
      "metadata": {
        "id": "2GeS-q3C8ncR",
        "colab_type": "text"
      },
      "source": [
        "Podemos perceber que tem bastante gente com nota zero\n",
        "Essa linha que aparece é o formato da distribuição. Lembra que antes falamos \"não é formato de sino e tal ...\", Enfim, bastante utilizado isso na estatística"
      ]
    },
    {
      "cell_type": "markdown",
      "metadata": {
        "id": "OD4HBAer9lt7",
        "colab_type": "text"
      },
      "source": [
        "### Boxplot\n",
        "Podemos ver o mesmo gráfico acima de uma forma diferente, usando o boxplot"
      ]
    },
    {
      "cell_type": "code",
      "metadata": {
        "id": "0dbJWcZY8mX0",
        "colab_type": "code",
        "colab": {
          "base_uri": "https://localhost:8080/",
          "height": 0
        },
        "outputId": "f6c0f92b-cc4b-4fd9-b5e7-0fd4b6008793"
      },
      "source": [
        "sns.boxplot(dados2['NOTA_DE'])"
      ],
      "execution_count": 46,
      "outputs": [
        {
          "output_type": "execute_result",
          "data": {
            "text/plain": [
              "<matplotlib.axes._subplots.AxesSubplot at 0x7f74eb038c18>"
            ]
          },
          "metadata": {
            "tags": []
          },
          "execution_count": 46
        },
        {
          "output_type": "display_data",
          "data": {
            "image/png": "[encoded data removed]",
            "text/plain": [
              "<Figure size 432x288 with 1 Axes>"
            ]
          },
          "metadata": {
            "tags": [],
            "needs_background": "light"
          }
        }
      ]
    },
    {
      "cell_type": "markdown",
      "metadata": {
        "id": "BGY5id0z-XNr",
        "colab_type": "text"
      },
      "source": [
        "Olhar a documentação. basicamente, a linha central no quadrado azul é a mediana. Da mediana para esquerda representam 25% dos dados (dentro do quadrado azul), da mediana para direita representa 75% dos dados. E os pontos representam os pontos fora da curva, chamados de outliers. Precisamos ver porque que eles são outliers"
      ]
    },
    {
      "cell_type": "markdown",
      "metadata": {
        "id": "wisxaqao_vBx",
        "colab_type": "text"
      },
      "source": [
        "### Distribuição das notas por classe usando o boxplot"
      ]
    },
    {
      "cell_type": "code",
      "metadata": {
        "id": "eJ8Em2VH9yH8",
        "colab_type": "code",
        "colab": {
          "base_uri": "https://localhost:8080/",
          "height": 0
        },
        "outputId": "352acc60-4bd7-4e31-aba3-96937c254a89"
      },
      "source": [
        "plt.figure(figsize=(15,7))\n",
        "AX = sns.boxplot(x=dados2['NOTA_DE'], y=dados2['PERFIL'])"
      ],
      "execution_count": 47,
      "outputs": [
        {
          "output_type": "display_data",
          "data": {
            "image/png": "[encoded data removed]",
            "text/plain": [
              "<Figure size 1080x504 with 1 Axes>"
            ]
          },
          "metadata": {
            "tags": [],
            "needs_background": "light"
          }
        }
      ]
    },
    {
      "cell_type": "markdown",
      "metadata": {
        "id": "lYkbLEtiADv6",
        "colab_type": "text"
      },
      "source": [
        "No muito bom podemos perceber que é diferente, com um ponto outlier para direta e vários para esquerda"
      ]
    },
    {
      "cell_type": "code",
      "metadata": {
        "id": "pRhZN11Y_Lrg",
        "colab_type": "code",
        "colab": {
          "base_uri": "https://localhost:8080/",
          "height": 0
        },
        "outputId": "98f7a292-8c8a-4c81-e4af-cc17017a49ea"
      },
      "source": [
        "# Plotando dois gráficos/histogramas juntos\n",
        "\n",
        "histograma(dados2.NOTA_GO, 'Distibuição notas Gestão Operacional', 'Notas')\n",
        "histograma(dados2.NOTA_DE, 'Distibuição notas Direito Empresarial', 'Notas')"
      ],
      "execution_count": 48,
      "outputs": [
        {
          "output_type": "stream",
          "text": [
            "/usr/local/lib/python3.6/dist-packages/numpy/lib/histograms.py:839: RuntimeWarning: invalid value encountered in greater_equal\n",
            "  keep = (tmp_a >= first_edge)\n",
            "/usr/local/lib/python3.6/dist-packages/numpy/lib/histograms.py:840: RuntimeWarning: invalid value encountered in less_equal\n",
            "  keep &= (tmp_a <= last_edge)\n"
          ],
          "name": "stderr"
        },
        {
          "output_type": "display_data",
          "data": {
            "image/png": "[encoded data removed]",
            "text/plain": [
              "<Figure size 864x432 with 1 Axes>"
            ]
          },
          "metadata": {
            "tags": [],
            "needs_background": "light"
          }
        },
        {
          "output_type": "display_data",
          "data": {
            "image/png": "[encoded data removed]",
            "text/plain": [
              "<Figure size 864x432 with 1 Axes>"
            ]
          },
          "metadata": {
            "tags": [],
            "needs_background": "light"
          }
        }
      ]
    },
    {
      "cell_type": "markdown",
      "metadata": {
        "id": "Avx9oPLKBkHG",
        "colab_type": "text"
      },
      "source": [
        "Ver a distribuição dos dados por categoria usando countplot()"
      ]
    },
    {
      "cell_type": "code",
      "metadata": {
        "id": "aA6uOqlfBqS_",
        "colab_type": "code",
        "colab": {
          "base_uri": "https://localhost:8080/",
          "height": 0
        },
        "outputId": "24a77d7d-a087-43b3-fb7c-10585019baa3"
      },
      "source": [
        "#countplot\n",
        "\n",
        "sns.countplot(dados2.PERFIL)"
      ],
      "execution_count": 49,
      "outputs": [
        {
          "output_type": "execute_result",
          "data": {
            "text/plain": [
              "<matplotlib.axes._subplots.AxesSubplot at 0x7f74eaf08e10>"
            ]
          },
          "metadata": {
            "tags": []
          },
          "execution_count": 49
        },
        {
          "output_type": "display_data",
          "data": {
            "image/png": "[encoded data removed]",
            "text/plain": [
              "<Figure size 432x288 with 1 Axes>"
            ]
          },
          "metadata": {
            "tags": [],
            "needs_background": "light"
          }
        }
      ]
    },
    {
      "cell_type": "code",
      "metadata": {
        "id": "bVS0w7HDBp5k",
        "colab_type": "code",
        "colab": {
          "base_uri": "https://localhost:8080/",
          "height": 0
        },
        "outputId": "701cf75e-0088-4a39-b5ec-a149467429c6"
      },
      "source": [
        "# Podemos ver os dados do gráfico acima sem gráfico\n",
        "# Contagem de dados\n",
        "\n",
        "dados2['PERFIL'].value_counts()"
      ],
      "execution_count": 50,
      "outputs": [
        {
          "output_type": "execute_result",
          "data": {
            "text/plain": [
              "EXATAS         8230\n",
              "DIFICULDADE    7001\n",
              "HUMANAS        3196\n",
              "MUITO_BOM       902\n",
              "EXCELENTE       671\n",
              "Name: PERFIL, dtype: int64"
            ]
          },
          "metadata": {
            "tags": []
          },
          "execution_count": 50
        }
      ]
    },
    {
      "cell_type": "code",
      "metadata": {
        "id": "Oc9_IhunCJ6c",
        "colab_type": "code",
        "colab": {
          "base_uri": "https://localhost:8080/",
          "height": 0
        },
        "outputId": "2b62c20e-b8d2-4545-d708-5f1aa66e1c79"
      },
      "source": [
        "# Transformar o value_counts em %\n",
        "# Percentual de dados\n",
        "\n",
        "dados2['PERFIL'].value_counts(normalize=True)\n"
      ],
      "execution_count": 51,
      "outputs": [
        {
          "output_type": "execute_result",
          "data": {
            "text/plain": [
              "EXATAS         0.41150\n",
              "DIFICULDADE    0.35005\n",
              "HUMANAS        0.15980\n",
              "MUITO_BOM      0.04510\n",
              "EXCELENTE      0.03355\n",
              "Name: PERFIL, dtype: float64"
            ]
          },
          "metadata": {
            "tags": []
          },
          "execution_count": 51
        }
      ]
    },
    {
      "cell_type": "markdown",
      "metadata": {
        "id": "Y0688-CaCWsz",
        "colab_type": "text"
      },
      "source": [
        "Perceba que tem pouquíssimos dados MUITO_BOM e EXCELENTE. Por isso que o pessoal usa o SMOTE que é um balanceador de classes. Porque com poquíssimo % assim o modelo pode colocar ninguém em EXCELENTE e mesmo assim ter um % alto de acurácia e isso é um problema. O modelo é malandro, mesmo ele descartando esses valores MUITO_BOM e EXCELENTE ele ainda vai estar certo 99% das vezes, chamam isso de erro da fraude do cartão de crédito."
      ]
    },
    {
      "cell_type": "markdown",
      "metadata": {
        "id": "97zPuB2-JJKm",
        "colab_type": "text"
      },
      "source": [
        "Classificar os dados mais ou menos como fazer no excel\n",
        "No caso abaixo vamos pegar toda a coluna PERFIL e classificar os dados conforme as entradas em PERFIL\n"
      ]
    },
    {
      "cell_type": "code",
      "metadata": {
        "id": "HInDQkcMAaiz",
        "colab_type": "code",
        "colab": {
          "base_uri": "https://localhost:8080/",
          "height": 0
        },
        "outputId": "9ba7c3f7-a5f5-450f-954c-3e1bf380a226"
      },
      "source": [
        "# Classificação por perfil\n",
        "dados2.sort_values(by='PERFIL')"
      ],
      "execution_count": 52,
      "outputs": [
        {
          "output_type": "execute_result",
          "data": {
            "text/html": [
              "<div>\n",
              "<style scoped>\n",
              "    .dataframe tbody tr th:only-of-type {\n",
              "        vertical-align: middle;\n",
              "    }\n",
              "\n",
              "    .dataframe tbody tr th {\n",
              "        vertical-align: top;\n",
              "    }\n",
              "\n",
              "    .dataframe thead th {\n",
              "        text-align: right;\n",
              "    }\n",
              "</style>\n",
              "<table border=\"1\" class=\"dataframe\">\n",
              "  <thead>\n",
              "    <tr style=\"text-align: right;\">\n",
              "      <th></th>\n",
              "      <th>REPROVACOES_DE</th>\n",
              "      <th>REPROVACOES_EM</th>\n",
              "      <th>REPROVACOES_MF</th>\n",
              "      <th>REPROVACOES_GO</th>\n",
              "      <th>NOTA_DE</th>\n",
              "      <th>NOTA_EM</th>\n",
              "      <th>NOTA_MF</th>\n",
              "      <th>NOTA_GO</th>\n",
              "      <th>INGLES</th>\n",
              "      <th>H_AULA_PRES</th>\n",
              "      <th>TAREFAS_ONLINE</th>\n",
              "      <th>FALTAS</th>\n",
              "      <th>PERFIL</th>\n",
              "    </tr>\n",
              "  </thead>\n",
              "  <tbody>\n",
              "    <tr>\n",
              "      <th>19999</th>\n",
              "      <td>0</td>\n",
              "      <td>0</td>\n",
              "      <td>1</td>\n",
              "      <td>1</td>\n",
              "      <td>7.0</td>\n",
              "      <td>7.3</td>\n",
              "      <td>0.0</td>\n",
              "      <td>0.0</td>\n",
              "      <td>NaN</td>\n",
              "      <td>3</td>\n",
              "      <td>0</td>\n",
              "      <td>6</td>\n",
              "      <td>DIFICULDADE</td>\n",
              "    </tr>\n",
              "    <tr>\n",
              "      <th>6370</th>\n",
              "      <td>3</td>\n",
              "      <td>1</td>\n",
              "      <td>1</td>\n",
              "      <td>1</td>\n",
              "      <td>0.0</td>\n",
              "      <td>0.0</td>\n",
              "      <td>0.0</td>\n",
              "      <td>0.0</td>\n",
              "      <td>0.0</td>\n",
              "      <td>11</td>\n",
              "      <td>2</td>\n",
              "      <td>7</td>\n",
              "      <td>DIFICULDADE</td>\n",
              "    </tr>\n",
              "    <tr>\n",
              "      <th>14572</th>\n",
              "      <td>1</td>\n",
              "      <td>1</td>\n",
              "      <td>1</td>\n",
              "      <td>1</td>\n",
              "      <td>0.0</td>\n",
              "      <td>0.0</td>\n",
              "      <td>0.0</td>\n",
              "      <td>0.0</td>\n",
              "      <td>NaN</td>\n",
              "      <td>5</td>\n",
              "      <td>2</td>\n",
              "      <td>5</td>\n",
              "      <td>DIFICULDADE</td>\n",
              "    </tr>\n",
              "    <tr>\n",
              "      <th>6368</th>\n",
              "      <td>0</td>\n",
              "      <td>0</td>\n",
              "      <td>0</td>\n",
              "      <td>0</td>\n",
              "      <td>6.1</td>\n",
              "      <td>6.1</td>\n",
              "      <td>5.1</td>\n",
              "      <td>5.3</td>\n",
              "      <td>1.0</td>\n",
              "      <td>5</td>\n",
              "      <td>1</td>\n",
              "      <td>6</td>\n",
              "      <td>DIFICULDADE</td>\n",
              "    </tr>\n",
              "    <tr>\n",
              "      <th>6367</th>\n",
              "      <td>0</td>\n",
              "      <td>0</td>\n",
              "      <td>0</td>\n",
              "      <td>0</td>\n",
              "      <td>5.8</td>\n",
              "      <td>5.8</td>\n",
              "      <td>5.1</td>\n",
              "      <td>5.6</td>\n",
              "      <td>0.0</td>\n",
              "      <td>4</td>\n",
              "      <td>0</td>\n",
              "      <td>4</td>\n",
              "      <td>DIFICULDADE</td>\n",
              "    </tr>\n",
              "    <tr>\n",
              "      <th>...</th>\n",
              "      <td>...</td>\n",
              "      <td>...</td>\n",
              "      <td>...</td>\n",
              "      <td>...</td>\n",
              "      <td>...</td>\n",
              "      <td>...</td>\n",
              "      <td>...</td>\n",
              "      <td>...</td>\n",
              "      <td>...</td>\n",
              "      <td>...</td>\n",
              "      <td>...</td>\n",
              "      <td>...</td>\n",
              "      <td>...</td>\n",
              "    </tr>\n",
              "    <tr>\n",
              "      <th>12843</th>\n",
              "      <td>0</td>\n",
              "      <td>0</td>\n",
              "      <td>0</td>\n",
              "      <td>0</td>\n",
              "      <td>7.2</td>\n",
              "      <td>6.9</td>\n",
              "      <td>8.0</td>\n",
              "      <td>6.5</td>\n",
              "      <td>1.0</td>\n",
              "      <td>15</td>\n",
              "      <td>7</td>\n",
              "      <td>3</td>\n",
              "      <td>MUITO_BOM</td>\n",
              "    </tr>\n",
              "    <tr>\n",
              "      <th>5252</th>\n",
              "      <td>0</td>\n",
              "      <td>0</td>\n",
              "      <td>0</td>\n",
              "      <td>0</td>\n",
              "      <td>7.0</td>\n",
              "      <td>7.8</td>\n",
              "      <td>5.6</td>\n",
              "      <td>6.8</td>\n",
              "      <td>0.0</td>\n",
              "      <td>6</td>\n",
              "      <td>0</td>\n",
              "      <td>4</td>\n",
              "      <td>MUITO_BOM</td>\n",
              "    </tr>\n",
              "    <tr>\n",
              "      <th>19002</th>\n",
              "      <td>0</td>\n",
              "      <td>0</td>\n",
              "      <td>0</td>\n",
              "      <td>0</td>\n",
              "      <td>6.7</td>\n",
              "      <td>7.4</td>\n",
              "      <td>7.3</td>\n",
              "      <td>7.6</td>\n",
              "      <td>NaN</td>\n",
              "      <td>5</td>\n",
              "      <td>4</td>\n",
              "      <td>3</td>\n",
              "      <td>MUITO_BOM</td>\n",
              "    </tr>\n",
              "    <tr>\n",
              "      <th>8321</th>\n",
              "      <td>0</td>\n",
              "      <td>0</td>\n",
              "      <td>0</td>\n",
              "      <td>0</td>\n",
              "      <td>7.0</td>\n",
              "      <td>7.0</td>\n",
              "      <td>5.7</td>\n",
              "      <td>6.7</td>\n",
              "      <td>1.0</td>\n",
              "      <td>3</td>\n",
              "      <td>5</td>\n",
              "      <td>3</td>\n",
              "      <td>MUITO_BOM</td>\n",
              "    </tr>\n",
              "    <tr>\n",
              "      <th>16990</th>\n",
              "      <td>0</td>\n",
              "      <td>0</td>\n",
              "      <td>0</td>\n",
              "      <td>0</td>\n",
              "      <td>6.8</td>\n",
              "      <td>7.1</td>\n",
              "      <td>5.9</td>\n",
              "      <td>5.5</td>\n",
              "      <td>1.0</td>\n",
              "      <td>10</td>\n",
              "      <td>5</td>\n",
              "      <td>2</td>\n",
              "      <td>MUITO_BOM</td>\n",
              "    </tr>\n",
              "  </tbody>\n",
              "</table>\n",
              "<p>20000 rows × 13 columns</p>\n",
              "</div>"
            ],
            "text/plain": [
              "       REPROVACOES_DE  REPROVACOES_EM  ...  FALTAS       PERFIL\n",
              "19999               0               0  ...       6  DIFICULDADE\n",
              "6370                3               1  ...       7  DIFICULDADE\n",
              "14572               1               1  ...       5  DIFICULDADE\n",
              "6368                0               0  ...       6  DIFICULDADE\n",
              "6367                0               0  ...       4  DIFICULDADE\n",
              "...               ...             ...  ...     ...          ...\n",
              "12843               0               0  ...       3    MUITO_BOM\n",
              "5252                0               0  ...       4    MUITO_BOM\n",
              "19002               0               0  ...       3    MUITO_BOM\n",
              "8321                0               0  ...       3    MUITO_BOM\n",
              "16990               0               0  ...       2    MUITO_BOM\n",
              "\n",
              "[20000 rows x 13 columns]"
            ]
          },
          "metadata": {
            "tags": []
          },
          "execution_count": 52
        }
      ]
    },
    {
      "cell_type": "markdown",
      "metadata": {
        "id": "278MJK3XJqlj",
        "colab_type": "text"
      },
      "source": [
        "Podemos passar um lista também"
      ]
    },
    {
      "cell_type": "code",
      "metadata": {
        "id": "R6W6qZYFJTVY",
        "colab_type": "code",
        "colab": {
          "base_uri": "https://localhost:8080/",
          "height": 0
        },
        "outputId": "07d45032-f841-4ed8-f502-d59298b0b72c"
      },
      "source": [
        "# Classificação por PERFIL e NOTA_MF\n",
        "\n",
        "dados2.sort_values(by=['PERFIL', 'NOTA_MF'], ascending=False)"
      ],
      "execution_count": 53,
      "outputs": [
        {
          "output_type": "execute_result",
          "data": {
            "text/html": [
              "<div>\n",
              "<style scoped>\n",
              "    .dataframe tbody tr th:only-of-type {\n",
              "        vertical-align: middle;\n",
              "    }\n",
              "\n",
              "    .dataframe tbody tr th {\n",
              "        vertical-align: top;\n",
              "    }\n",
              "\n",
              "    .dataframe thead th {\n",
              "        text-align: right;\n",
              "    }\n",
              "</style>\n",
              "<table border=\"1\" class=\"dataframe\">\n",
              "  <thead>\n",
              "    <tr style=\"text-align: right;\">\n",
              "      <th></th>\n",
              "      <th>REPROVACOES_DE</th>\n",
              "      <th>REPROVACOES_EM</th>\n",
              "      <th>REPROVACOES_MF</th>\n",
              "      <th>REPROVACOES_GO</th>\n",
              "      <th>NOTA_DE</th>\n",
              "      <th>NOTA_EM</th>\n",
              "      <th>NOTA_MF</th>\n",
              "      <th>NOTA_GO</th>\n",
              "      <th>INGLES</th>\n",
              "      <th>H_AULA_PRES</th>\n",
              "      <th>TAREFAS_ONLINE</th>\n",
              "      <th>FALTAS</th>\n",
              "      <th>PERFIL</th>\n",
              "    </tr>\n",
              "  </thead>\n",
              "  <tbody>\n",
              "    <tr>\n",
              "      <th>6435</th>\n",
              "      <td>0</td>\n",
              "      <td>0</td>\n",
              "      <td>0</td>\n",
              "      <td>0</td>\n",
              "      <td>7.3</td>\n",
              "      <td>7.6</td>\n",
              "      <td>10.2</td>\n",
              "      <td>NaN</td>\n",
              "      <td>NaN</td>\n",
              "      <td>14</td>\n",
              "      <td>5</td>\n",
              "      <td>2</td>\n",
              "      <td>MUITO_BOM</td>\n",
              "    </tr>\n",
              "    <tr>\n",
              "      <th>11101</th>\n",
              "      <td>0</td>\n",
              "      <td>0</td>\n",
              "      <td>0</td>\n",
              "      <td>0</td>\n",
              "      <td>8.0</td>\n",
              "      <td>8.7</td>\n",
              "      <td>10.2</td>\n",
              "      <td>7.8</td>\n",
              "      <td>0.0</td>\n",
              "      <td>15</td>\n",
              "      <td>5</td>\n",
              "      <td>2</td>\n",
              "      <td>MUITO_BOM</td>\n",
              "    </tr>\n",
              "    <tr>\n",
              "      <th>15898</th>\n",
              "      <td>0</td>\n",
              "      <td>0</td>\n",
              "      <td>0</td>\n",
              "      <td>0</td>\n",
              "      <td>7.9</td>\n",
              "      <td>8.3</td>\n",
              "      <td>10.0</td>\n",
              "      <td>8.0</td>\n",
              "      <td>0.0</td>\n",
              "      <td>13</td>\n",
              "      <td>7</td>\n",
              "      <td>2</td>\n",
              "      <td>MUITO_BOM</td>\n",
              "    </tr>\n",
              "    <tr>\n",
              "      <th>18318</th>\n",
              "      <td>0</td>\n",
              "      <td>0</td>\n",
              "      <td>0</td>\n",
              "      <td>0</td>\n",
              "      <td>8.0</td>\n",
              "      <td>7.9</td>\n",
              "      <td>10.0</td>\n",
              "      <td>NaN</td>\n",
              "      <td>0.0</td>\n",
              "      <td>20</td>\n",
              "      <td>7</td>\n",
              "      <td>1</td>\n",
              "      <td>MUITO_BOM</td>\n",
              "    </tr>\n",
              "    <tr>\n",
              "      <th>7906</th>\n",
              "      <td>0</td>\n",
              "      <td>0</td>\n",
              "      <td>0</td>\n",
              "      <td>0</td>\n",
              "      <td>7.6</td>\n",
              "      <td>7.6</td>\n",
              "      <td>9.9</td>\n",
              "      <td>7.7</td>\n",
              "      <td>1.0</td>\n",
              "      <td>15</td>\n",
              "      <td>5</td>\n",
              "      <td>1</td>\n",
              "      <td>MUITO_BOM</td>\n",
              "    </tr>\n",
              "    <tr>\n",
              "      <th>...</th>\n",
              "      <td>...</td>\n",
              "      <td>...</td>\n",
              "      <td>...</td>\n",
              "      <td>...</td>\n",
              "      <td>...</td>\n",
              "      <td>...</td>\n",
              "      <td>...</td>\n",
              "      <td>...</td>\n",
              "      <td>...</td>\n",
              "      <td>...</td>\n",
              "      <td>...</td>\n",
              "      <td>...</td>\n",
              "      <td>...</td>\n",
              "    </tr>\n",
              "    <tr>\n",
              "      <th>19993</th>\n",
              "      <td>0</td>\n",
              "      <td>0</td>\n",
              "      <td>3</td>\n",
              "      <td>1</td>\n",
              "      <td>6.4</td>\n",
              "      <td>6.1</td>\n",
              "      <td>0.0</td>\n",
              "      <td>0.0</td>\n",
              "      <td>1.0</td>\n",
              "      <td>7</td>\n",
              "      <td>2</td>\n",
              "      <td>6</td>\n",
              "      <td>DIFICULDADE</td>\n",
              "    </tr>\n",
              "    <tr>\n",
              "      <th>19994</th>\n",
              "      <td>1</td>\n",
              "      <td>1</td>\n",
              "      <td>1</td>\n",
              "      <td>1</td>\n",
              "      <td>0.0</td>\n",
              "      <td>0.0</td>\n",
              "      <td>0.0</td>\n",
              "      <td>0.0</td>\n",
              "      <td>1.0</td>\n",
              "      <td>20</td>\n",
              "      <td>4</td>\n",
              "      <td>4</td>\n",
              "      <td>DIFICULDADE</td>\n",
              "    </tr>\n",
              "    <tr>\n",
              "      <th>19996</th>\n",
              "      <td>1</td>\n",
              "      <td>1</td>\n",
              "      <td>1</td>\n",
              "      <td>1</td>\n",
              "      <td>0.0</td>\n",
              "      <td>0.0</td>\n",
              "      <td>0.0</td>\n",
              "      <td>NaN</td>\n",
              "      <td>1.0</td>\n",
              "      <td>3</td>\n",
              "      <td>2</td>\n",
              "      <td>5</td>\n",
              "      <td>DIFICULDADE</td>\n",
              "    </tr>\n",
              "    <tr>\n",
              "      <th>19998</th>\n",
              "      <td>0</td>\n",
              "      <td>0</td>\n",
              "      <td>1</td>\n",
              "      <td>1</td>\n",
              "      <td>6.3</td>\n",
              "      <td>5.1</td>\n",
              "      <td>0.0</td>\n",
              "      <td>0.0</td>\n",
              "      <td>1.0</td>\n",
              "      <td>3</td>\n",
              "      <td>2</td>\n",
              "      <td>6</td>\n",
              "      <td>DIFICULDADE</td>\n",
              "    </tr>\n",
              "    <tr>\n",
              "      <th>19999</th>\n",
              "      <td>0</td>\n",
              "      <td>0</td>\n",
              "      <td>1</td>\n",
              "      <td>1</td>\n",
              "      <td>7.0</td>\n",
              "      <td>7.3</td>\n",
              "      <td>0.0</td>\n",
              "      <td>0.0</td>\n",
              "      <td>NaN</td>\n",
              "      <td>3</td>\n",
              "      <td>0</td>\n",
              "      <td>6</td>\n",
              "      <td>DIFICULDADE</td>\n",
              "    </tr>\n",
              "  </tbody>\n",
              "</table>\n",
              "<p>20000 rows × 13 columns</p>\n",
              "</div>"
            ],
            "text/plain": [
              "       REPROVACOES_DE  REPROVACOES_EM  ...  FALTAS       PERFIL\n",
              "6435                0               0  ...       2    MUITO_BOM\n",
              "11101               0               0  ...       2    MUITO_BOM\n",
              "15898               0               0  ...       2    MUITO_BOM\n",
              "18318               0               0  ...       1    MUITO_BOM\n",
              "7906                0               0  ...       1    MUITO_BOM\n",
              "...               ...             ...  ...     ...          ...\n",
              "19993               0               0  ...       6  DIFICULDADE\n",
              "19994               1               1  ...       4  DIFICULDADE\n",
              "19996               1               1  ...       5  DIFICULDADE\n",
              "19998               0               0  ...       6  DIFICULDADE\n",
              "19999               0               0  ...       6  DIFICULDADE\n",
              "\n",
              "[20000 rows x 13 columns]"
            ]
          },
          "metadata": {
            "tags": []
          },
          "execution_count": 53
        }
      ]
    },
    {
      "cell_type": "markdown",
      "metadata": {
        "id": "-p1ysNnVJ8j3",
        "colab_type": "text"
      },
      "source": [
        "Nesse caso, ele classificou primeiro por PERFIL e dentro das entradas de PERFIL classificou e ordenou de forma descendente as NOTAS_MF"
      ]
    },
    {
      "cell_type": "markdown",
      "metadata": {
        "id": "LdNWhDGcKppp",
        "colab_type": "text"
      },
      "source": [
        "## Correlações"
      ]
    },
    {
      "cell_type": "markdown",
      "metadata": {
        "id": "NcvcmCYLApUM",
        "colab_type": "text"
      },
      "source": [
        "Outra forma de ver informações pelos perfis é utilizando um crosstab(). Faz uma tabulação cruzando duas colunas."
      ]
    },
    {
      "cell_type": "code",
      "metadata": {
        "id": "bmshYjgCKrv7",
        "colab_type": "code",
        "colab": {
          "base_uri": "https://localhost:8080/",
          "height": 235
        },
        "outputId": "523767d8-bb26-463c-f794-8a2f10b5769a"
      },
      "source": [
        "#Crosstab\n",
        "\n",
        "#O primeiro parâmetro é o index(linhas) e depois são as colunas\n",
        "#No caso abaixo estamos cruzando o PERFIL com FALTAS\n",
        "pd.crosstab(dados2.PERFIL, dados2.FALTAS)\n"
      ],
      "execution_count": 54,
      "outputs": [
        {
          "output_type": "execute_result",
          "data": {
            "text/html": [
              "<div>\n",
              "<style scoped>\n",
              "    .dataframe tbody tr th:only-of-type {\n",
              "        vertical-align: middle;\n",
              "    }\n",
              "\n",
              "    .dataframe tbody tr th {\n",
              "        vertical-align: top;\n",
              "    }\n",
              "\n",
              "    .dataframe thead th {\n",
              "        text-align: right;\n",
              "    }\n",
              "</style>\n",
              "<table border=\"1\" class=\"dataframe\">\n",
              "  <thead>\n",
              "    <tr style=\"text-align: right;\">\n",
              "      <th>FALTAS</th>\n",
              "      <th>1</th>\n",
              "      <th>2</th>\n",
              "      <th>3</th>\n",
              "      <th>4</th>\n",
              "      <th>5</th>\n",
              "      <th>6</th>\n",
              "      <th>7</th>\n",
              "      <th>8</th>\n",
              "    </tr>\n",
              "    <tr>\n",
              "      <th>PERFIL</th>\n",
              "      <th></th>\n",
              "      <th></th>\n",
              "      <th></th>\n",
              "      <th></th>\n",
              "      <th></th>\n",
              "      <th></th>\n",
              "      <th></th>\n",
              "      <th></th>\n",
              "    </tr>\n",
              "  </thead>\n",
              "  <tbody>\n",
              "    <tr>\n",
              "      <th>DIFICULDADE</th>\n",
              "      <td>176</td>\n",
              "      <td>361</td>\n",
              "      <td>2135</td>\n",
              "      <td>1008</td>\n",
              "      <td>959</td>\n",
              "      <td>1651</td>\n",
              "      <td>437</td>\n",
              "      <td>274</td>\n",
              "    </tr>\n",
              "    <tr>\n",
              "      <th>EXATAS</th>\n",
              "      <td>307</td>\n",
              "      <td>604</td>\n",
              "      <td>2974</td>\n",
              "      <td>1236</td>\n",
              "      <td>1058</td>\n",
              "      <td>1488</td>\n",
              "      <td>325</td>\n",
              "      <td>238</td>\n",
              "    </tr>\n",
              "    <tr>\n",
              "      <th>EXCELENTE</th>\n",
              "      <td>147</td>\n",
              "      <td>191</td>\n",
              "      <td>248</td>\n",
              "      <td>46</td>\n",
              "      <td>22</td>\n",
              "      <td>11</td>\n",
              "      <td>0</td>\n",
              "      <td>6</td>\n",
              "    </tr>\n",
              "    <tr>\n",
              "      <th>HUMANAS</th>\n",
              "      <td>215</td>\n",
              "      <td>349</td>\n",
              "      <td>1289</td>\n",
              "      <td>476</td>\n",
              "      <td>359</td>\n",
              "      <td>379</td>\n",
              "      <td>59</td>\n",
              "      <td>70</td>\n",
              "    </tr>\n",
              "    <tr>\n",
              "      <th>MUITO_BOM</th>\n",
              "      <td>118</td>\n",
              "      <td>165</td>\n",
              "      <td>397</td>\n",
              "      <td>100</td>\n",
              "      <td>56</td>\n",
              "      <td>50</td>\n",
              "      <td>7</td>\n",
              "      <td>9</td>\n",
              "    </tr>\n",
              "  </tbody>\n",
              "</table>\n",
              "</div>"
            ],
            "text/plain": [
              "FALTAS         1    2     3     4     5     6    7    8\n",
              "PERFIL                                                 \n",
              "DIFICULDADE  176  361  2135  1008   959  1651  437  274\n",
              "EXATAS       307  604  2974  1236  1058  1488  325  238\n",
              "EXCELENTE    147  191   248    46    22    11    0    6\n",
              "HUMANAS      215  349  1289   476   359   379   59   70\n",
              "MUITO_BOM    118  165   397   100    56    50    7    9"
            ]
          },
          "metadata": {
            "tags": []
          },
          "execution_count": 54
        }
      ]
    },
    {
      "cell_type": "code",
      "metadata": {
        "id": "0D6vjEvMLc1A",
        "colab_type": "code",
        "colab": {
          "base_uri": "https://localhost:8080/",
          "height": 328
        },
        "outputId": "1347a228-c288-4f57-f61f-6044ba8cc4ba"
      },
      "source": [
        "#Podemos alterar a ordem para ter uma vizualização melhor talvez\n",
        "#Nesse caso queremos ver a quantidade de faltas dos alunos por cada PERFIL.\n",
        "#Basicamente o que estava acima\n",
        "\n",
        "pd.crosstab(dados2.FALTAS, dados2.PERFIL)"
      ],
      "execution_count": 55,
      "outputs": [
        {
          "output_type": "execute_result",
          "data": {
            "text/html": [
              "<div>\n",
              "<style scoped>\n",
              "    .dataframe tbody tr th:only-of-type {\n",
              "        vertical-align: middle;\n",
              "    }\n",
              "\n",
              "    .dataframe tbody tr th {\n",
              "        vertical-align: top;\n",
              "    }\n",
              "\n",
              "    .dataframe thead th {\n",
              "        text-align: right;\n",
              "    }\n",
              "</style>\n",
              "<table border=\"1\" class=\"dataframe\">\n",
              "  <thead>\n",
              "    <tr style=\"text-align: right;\">\n",
              "      <th>PERFIL</th>\n",
              "      <th>DIFICULDADE</th>\n",
              "      <th>EXATAS</th>\n",
              "      <th>EXCELENTE</th>\n",
              "      <th>HUMANAS</th>\n",
              "      <th>MUITO_BOM</th>\n",
              "    </tr>\n",
              "    <tr>\n",
              "      <th>FALTAS</th>\n",
              "      <th></th>\n",
              "      <th></th>\n",
              "      <th></th>\n",
              "      <th></th>\n",
              "      <th></th>\n",
              "    </tr>\n",
              "  </thead>\n",
              "  <tbody>\n",
              "    <tr>\n",
              "      <th>1</th>\n",
              "      <td>176</td>\n",
              "      <td>307</td>\n",
              "      <td>147</td>\n",
              "      <td>215</td>\n",
              "      <td>118</td>\n",
              "    </tr>\n",
              "    <tr>\n",
              "      <th>2</th>\n",
              "      <td>361</td>\n",
              "      <td>604</td>\n",
              "      <td>191</td>\n",
              "      <td>349</td>\n",
              "      <td>165</td>\n",
              "    </tr>\n",
              "    <tr>\n",
              "      <th>3</th>\n",
              "      <td>2135</td>\n",
              "      <td>2974</td>\n",
              "      <td>248</td>\n",
              "      <td>1289</td>\n",
              "      <td>397</td>\n",
              "    </tr>\n",
              "    <tr>\n",
              "      <th>4</th>\n",
              "      <td>1008</td>\n",
              "      <td>1236</td>\n",
              "      <td>46</td>\n",
              "      <td>476</td>\n",
              "      <td>100</td>\n",
              "    </tr>\n",
              "    <tr>\n",
              "      <th>5</th>\n",
              "      <td>959</td>\n",
              "      <td>1058</td>\n",
              "      <td>22</td>\n",
              "      <td>359</td>\n",
              "      <td>56</td>\n",
              "    </tr>\n",
              "    <tr>\n",
              "      <th>6</th>\n",
              "      <td>1651</td>\n",
              "      <td>1488</td>\n",
              "      <td>11</td>\n",
              "      <td>379</td>\n",
              "      <td>50</td>\n",
              "    </tr>\n",
              "    <tr>\n",
              "      <th>7</th>\n",
              "      <td>437</td>\n",
              "      <td>325</td>\n",
              "      <td>0</td>\n",
              "      <td>59</td>\n",
              "      <td>7</td>\n",
              "    </tr>\n",
              "    <tr>\n",
              "      <th>8</th>\n",
              "      <td>274</td>\n",
              "      <td>238</td>\n",
              "      <td>6</td>\n",
              "      <td>70</td>\n",
              "      <td>9</td>\n",
              "    </tr>\n",
              "  </tbody>\n",
              "</table>\n",
              "</div>"
            ],
            "text/plain": [
              "PERFIL  DIFICULDADE  EXATAS  EXCELENTE  HUMANAS  MUITO_BOM\n",
              "FALTAS                                                    \n",
              "1               176     307        147      215        118\n",
              "2               361     604        191      349        165\n",
              "3              2135    2974        248     1289        397\n",
              "4              1008    1236         46      476        100\n",
              "5               959    1058         22      359         56\n",
              "6              1651    1488         11      379         50\n",
              "7               437     325          0       59          7\n",
              "8               274     238          6       70          9"
            ]
          },
          "metadata": {
            "tags": []
          },
          "execution_count": 55
        }
      ]
    },
    {
      "cell_type": "markdown",
      "metadata": {
        "id": "lcezbZUCM0En",
        "colab_type": "text"
      },
      "source": [
        "Vamos trazer um realação igaual a anterior, mas agora conferindo a média das notas de Direito Empresarial"
      ]
    },
    {
      "cell_type": "code",
      "metadata": {
        "id": "nOCsci2vL0x9",
        "colab_type": "code",
        "colab": {
          "base_uri": "https://localhost:8080/",
          "height": 328
        },
        "outputId": "e96af887-b7b3-48db-e44a-952d526218e3"
      },
      "source": [
        "pd.crosstab(dados2.FALTAS, dados2.PERFIL, values=dados.NOTA_DE, aggfunc='mean')"
      ],
      "execution_count": 56,
      "outputs": [
        {
          "output_type": "execute_result",
          "data": {
            "text/html": [
              "<div>\n",
              "<style scoped>\n",
              "    .dataframe tbody tr th:only-of-type {\n",
              "        vertical-align: middle;\n",
              "    }\n",
              "\n",
              "    .dataframe tbody tr th {\n",
              "        vertical-align: top;\n",
              "    }\n",
              "\n",
              "    .dataframe thead th {\n",
              "        text-align: right;\n",
              "    }\n",
              "</style>\n",
              "<table border=\"1\" class=\"dataframe\">\n",
              "  <thead>\n",
              "    <tr style=\"text-align: right;\">\n",
              "      <th>PERFIL</th>\n",
              "      <th>DIFICULDADE</th>\n",
              "      <th>EXATAS</th>\n",
              "      <th>EXCELENTE</th>\n",
              "      <th>HUMANAS</th>\n",
              "      <th>MUITO_BOM</th>\n",
              "    </tr>\n",
              "    <tr>\n",
              "      <th>FALTAS</th>\n",
              "      <th></th>\n",
              "      <th></th>\n",
              "      <th></th>\n",
              "      <th></th>\n",
              "      <th></th>\n",
              "    </tr>\n",
              "  </thead>\n",
              "  <tbody>\n",
              "    <tr>\n",
              "      <th>1</th>\n",
              "      <td>2.834659</td>\n",
              "      <td>6.464821</td>\n",
              "      <td>7.682993</td>\n",
              "      <td>6.946047</td>\n",
              "      <td>7.301695</td>\n",
              "    </tr>\n",
              "    <tr>\n",
              "      <th>2</th>\n",
              "      <td>2.808587</td>\n",
              "      <td>6.400662</td>\n",
              "      <td>7.608377</td>\n",
              "      <td>6.867049</td>\n",
              "      <td>7.184848</td>\n",
              "    </tr>\n",
              "    <tr>\n",
              "      <th>3</th>\n",
              "      <td>2.851991</td>\n",
              "      <td>6.318662</td>\n",
              "      <td>7.476210</td>\n",
              "      <td>6.718542</td>\n",
              "      <td>7.068766</td>\n",
              "    </tr>\n",
              "    <tr>\n",
              "      <th>4</th>\n",
              "      <td>2.813591</td>\n",
              "      <td>6.221278</td>\n",
              "      <td>7.628261</td>\n",
              "      <td>6.624790</td>\n",
              "      <td>6.974000</td>\n",
              "    </tr>\n",
              "    <tr>\n",
              "      <th>5</th>\n",
              "      <td>2.745881</td>\n",
              "      <td>6.208412</td>\n",
              "      <td>7.477273</td>\n",
              "      <td>6.632033</td>\n",
              "      <td>6.935714</td>\n",
              "    </tr>\n",
              "    <tr>\n",
              "      <th>6</th>\n",
              "      <td>2.722835</td>\n",
              "      <td>6.142944</td>\n",
              "      <td>7.472727</td>\n",
              "      <td>6.596306</td>\n",
              "      <td>6.980000</td>\n",
              "    </tr>\n",
              "    <tr>\n",
              "      <th>7</th>\n",
              "      <td>2.640961</td>\n",
              "      <td>6.089231</td>\n",
              "      <td>NaN</td>\n",
              "      <td>6.615254</td>\n",
              "      <td>7.014286</td>\n",
              "    </tr>\n",
              "    <tr>\n",
              "      <th>8</th>\n",
              "      <td>2.961679</td>\n",
              "      <td>6.125630</td>\n",
              "      <td>7.533333</td>\n",
              "      <td>6.648571</td>\n",
              "      <td>7.111111</td>\n",
              "    </tr>\n",
              "  </tbody>\n",
              "</table>\n",
              "</div>"
            ],
            "text/plain": [
              "PERFIL  DIFICULDADE    EXATAS  EXCELENTE   HUMANAS  MUITO_BOM\n",
              "FALTAS                                                       \n",
              "1          2.834659  6.464821   7.682993  6.946047   7.301695\n",
              "2          2.808587  6.400662   7.608377  6.867049   7.184848\n",
              "3          2.851991  6.318662   7.476210  6.718542   7.068766\n",
              "4          2.813591  6.221278   7.628261  6.624790   6.974000\n",
              "5          2.745881  6.208412   7.477273  6.632033   6.935714\n",
              "6          2.722835  6.142944   7.472727  6.596306   6.980000\n",
              "7          2.640961  6.089231        NaN  6.615254   7.014286\n",
              "8          2.961679  6.125630   7.533333  6.648571   7.111111"
            ]
          },
          "metadata": {
            "tags": []
          },
          "execution_count": 56
        }
      ]
    },
    {
      "cell_type": "markdown",
      "metadata": {
        "id": "dAFSVVKwNbnE",
        "colab_type": "text"
      },
      "source": [
        "Podemos passar uma série de funções\n"
      ]
    },
    {
      "cell_type": "code",
      "metadata": {
        "id": "Ffrv5ojEMoFJ",
        "colab_type": "code",
        "colab": {
          "base_uri": "https://localhost:8080/",
          "height": 379
        },
        "outputId": "dda33098-332a-4f76-be0a-607867fb982a"
      },
      "source": [
        "#Usando funções de outros valores\n",
        "\n",
        "pd.crosstab(dados2.FALTAS, dados2.PERFIL, values=dados.NOTA_GO, aggfunc=['mean', 'median', 'std'])\n"
      ],
      "execution_count": 57,
      "outputs": [
        {
          "output_type": "execute_result",
          "data": {
            "text/html": [
              "<div>\n",
              "<style scoped>\n",
              "    .dataframe tbody tr th:only-of-type {\n",
              "        vertical-align: middle;\n",
              "    }\n",
              "\n",
              "    .dataframe tbody tr th {\n",
              "        vertical-align: top;\n",
              "    }\n",
              "\n",
              "    .dataframe thead tr th {\n",
              "        text-align: left;\n",
              "    }\n",
              "\n",
              "    .dataframe thead tr:last-of-type th {\n",
              "        text-align: right;\n",
              "    }\n",
              "</style>\n",
              "<table border=\"1\" class=\"dataframe\">\n",
              "  <thead>\n",
              "    <tr>\n",
              "      <th></th>\n",
              "      <th colspan=\"5\" halign=\"left\">mean</th>\n",
              "      <th colspan=\"5\" halign=\"left\">median</th>\n",
              "      <th colspan=\"5\" halign=\"left\">std</th>\n",
              "    </tr>\n",
              "    <tr>\n",
              "      <th>PERFIL</th>\n",
              "      <th>DIFICULDADE</th>\n",
              "      <th>EXATAS</th>\n",
              "      <th>EXCELENTE</th>\n",
              "      <th>HUMANAS</th>\n",
              "      <th>MUITO_BOM</th>\n",
              "      <th>DIFICULDADE</th>\n",
              "      <th>EXATAS</th>\n",
              "      <th>EXCELENTE</th>\n",
              "      <th>HUMANAS</th>\n",
              "      <th>MUITO_BOM</th>\n",
              "      <th>DIFICULDADE</th>\n",
              "      <th>EXATAS</th>\n",
              "      <th>EXCELENTE</th>\n",
              "      <th>HUMANAS</th>\n",
              "      <th>MUITO_BOM</th>\n",
              "    </tr>\n",
              "    <tr>\n",
              "      <th>FALTAS</th>\n",
              "      <th></th>\n",
              "      <th></th>\n",
              "      <th></th>\n",
              "      <th></th>\n",
              "      <th></th>\n",
              "      <th></th>\n",
              "      <th></th>\n",
              "      <th></th>\n",
              "      <th></th>\n",
              "      <th></th>\n",
              "      <th></th>\n",
              "      <th></th>\n",
              "      <th></th>\n",
              "      <th></th>\n",
              "      <th></th>\n",
              "    </tr>\n",
              "  </thead>\n",
              "  <tbody>\n",
              "    <tr>\n",
              "      <th>1</th>\n",
              "      <td>2.040426</td>\n",
              "      <td>5.616194</td>\n",
              "      <td>7.570940</td>\n",
              "      <td>6.433696</td>\n",
              "      <td>7.012500</td>\n",
              "      <td>0.0</td>\n",
              "      <td>5.7</td>\n",
              "      <td>7.60</td>\n",
              "      <td>6.5</td>\n",
              "      <td>7.10</td>\n",
              "      <td>2.629883</td>\n",
              "      <td>1.168272</td>\n",
              "      <td>0.535959</td>\n",
              "      <td>0.817069</td>\n",
              "      <td>0.631486</td>\n",
              "    </tr>\n",
              "    <tr>\n",
              "      <th>2</th>\n",
              "      <td>1.672368</td>\n",
              "      <td>5.586598</td>\n",
              "      <td>7.508125</td>\n",
              "      <td>6.351228</td>\n",
              "      <td>6.935156</td>\n",
              "      <td>0.0</td>\n",
              "      <td>5.6</td>\n",
              "      <td>7.50</td>\n",
              "      <td>6.4</td>\n",
              "      <td>6.95</td>\n",
              "      <td>2.517705</td>\n",
              "      <td>1.065037</td>\n",
              "      <td>0.595473</td>\n",
              "      <td>0.789125</td>\n",
              "      <td>0.594276</td>\n",
              "    </tr>\n",
              "    <tr>\n",
              "      <th>3</th>\n",
              "      <td>2.106036</td>\n",
              "      <td>5.593851</td>\n",
              "      <td>7.349000</td>\n",
              "      <td>6.166043</td>\n",
              "      <td>6.814671</td>\n",
              "      <td>0.0</td>\n",
              "      <td>5.6</td>\n",
              "      <td>7.35</td>\n",
              "      <td>6.2</td>\n",
              "      <td>6.90</td>\n",
              "      <td>2.601141</td>\n",
              "      <td>0.845744</td>\n",
              "      <td>0.590289</td>\n",
              "      <td>0.816438</td>\n",
              "      <td>0.639581</td>\n",
              "    </tr>\n",
              "    <tr>\n",
              "      <th>4</th>\n",
              "      <td>2.103210</td>\n",
              "      <td>5.479779</td>\n",
              "      <td>7.556250</td>\n",
              "      <td>5.990263</td>\n",
              "      <td>6.463291</td>\n",
              "      <td>0.0</td>\n",
              "      <td>5.5</td>\n",
              "      <td>7.60</td>\n",
              "      <td>6.0</td>\n",
              "      <td>6.50</td>\n",
              "      <td>2.562054</td>\n",
              "      <td>0.941428</td>\n",
              "      <td>0.790646</td>\n",
              "      <td>0.771070</td>\n",
              "      <td>0.743377</td>\n",
              "    </tr>\n",
              "    <tr>\n",
              "      <th>5</th>\n",
              "      <td>1.948546</td>\n",
              "      <td>5.533373</td>\n",
              "      <td>7.450000</td>\n",
              "      <td>5.988552</td>\n",
              "      <td>6.555000</td>\n",
              "      <td>0.0</td>\n",
              "      <td>5.5</td>\n",
              "      <td>7.50</td>\n",
              "      <td>6.0</td>\n",
              "      <td>6.55</td>\n",
              "      <td>2.515903</td>\n",
              "      <td>0.691141</td>\n",
              "      <td>0.590364</td>\n",
              "      <td>0.788046</td>\n",
              "      <td>0.684611</td>\n",
              "    </tr>\n",
              "    <tr>\n",
              "      <th>6</th>\n",
              "      <td>2.026405</td>\n",
              "      <td>5.505588</td>\n",
              "      <td>7.390909</td>\n",
              "      <td>6.089610</td>\n",
              "      <td>6.658537</td>\n",
              "      <td>0.0</td>\n",
              "      <td>5.5</td>\n",
              "      <td>7.40</td>\n",
              "      <td>6.1</td>\n",
              "      <td>6.70</td>\n",
              "      <td>2.557856</td>\n",
              "      <td>0.800104</td>\n",
              "      <td>0.398634</td>\n",
              "      <td>0.818608</td>\n",
              "      <td>0.649606</td>\n",
              "    </tr>\n",
              "    <tr>\n",
              "      <th>7</th>\n",
              "      <td>2.037569</td>\n",
              "      <td>5.486517</td>\n",
              "      <td>NaN</td>\n",
              "      <td>5.969388</td>\n",
              "      <td>6.300000</td>\n",
              "      <td>0.0</td>\n",
              "      <td>5.4</td>\n",
              "      <td>NaN</td>\n",
              "      <td>6.1</td>\n",
              "      <td>6.50</td>\n",
              "      <td>2.539859</td>\n",
              "      <td>0.828785</td>\n",
              "      <td>NaN</td>\n",
              "      <td>0.883224</td>\n",
              "      <td>1.046900</td>\n",
              "    </tr>\n",
              "    <tr>\n",
              "      <th>8</th>\n",
              "      <td>2.237229</td>\n",
              "      <td>5.487895</td>\n",
              "      <td>7.566667</td>\n",
              "      <td>6.130645</td>\n",
              "      <td>6.650000</td>\n",
              "      <td>0.0</td>\n",
              "      <td>5.5</td>\n",
              "      <td>7.65</td>\n",
              "      <td>6.2</td>\n",
              "      <td>6.55</td>\n",
              "      <td>2.592279</td>\n",
              "      <td>0.844723</td>\n",
              "      <td>0.471876</td>\n",
              "      <td>0.783349</td>\n",
              "      <td>0.848528</td>\n",
              "    </tr>\n",
              "  </tbody>\n",
              "</table>\n",
              "</div>"
            ],
            "text/plain": [
              "              mean                      ...       std                    \n",
              "PERFIL DIFICULDADE    EXATAS EXCELENTE  ... EXCELENTE   HUMANAS MUITO_BOM\n",
              "FALTAS                                  ...                              \n",
              "1         2.040426  5.616194  7.570940  ...  0.535959  0.817069  0.631486\n",
              "2         1.672368  5.586598  7.508125  ...  0.595473  0.789125  0.594276\n",
              "3         2.106036  5.593851  7.349000  ...  0.590289  0.816438  0.639581\n",
              "4         2.103210  5.479779  7.556250  ...  0.790646  0.771070  0.743377\n",
              "5         1.948546  5.533373  7.450000  ...  0.590364  0.788046  0.684611\n",
              "6         2.026405  5.505588  7.390909  ...  0.398634  0.818608  0.649606\n",
              "7         2.037569  5.486517       NaN  ...       NaN  0.883224  1.046900\n",
              "8         2.237229  5.487895  7.566667  ...  0.471876  0.783349  0.848528\n",
              "\n",
              "[8 rows x 15 columns]"
            ]
          },
          "metadata": {
            "tags": []
          },
          "execution_count": 57
        }
      ]
    },
    {
      "cell_type": "markdown",
      "metadata": {
        "id": "eKjvQ5nTN-ZI",
        "colab_type": "text"
      },
      "source": [
        "Está cruzando os dados do PERFIL com as FALTAS com a média, mediana e o desvio padrão da Nota de Gestão Operacional.\n",
        "\n",
        "Muito bom fazer isso para entender as relações e extrair algum dado importante que possamos utilziar para o pré-processamento."
      ]
    },
    {
      "cell_type": "code",
      "metadata": {
        "id": "iRosq0wbNkWv",
        "colab_type": "code",
        "colab": {
          "base_uri": "https://localhost:8080/",
          "height": 266
        },
        "outputId": "7f4f0d0e-e30a-4d79-8b20-8e1f5f15bfe3"
      },
      "source": [
        "#Usando funções de outros valores\n",
        "\n",
        "pd.crosstab(dados2.PERFIL, dados2.INGLES, values=dados.NOTA_GO, aggfunc=['mean', 'median', 'std'])\n"
      ],
      "execution_count": 58,
      "outputs": [
        {
          "output_type": "execute_result",
          "data": {
            "text/html": [
              "<div>\n",
              "<style scoped>\n",
              "    .dataframe tbody tr th:only-of-type {\n",
              "        vertical-align: middle;\n",
              "    }\n",
              "\n",
              "    .dataframe tbody tr th {\n",
              "        vertical-align: top;\n",
              "    }\n",
              "\n",
              "    .dataframe thead tr th {\n",
              "        text-align: left;\n",
              "    }\n",
              "\n",
              "    .dataframe thead tr:last-of-type th {\n",
              "        text-align: right;\n",
              "    }\n",
              "</style>\n",
              "<table border=\"1\" class=\"dataframe\">\n",
              "  <thead>\n",
              "    <tr>\n",
              "      <th></th>\n",
              "      <th colspan=\"2\" halign=\"left\">mean</th>\n",
              "      <th colspan=\"2\" halign=\"left\">median</th>\n",
              "      <th colspan=\"2\" halign=\"left\">std</th>\n",
              "    </tr>\n",
              "    <tr>\n",
              "      <th>INGLES</th>\n",
              "      <th>0.0</th>\n",
              "      <th>1.0</th>\n",
              "      <th>0.0</th>\n",
              "      <th>1.0</th>\n",
              "      <th>0.0</th>\n",
              "      <th>1.0</th>\n",
              "    </tr>\n",
              "    <tr>\n",
              "      <th>PERFIL</th>\n",
              "      <th></th>\n",
              "      <th></th>\n",
              "      <th></th>\n",
              "      <th></th>\n",
              "      <th></th>\n",
              "      <th></th>\n",
              "    </tr>\n",
              "  </thead>\n",
              "  <tbody>\n",
              "    <tr>\n",
              "      <th>DIFICULDADE</th>\n",
              "      <td>2.161388</td>\n",
              "      <td>1.987948</td>\n",
              "      <td>0.0</td>\n",
              "      <td>0.0</td>\n",
              "      <td>2.600019</td>\n",
              "      <td>2.553370</td>\n",
              "    </tr>\n",
              "    <tr>\n",
              "      <th>EXATAS</th>\n",
              "      <td>5.607210</td>\n",
              "      <td>5.524000</td>\n",
              "      <td>5.6</td>\n",
              "      <td>5.5</td>\n",
              "      <td>0.905799</td>\n",
              "      <td>0.858321</td>\n",
              "    </tr>\n",
              "    <tr>\n",
              "      <th>EXCELENTE</th>\n",
              "      <td>7.493581</td>\n",
              "      <td>7.431081</td>\n",
              "      <td>7.5</td>\n",
              "      <td>7.4</td>\n",
              "      <td>0.592146</td>\n",
              "      <td>0.597484</td>\n",
              "    </tr>\n",
              "    <tr>\n",
              "      <th>HUMANAS</th>\n",
              "      <td>6.283760</td>\n",
              "      <td>6.071521</td>\n",
              "      <td>6.4</td>\n",
              "      <td>6.1</td>\n",
              "      <td>0.810223</td>\n",
              "      <td>0.803292</td>\n",
              "    </tr>\n",
              "    <tr>\n",
              "      <th>MUITO_BOM</th>\n",
              "      <td>6.910968</td>\n",
              "      <td>6.662458</td>\n",
              "      <td>6.9</td>\n",
              "      <td>6.8</td>\n",
              "      <td>0.645329</td>\n",
              "      <td>0.717323</td>\n",
              "    </tr>\n",
              "  </tbody>\n",
              "</table>\n",
              "</div>"
            ],
            "text/plain": [
              "                 mean           median            std          \n",
              "INGLES            0.0       1.0    0.0  1.0       0.0       1.0\n",
              "PERFIL                                                         \n",
              "DIFICULDADE  2.161388  1.987948    0.0  0.0  2.600019  2.553370\n",
              "EXATAS       5.607210  5.524000    5.6  5.5  0.905799  0.858321\n",
              "EXCELENTE    7.493581  7.431081    7.5  7.4  0.592146  0.597484\n",
              "HUMANAS      6.283760  6.071521    6.4  6.1  0.810223  0.803292\n",
              "MUITO_BOM    6.910968  6.662458    6.9  6.8  0.645329  0.717323"
            ]
          },
          "metadata": {
            "tags": []
          },
          "execution_count": 58
        }
      ]
    },
    {
      "cell_type": "markdown",
      "metadata": {
        "id": "xPFk_w8iO1OL",
        "colab_type": "text"
      },
      "source": [
        "Cruzando o PERFIL com INGLES, média, mediana e desvio padrão da Nota de Gestão Operacional.\n",
        "Podemos perceber por exemplo que praticamente não tem diferença entre ter e não ter inglês."
      ]
    },
    {
      "cell_type": "markdown",
      "metadata": {
        "id": "b_JNRYf6PVLb",
        "colab_type": "text"
      },
      "source": [
        "### Outra forma de fazer correlações\n",
        "\n",
        "Pegando apenas os dados numéricos"
      ]
    },
    {
      "cell_type": "code",
      "metadata": {
        "id": "dPH6W3nLPSm4",
        "colab_type": "code",
        "colab": {
          "base_uri": "https://localhost:8080/",
          "height": 0
        },
        "outputId": "40f238f3-cf31-44b4-fea3-5261e0930696"
      },
      "source": [
        "# Usando a função corr\n",
        "\n",
        "dados2.corr()"
      ],
      "execution_count": 59,
      "outputs": [
        {
          "output_type": "execute_result",
          "data": {
            "text/html": [
              "<div>\n",
              "<style scoped>\n",
              "    .dataframe tbody tr th:only-of-type {\n",
              "        vertical-align: middle;\n",
              "    }\n",
              "\n",
              "    .dataframe tbody tr th {\n",
              "        vertical-align: top;\n",
              "    }\n",
              "\n",
              "    .dataframe thead th {\n",
              "        text-align: right;\n",
              "    }\n",
              "</style>\n",
              "<table border=\"1\" class=\"dataframe\">\n",
              "  <thead>\n",
              "    <tr style=\"text-align: right;\">\n",
              "      <th></th>\n",
              "      <th>REPROVACOES_DE</th>\n",
              "      <th>REPROVACOES_EM</th>\n",
              "      <th>REPROVACOES_MF</th>\n",
              "      <th>REPROVACOES_GO</th>\n",
              "      <th>NOTA_DE</th>\n",
              "      <th>NOTA_EM</th>\n",
              "      <th>NOTA_MF</th>\n",
              "      <th>NOTA_GO</th>\n",
              "      <th>INGLES</th>\n",
              "      <th>H_AULA_PRES</th>\n",
              "      <th>TAREFAS_ONLINE</th>\n",
              "      <th>FALTAS</th>\n",
              "    </tr>\n",
              "  </thead>\n",
              "  <tbody>\n",
              "    <tr>\n",
              "      <th>REPROVACOES_DE</th>\n",
              "      <td>1.000000</td>\n",
              "      <td>0.718194</td>\n",
              "      <td>0.627279</td>\n",
              "      <td>0.635341</td>\n",
              "      <td>-0.813435</td>\n",
              "      <td>-0.794798</td>\n",
              "      <td>-0.692948</td>\n",
              "      <td>-0.710445</td>\n",
              "      <td>0.056715</td>\n",
              "      <td>-0.055391</td>\n",
              "      <td>-0.085484</td>\n",
              "      <td>0.094888</td>\n",
              "    </tr>\n",
              "    <tr>\n",
              "      <th>REPROVACOES_EM</th>\n",
              "      <td>0.718194</td>\n",
              "      <td>1.000000</td>\n",
              "      <td>0.630179</td>\n",
              "      <td>0.626988</td>\n",
              "      <td>-0.813435</td>\n",
              "      <td>-0.794798</td>\n",
              "      <td>-0.692389</td>\n",
              "      <td>-0.710117</td>\n",
              "      <td>0.060648</td>\n",
              "      <td>-0.065024</td>\n",
              "      <td>-0.086449</td>\n",
              "      <td>0.097509</td>\n",
              "    </tr>\n",
              "    <tr>\n",
              "      <th>REPROVACOES_MF</th>\n",
              "      <td>0.627279</td>\n",
              "      <td>0.630179</td>\n",
              "      <td>1.000000</td>\n",
              "      <td>0.716056</td>\n",
              "      <td>-0.724459</td>\n",
              "      <td>-0.713168</td>\n",
              "      <td>-0.779373</td>\n",
              "      <td>-0.801010</td>\n",
              "      <td>0.065121</td>\n",
              "      <td>-0.064817</td>\n",
              "      <td>-0.090557</td>\n",
              "      <td>0.102211</td>\n",
              "    </tr>\n",
              "    <tr>\n",
              "      <th>REPROVACOES_GO</th>\n",
              "      <td>0.635341</td>\n",
              "      <td>0.626988</td>\n",
              "      <td>0.716056</td>\n",
              "      <td>1.000000</td>\n",
              "      <td>-0.723049</td>\n",
              "      <td>-0.713200</td>\n",
              "      <td>-0.780861</td>\n",
              "      <td>-0.801819</td>\n",
              "      <td>0.069652</td>\n",
              "      <td>-0.069179</td>\n",
              "      <td>-0.090917</td>\n",
              "      <td>0.107030</td>\n",
              "    </tr>\n",
              "    <tr>\n",
              "      <th>NOTA_DE</th>\n",
              "      <td>-0.813435</td>\n",
              "      <td>-0.813435</td>\n",
              "      <td>-0.724459</td>\n",
              "      <td>-0.723049</td>\n",
              "      <td>1.000000</td>\n",
              "      <td>0.969557</td>\n",
              "      <td>0.850942</td>\n",
              "      <td>0.867028</td>\n",
              "      <td>-0.106027</td>\n",
              "      <td>0.157820</td>\n",
              "      <td>0.158549</td>\n",
              "      <td>-0.176007</td>\n",
              "    </tr>\n",
              "    <tr>\n",
              "      <th>NOTA_EM</th>\n",
              "      <td>-0.794798</td>\n",
              "      <td>-0.794798</td>\n",
              "      <td>-0.713168</td>\n",
              "      <td>-0.713200</td>\n",
              "      <td>0.969557</td>\n",
              "      <td>1.000000</td>\n",
              "      <td>0.853037</td>\n",
              "      <td>0.869426</td>\n",
              "      <td>-0.115077</td>\n",
              "      <td>0.175144</td>\n",
              "      <td>0.167702</td>\n",
              "      <td>-0.178978</td>\n",
              "    </tr>\n",
              "    <tr>\n",
              "      <th>NOTA_MF</th>\n",
              "      <td>-0.692948</td>\n",
              "      <td>-0.692389</td>\n",
              "      <td>-0.779373</td>\n",
              "      <td>-0.780861</td>\n",
              "      <td>0.850942</td>\n",
              "      <td>0.853037</td>\n",
              "      <td>1.000000</td>\n",
              "      <td>0.948487</td>\n",
              "      <td>-0.128408</td>\n",
              "      <td>0.213406</td>\n",
              "      <td>0.186934</td>\n",
              "      <td>-0.200538</td>\n",
              "    </tr>\n",
              "    <tr>\n",
              "      <th>NOTA_GO</th>\n",
              "      <td>-0.710445</td>\n",
              "      <td>-0.710117</td>\n",
              "      <td>-0.801010</td>\n",
              "      <td>-0.801819</td>\n",
              "      <td>0.867028</td>\n",
              "      <td>0.869426</td>\n",
              "      <td>0.948487</td>\n",
              "      <td>1.000000</td>\n",
              "      <td>-0.116421</td>\n",
              "      <td>0.181685</td>\n",
              "      <td>0.169990</td>\n",
              "      <td>-0.180111</td>\n",
              "    </tr>\n",
              "    <tr>\n",
              "      <th>INGLES</th>\n",
              "      <td>0.056715</td>\n",
              "      <td>0.060648</td>\n",
              "      <td>0.065121</td>\n",
              "      <td>0.069652</td>\n",
              "      <td>-0.106027</td>\n",
              "      <td>-0.115077</td>\n",
              "      <td>-0.128408</td>\n",
              "      <td>-0.116421</td>\n",
              "      <td>1.000000</td>\n",
              "      <td>-0.174072</td>\n",
              "      <td>-0.149433</td>\n",
              "      <td>0.141218</td>\n",
              "    </tr>\n",
              "    <tr>\n",
              "      <th>H_AULA_PRES</th>\n",
              "      <td>-0.055391</td>\n",
              "      <td>-0.065024</td>\n",
              "      <td>-0.064817</td>\n",
              "      <td>-0.069179</td>\n",
              "      <td>0.157820</td>\n",
              "      <td>0.175144</td>\n",
              "      <td>0.213406</td>\n",
              "      <td>0.181685</td>\n",
              "      <td>-0.174072</td>\n",
              "      <td>1.000000</td>\n",
              "      <td>0.349416</td>\n",
              "      <td>-0.349608</td>\n",
              "    </tr>\n",
              "    <tr>\n",
              "      <th>TAREFAS_ONLINE</th>\n",
              "      <td>-0.085484</td>\n",
              "      <td>-0.086449</td>\n",
              "      <td>-0.090557</td>\n",
              "      <td>-0.090917</td>\n",
              "      <td>0.158549</td>\n",
              "      <td>0.167702</td>\n",
              "      <td>0.186934</td>\n",
              "      <td>0.169990</td>\n",
              "      <td>-0.149433</td>\n",
              "      <td>0.349416</td>\n",
              "      <td>1.000000</td>\n",
              "      <td>-0.454353</td>\n",
              "    </tr>\n",
              "    <tr>\n",
              "      <th>FALTAS</th>\n",
              "      <td>0.094888</td>\n",
              "      <td>0.097509</td>\n",
              "      <td>0.102211</td>\n",
              "      <td>0.107030</td>\n",
              "      <td>-0.176007</td>\n",
              "      <td>-0.178978</td>\n",
              "      <td>-0.200538</td>\n",
              "      <td>-0.180111</td>\n",
              "      <td>0.141218</td>\n",
              "      <td>-0.349608</td>\n",
              "      <td>-0.454353</td>\n",
              "      <td>1.000000</td>\n",
              "    </tr>\n",
              "  </tbody>\n",
              "</table>\n",
              "</div>"
            ],
            "text/plain": [
              "                REPROVACOES_DE  REPROVACOES_EM  ...  TAREFAS_ONLINE    FALTAS\n",
              "REPROVACOES_DE        1.000000        0.718194  ...       -0.085484  0.094888\n",
              "REPROVACOES_EM        0.718194        1.000000  ...       -0.086449  0.097509\n",
              "REPROVACOES_MF        0.627279        0.630179  ...       -0.090557  0.102211\n",
              "REPROVACOES_GO        0.635341        0.626988  ...       -0.090917  0.107030\n",
              "NOTA_DE              -0.813435       -0.813435  ...        0.158549 -0.176007\n",
              "NOTA_EM              -0.794798       -0.794798  ...        0.167702 -0.178978\n",
              "NOTA_MF              -0.692948       -0.692389  ...        0.186934 -0.200538\n",
              "NOTA_GO              -0.710445       -0.710117  ...        0.169990 -0.180111\n",
              "INGLES                0.056715        0.060648  ...       -0.149433  0.141218\n",
              "H_AULA_PRES          -0.055391       -0.065024  ...        0.349416 -0.349608\n",
              "TAREFAS_ONLINE       -0.085484       -0.086449  ...        1.000000 -0.454353\n",
              "FALTAS                0.094888        0.097509  ...       -0.454353  1.000000\n",
              "\n",
              "[12 rows x 12 columns]"
            ]
          },
          "metadata": {
            "tags": []
          },
          "execution_count": 59
        }
      ]
    },
    {
      "cell_type": "markdown",
      "metadata": {
        "id": "Y2D_5StqPi--",
        "colab_type": "text"
      },
      "source": [
        "Traz a correlação de todos.\n",
        "- Qaunto mais p'roximo de 1, maior a correlação. tanto pra cima quanto pra baixo. Ou seja, ela pode ser positiva ou negativa. Enquanto um aumenta o outro aumenta também, ou enquanto um aumenta o outro cai.\n",
        "\n",
        "Podemos ver por exemplo que a NOTA_MF tem uma correlação negativa grande com as REPROVACOES_GO.\n",
        "\n",
        "Podemos ver que tem vários 1, e isso é porque está comparando ele com ele mesmo."
      ]
    },
    {
      "cell_type": "markdown",
      "metadata": {
        "id": "Mr1xyleaQgdl",
        "colab_type": "text"
      },
      "source": [
        "### Criar um mapa de correlação"
      ]
    },
    {
      "cell_type": "code",
      "metadata": {
        "id": "cmFkOlGYPfh3",
        "colab_type": "code",
        "colab": {}
      },
      "source": [
        "#função para criar heatmap\n",
        "\n",
        "def criar_heatmap(corr):\n",
        "  # Generate a mask for the upper triangle\n",
        "  mask = np.triu(np.ones_like(corr, dtype=np.bool))\n",
        "\n",
        "  # Set up the matplotlib figure\n",
        "  f, ax = plt.subplots(figsize=(11, 9))\n",
        "\n",
        "  # Generate a custom diverging colormap\n",
        "  cmap = sns.diverging_palette(220, 10, as_cmap=True)\n",
        "\n",
        "  # Draw the heatmap with the mask and correct aspect ratio\n",
        "  sns.heatmap(corr, mask=mask, cmap=cmap, vmax=.3, center=0,\n",
        "            square=True, linewidths=.5, cbar_kws={\"shrink\": .5}, annot=True)"
      ],
      "execution_count": 60,
      "outputs": []
    },
    {
      "cell_type": "code",
      "metadata": {
        "id": "i35G3PaESkYG",
        "colab_type": "code",
        "colab": {}
      },
      "source": [
        "# Importando o numpy\n",
        "import numpy as np"
      ],
      "execution_count": 61,
      "outputs": []
    },
    {
      "cell_type": "code",
      "metadata": {
        "id": "JpAPfbMrSW3q",
        "colab_type": "code",
        "colab": {
          "base_uri": "https://localhost:8080/",
          "height": 0
        },
        "outputId": "2a26e5b2-5400-4290-8e68-7cd38c3978d9"
      },
      "source": [
        "# Mapa de correlação\n",
        "\n",
        "corr = dados2.corr()\n",
        "criar_heatmap(corr)"
      ],
      "execution_count": 62,
      "outputs": [
        {
          "output_type": "display_data",
          "data": {
            "image/png": "[encoded data removed]",
            "text/plain": [
              "<Figure size 792x648 with 2 Axes>"
            ]
          },
          "metadata": {
            "tags": [],
            "needs_background": "light"
          }
        }
      ]
    },
    {
      "cell_type": "markdown",
      "metadata": {
        "id": "XfFUznNWTESV",
        "colab_type": "text"
      },
      "source": [
        "É basicamente o corr() que usamos lá em cima em uma forma visual muito melhor.\n",
        "A visualização é em forma de triangulo porque no outro lado do triangulo os dados se repetem. Se Olhar no corr() lá em cima podemos perceber que após o 1 os dados se repentem, meio que formando um triangulo."
      ]
    },
    {
      "cell_type": "markdown",
      "metadata": {
        "id": "rL0kD5ymTnjA",
        "colab_type": "text"
      },
      "source": [
        "Esse mapa de correlação tem um mapa de calor, então quanto mais forte a cor, maior a correlação.\n",
        "- Podemos perceber que as notas com as reprovações e as notas entre si possuem uma alta correlação;\n",
        "- A correlação das notas com as reprovações é negativa e com as notas em si é prositiva;\n",
        "- A NOTA_DE tem uma coorrelação muuuuito forte com NOTA_EM, ou seja, normalmente quem vai bem em DE vai bem em EM, o que isso quer dize? Talvez não seja o caso de usar as duas para treinar o modelo, pois os dados serão muito parecidos confundindo o modelo;\n",
        "- NOTA_MF tem muuuuita coorrelação com a NOTA_GO também;\n",
        "\n",
        "Ou seja, vale tentar trabalhar com isso.\n",
        "\n"
      ]
    },
    {
      "cell_type": "markdown",
      "metadata": {
        "id": "VRRYV7lRazXH",
        "colab_type": "text"
      },
      "source": [
        "Outra coisa que podemos perceber é que não tem a coluna perfil nesse mapa de correlações. Isso porque o mapa só pega dados numéricos, e isso vale para o corr() também."
      ]
    },
    {
      "cell_type": "markdown",
      "metadata": {
        "id": "JB8cAf8xbeln",
        "colab_type": "text"
      },
      "source": [
        "### Não recomendado para esse dataset (mas vamos aprender)\n",
        "Vamos transformar os dados do PERFIL em dados ordinais. Lembrando que teria lib para fazer isso, mas vamos fazer na mão."
      ]
    },
    {
      "cell_type": "code",
      "metadata": {
        "id": "xzqCCfIQSbPS",
        "colab_type": "code",
        "colab": {
          "base_uri": "https://localhost:8080/",
          "height": 0
        },
        "outputId": "d5b0d834-7009-43af-a4b5-6fbdf87e5b14"
      },
      "source": [
        "#mudando dados numa coluna para numérico\n",
        "\n",
        "#criando um dicionário para trocar os valores\n",
        "perfil = { 'EXATAS' : 2, 'HUMANAS' :3 , 'DIFICULDADE': 1, 'MUITO_BOM' : 4, 'EXCELENTE':5}\n",
        "\n",
        "#criando uma cópia do dataset\n",
        "dados3 = dados2.copy()\n",
        "#trocando os valores\n",
        "dados3['PERFIL'].replace(perfil, inplace=True)\n",
        "dados3.head() #vendo os primeiros 5 registros do novo dataset"
      ],
      "execution_count": 63,
      "outputs": [
        {
          "output_type": "execute_result",
          "data": {
            "text/html": [
              "<div>\n",
              "<style scoped>\n",
              "    .dataframe tbody tr th:only-of-type {\n",
              "        vertical-align: middle;\n",
              "    }\n",
              "\n",
              "    .dataframe tbody tr th {\n",
              "        vertical-align: top;\n",
              "    }\n",
              "\n",
              "    .dataframe thead th {\n",
              "        text-align: right;\n",
              "    }\n",
              "</style>\n",
              "<table border=\"1\" class=\"dataframe\">\n",
              "  <thead>\n",
              "    <tr style=\"text-align: right;\">\n",
              "      <th></th>\n",
              "      <th>REPROVACOES_DE</th>\n",
              "      <th>REPROVACOES_EM</th>\n",
              "      <th>REPROVACOES_MF</th>\n",
              "      <th>REPROVACOES_GO</th>\n",
              "      <th>NOTA_DE</th>\n",
              "      <th>NOTA_EM</th>\n",
              "      <th>NOTA_MF</th>\n",
              "      <th>NOTA_GO</th>\n",
              "      <th>INGLES</th>\n",
              "      <th>H_AULA_PRES</th>\n",
              "      <th>TAREFAS_ONLINE</th>\n",
              "      <th>FALTAS</th>\n",
              "      <th>PERFIL</th>\n",
              "    </tr>\n",
              "  </thead>\n",
              "  <tbody>\n",
              "    <tr>\n",
              "      <th>0</th>\n",
              "      <td>0</td>\n",
              "      <td>0</td>\n",
              "      <td>0</td>\n",
              "      <td>0</td>\n",
              "      <td>6.2</td>\n",
              "      <td>5.8</td>\n",
              "      <td>4.6</td>\n",
              "      <td>5.9</td>\n",
              "      <td>0.0</td>\n",
              "      <td>2</td>\n",
              "      <td>4</td>\n",
              "      <td>3</td>\n",
              "      <td>2</td>\n",
              "    </tr>\n",
              "    <tr>\n",
              "      <th>1</th>\n",
              "      <td>0</td>\n",
              "      <td>0</td>\n",
              "      <td>0</td>\n",
              "      <td>0</td>\n",
              "      <td>6.0</td>\n",
              "      <td>6.2</td>\n",
              "      <td>5.2</td>\n",
              "      <td>4.5</td>\n",
              "      <td>1.0</td>\n",
              "      <td>2</td>\n",
              "      <td>4</td>\n",
              "      <td>3</td>\n",
              "      <td>2</td>\n",
              "    </tr>\n",
              "    <tr>\n",
              "      <th>2</th>\n",
              "      <td>0</td>\n",
              "      <td>0</td>\n",
              "      <td>0</td>\n",
              "      <td>0</td>\n",
              "      <td>7.3</td>\n",
              "      <td>6.7</td>\n",
              "      <td>7.1</td>\n",
              "      <td>7.2</td>\n",
              "      <td>0.0</td>\n",
              "      <td>5</td>\n",
              "      <td>0</td>\n",
              "      <td>3</td>\n",
              "      <td>3</td>\n",
              "    </tr>\n",
              "    <tr>\n",
              "      <th>3</th>\n",
              "      <td>1</td>\n",
              "      <td>3</td>\n",
              "      <td>1</td>\n",
              "      <td>1</td>\n",
              "      <td>0.0</td>\n",
              "      <td>0.0</td>\n",
              "      <td>0.0</td>\n",
              "      <td>0.0</td>\n",
              "      <td>1.0</td>\n",
              "      <td>4</td>\n",
              "      <td>4</td>\n",
              "      <td>4</td>\n",
              "      <td>1</td>\n",
              "    </tr>\n",
              "    <tr>\n",
              "      <th>4</th>\n",
              "      <td>1</td>\n",
              "      <td>3</td>\n",
              "      <td>1</td>\n",
              "      <td>1</td>\n",
              "      <td>0.0</td>\n",
              "      <td>0.0</td>\n",
              "      <td>0.0</td>\n",
              "      <td>0.0</td>\n",
              "      <td>1.0</td>\n",
              "      <td>5</td>\n",
              "      <td>2</td>\n",
              "      <td>5</td>\n",
              "      <td>1</td>\n",
              "    </tr>\n",
              "  </tbody>\n",
              "</table>\n",
              "</div>"
            ],
            "text/plain": [
              "   REPROVACOES_DE  REPROVACOES_EM  ...  FALTAS  PERFIL\n",
              "0               0               0  ...       3       2\n",
              "1               0               0  ...       3       2\n",
              "2               0               0  ...       3       3\n",
              "3               1               3  ...       4       1\n",
              "4               1               3  ...       5       1\n",
              "\n",
              "[5 rows x 13 columns]"
            ]
          },
          "metadata": {
            "tags": []
          },
          "execution_count": 63
        }
      ]
    },
    {
      "cell_type": "code",
      "metadata": {
        "id": "uAWbG74IcUwh",
        "colab_type": "code",
        "colab": {
          "base_uri": "https://localhost:8080/",
          "height": 0
        },
        "outputId": "e7c8b29f-c43d-45ae-8c0c-6f746974a551"
      },
      "source": [
        "criar_heatmap(dados3.corr())"
      ],
      "execution_count": 64,
      "outputs": [
        {
          "output_type": "display_data",
          "data": {
            "image/png": "[encoded data removed]",
            "text/plain": [
              "<Figure size 792x648 with 2 Axes>"
            ]
          },
          "metadata": {
            "tags": [],
            "needs_background": "light"
          }
        }
      ]
    },
    {
      "cell_type": "markdown",
      "metadata": {
        "id": "iPRzaQXUcsFo",
        "colab_type": "text"
      },
      "source": [
        "Podemos ver que existe uma correlação alta entre as notas e o PERFIL.\n",
        "\n",
        "#### MAS POR QUE NÃO PODEMOS UTILIZAR ENTÃO?\n",
        "Porque não podemos dizer que quem tem dificuldade em humanas é pior que quem tem dificuldades em exatas por exemplo.\n",
        "\n",
        "piva: Talvez fazer um dummy/onehotencoded? Transformar tudo em novas colunas de verdadeiro e falso? Tem, não tem dificuldade?"
      ]
    },
    {
      "cell_type": "markdown",
      "metadata": {
        "id": "OWi3fzBgeAsq",
        "colab_type": "text"
      },
      "source": [
        "### Transformar uma coluna numérica em categórica (pode ser útil)\n",
        "\n",
        "A ideia é fazer uma divisão das faltas e transformar em categórica."
      ]
    },
    {
      "cell_type": "code",
      "metadata": {
        "id": "n2BJ4qTscklW",
        "colab_type": "code",
        "colab": {
          "base_uri": "https://localhost:8080/",
          "height": 34
        },
        "outputId": "35dd559e-d8d3-477f-b821-50786ca617e8"
      },
      "source": [
        "# Conferindo dados únicos de um Série\n",
        "\n",
        "dados2.FALTAS.unique() # Diz exatamente quais os valores"
      ],
      "execution_count": 65,
      "outputs": [
        {
          "output_type": "execute_result",
          "data": {
            "text/plain": [
              "array([3, 4, 5, 6, 7, 2, 1, 8])"
            ]
          },
          "metadata": {
            "tags": []
          },
          "execution_count": 65
        }
      ]
    },
    {
      "cell_type": "code",
      "metadata": {
        "id": "Vh1wtmdheveW",
        "colab_type": "code",
        "colab": {
          "base_uri": "https://localhost:8080/",
          "height": 34
        },
        "outputId": "3f9914dd-0143-4ebd-c880-99c3777720e5"
      },
      "source": [
        "# Conferindo quantos tipos de dados únicos tem em uma Série\n",
        "dados2.FALTAS.nunique()"
      ],
      "execution_count": 66,
      "outputs": [
        {
          "output_type": "execute_result",
          "data": {
            "text/plain": [
              "8"
            ]
          },
          "metadata": {
            "tags": []
          },
          "execution_count": 66
        }
      ]
    },
    {
      "cell_type": "code",
      "metadata": {
        "id": "JosvQi2ae9cI",
        "colab_type": "code",
        "colab": {}
      },
      "source": [
        "# Transformar uma coluna numérica em categórica\n",
        "# pd.cut(dados.FALTAS, bins=[0,2,4,6,8], labels=['0-2', '2-4', '4-6', '6-8'])"
      ],
      "execution_count": 67,
      "outputs": []
    },
    {
      "cell_type": "markdown",
      "metadata": {
        "id": "hXOYD0fjJh28",
        "colab_type": "text"
      },
      "source": [
        "## Processar os dados\n"
      ]
    },
    {
      "cell_type": "markdown",
      "metadata": {
        "id": "VjUiWc3GJmn5",
        "colab_type": "text"
      },
      "source": [
        "Aqui vamos fazer um pouquinho diferente do exercício da IBM, mas funciona e émelhor para trabalhar fora da IBM"
      ]
    },
    {
      "cell_type": "markdown",
      "metadata": {
        "id": "WkdtmK6DJxu6",
        "colab_type": "text"
      },
      "source": [
        "### Preencher Nulos"
      ]
    },
    {
      "cell_type": "code",
      "metadata": {
        "id": "Kw9YokiPgqGK",
        "colab_type": "code",
        "colab": {}
      },
      "source": [
        "# Preencher os nulos com 0\n",
        "# A partir daqui vamos usar o dados 2\n",
        "dados2.fillna(0, inplace=True)\n"
      ],
      "execution_count": 68,
      "outputs": []
    },
    {
      "cell_type": "code",
      "metadata": {
        "id": "UL3DtTkwKLvF",
        "colab_type": "code",
        "colab": {
          "base_uri": "https://localhost:8080/",
          "height": 255
        },
        "outputId": "4d67f278-5cc5-4a8a-9265-a4fc44126dac"
      },
      "source": [
        "#Verificar quantos dados não são nulos (útil em alguns datasets para visualização comparado com o isna)\n",
        "dados2.notna().sum()\n"
      ],
      "execution_count": 72,
      "outputs": [
        {
          "output_type": "execute_result",
          "data": {
            "text/plain": [
              "REPROVACOES_DE    20000\n",
              "REPROVACOES_EM    20000\n",
              "REPROVACOES_MF    20000\n",
              "REPROVACOES_GO    20000\n",
              "NOTA_DE           20000\n",
              "NOTA_EM           20000\n",
              "NOTA_MF           20000\n",
              "NOTA_GO           20000\n",
              "INGLES            20000\n",
              "H_AULA_PRES       20000\n",
              "TAREFAS_ONLINE    20000\n",
              "FALTAS            20000\n",
              "PERFIL            20000\n",
              "dtype: int64"
            ]
          },
          "metadata": {
            "tags": []
          },
          "execution_count": 72
        }
      ]
    },
    {
      "cell_type": "code",
      "metadata": {
        "id": "UeJqzP38K9au",
        "colab_type": "code",
        "colab": {
          "base_uri": "https://localhost:8080/",
          "height": 255
        },
        "outputId": "ccb6b77e-de7f-4bb2-fe56-cad4c08eff9e"
      },
      "source": [
        "# Conferindo se sobrou algum dado nulo\n",
        "dados2.isna().sum()\n",
        "# Poderia somar mais uma vez aí ele traz o valor total de todas as colunas juntas"
      ],
      "execution_count": 73,
      "outputs": [
        {
          "output_type": "execute_result",
          "data": {
            "text/plain": [
              "REPROVACOES_DE    0\n",
              "REPROVACOES_EM    0\n",
              "REPROVACOES_MF    0\n",
              "REPROVACOES_GO    0\n",
              "NOTA_DE           0\n",
              "NOTA_EM           0\n",
              "NOTA_MF           0\n",
              "NOTA_GO           0\n",
              "INGLES            0\n",
              "H_AULA_PRES       0\n",
              "TAREFAS_ONLINE    0\n",
              "FALTAS            0\n",
              "PERFIL            0\n",
              "dtype: int64"
            ]
          },
          "metadata": {
            "tags": []
          },
          "execution_count": 73
        }
      ]
    },
    {
      "cell_type": "markdown",
      "metadata": {
        "id": "o0l6iE0yLah1",
        "colab_type": "text"
      },
      "source": [
        "### Feature Selection usando o sci-kit"
      ]
    },
    {
      "cell_type": "markdown",
      "metadata": {
        "id": "RFUtvVC4LhBG",
        "colab_type": "text"
      },
      "source": [
        "As classes no sklearn.feature_selectionmódulo podem ser usadas para seleção de recurso / redução de dimensionalidade em conjuntos de amostra, seja para melhorar as pontuações de precisão dos estimadores ou para impulsionar seu desempenho em conjuntos de dados de dimensões muito altas.\n",
        "https://scikit-learn.org/stable/modules/feature_selection.html\n",
        "\n",
        "**Texto complementar - Como selecionar as melhores features para seu modelo de Machine Learning**\n",
        "https://paulovasconcellos.com.br/como-selecionar-as-melhores-features-para-seu-modelo-de-machine-learning-2e9df83d062a\n",
        "\n",
        "\n",
        "Nos vamos utlilizar o **sklearn.feature_selection.RFECV** (existe o RFE também)\n",
        "*Ele vai fazer um validação cruzada e ver o que podemos retirar desse dataset para um teste melhor.*\n",
        "https://scikit-learn.org/stable/modules/generated/sklearn.feature_selection.RFECV.html#sklearn.feature_selection.RFECV\n",
        "\n",
        "Para conseguir rodar essa função precisamos saber qual o modelo que vamos treinar o nosso notebook, e esse modelo para essa função precisa ter o método fit, nesse caso podemos utilziar o **randomForestClassifier**, mas é interessante testar outros depois\n",
        "https://medium.com/turo-engineering/how-not-to-use-random-forest-265a19a68576\n",
        "\n",
        "Sobre qual modelo utilizar podemos pesquisar por *sklearn classifiers*\n",
        "https://scikit-learn.org/stable/auto_examples/classification/plot_classifier_comparison.html"
      ]
    },
    {
      "cell_type": "code",
      "metadata": {
        "id": "zKE3CzoSLQd2",
        "colab_type": "code",
        "colab": {}
      },
      "source": [
        "# Importar as biblitoecas (RFECV e o modelo que vamos utilziar)\n",
        "from sklearn.feature_selection import RFECV\n",
        "from sklearn.ensemble import RandomForestClassifier"
      ],
      "execution_count": 75,
      "outputs": []
    },
    {
      "cell_type": "code",
      "metadata": {
        "id": "1YHf8_JUPGUF",
        "colab_type": "code",
        "colab": {}
      },
      "source": [
        "# Instanciar um objeto com o RFECV\n",
        "rfe = RFECV(estimator=RandomForestClassifier())"
      ],
      "execution_count": 76,
      "outputs": []
    },
    {
      "cell_type": "markdown",
      "metadata": {
        "id": "2CpoZEyxQ7UP",
        "colab_type": "text"
      },
      "source": [
        "Criar o X e o y para utilziar no método fit do rfe"
      ]
    },
    {
      "cell_type": "code",
      "metadata": {
        "id": "ChPPLxOVQw65",
        "colab_type": "code",
        "colab": {}
      },
      "source": [
        "X = dados2.drop(['PERFIL'], axis=1) #axis=1 == axis='columns'\n",
        "y = dados2['PERFIL']"
      ],
      "execution_count": 77,
      "outputs": []
    },
    {
      "cell_type": "markdown",
      "metadata": {
        "id": "YnneEMMkRhKK",
        "colab_type": "text"
      },
      "source": [
        "No exemplo apresentado no desafio, na variável target eles apresentam ela em uma lista [] e quando vemos o y.head() percebemos que ele é um dataset. Se fizermos desse jeito acima ele é uma série que é mais compatível com a maioria dos modelos."
      ]
    },
    {
      "cell_type": "code",
      "metadata": {
        "id": "sGMjG_uZRYoA",
        "colab_type": "code",
        "colab": {
          "base_uri": "https://localhost:8080/",
          "height": 224
        },
        "outputId": "9147f9df-0426-4602-d288-e9dfcef6e8c1"
      },
      "source": [
        "X.head()\n"
      ],
      "execution_count": 78,
      "outputs": [
        {
          "output_type": "execute_result",
          "data": {
            "text/html": [
              "<div>\n",
              "<style scoped>\n",
              "    .dataframe tbody tr th:only-of-type {\n",
              "        vertical-align: middle;\n",
              "    }\n",
              "\n",
              "    .dataframe tbody tr th {\n",
              "        vertical-align: top;\n",
              "    }\n",
              "\n",
              "    .dataframe thead th {\n",
              "        text-align: right;\n",
              "    }\n",
              "</style>\n",
              "<table border=\"1\" class=\"dataframe\">\n",
              "  <thead>\n",
              "    <tr style=\"text-align: right;\">\n",
              "      <th></th>\n",
              "      <th>REPROVACOES_DE</th>\n",
              "      <th>REPROVACOES_EM</th>\n",
              "      <th>REPROVACOES_MF</th>\n",
              "      <th>REPROVACOES_GO</th>\n",
              "      <th>NOTA_DE</th>\n",
              "      <th>NOTA_EM</th>\n",
              "      <th>NOTA_MF</th>\n",
              "      <th>NOTA_GO</th>\n",
              "      <th>INGLES</th>\n",
              "      <th>H_AULA_PRES</th>\n",
              "      <th>TAREFAS_ONLINE</th>\n",
              "      <th>FALTAS</th>\n",
              "    </tr>\n",
              "  </thead>\n",
              "  <tbody>\n",
              "    <tr>\n",
              "      <th>0</th>\n",
              "      <td>0</td>\n",
              "      <td>0</td>\n",
              "      <td>0</td>\n",
              "      <td>0</td>\n",
              "      <td>6.2</td>\n",
              "      <td>5.8</td>\n",
              "      <td>4.6</td>\n",
              "      <td>5.9</td>\n",
              "      <td>0.0</td>\n",
              "      <td>2</td>\n",
              "      <td>4</td>\n",
              "      <td>3</td>\n",
              "    </tr>\n",
              "    <tr>\n",
              "      <th>1</th>\n",
              "      <td>0</td>\n",
              "      <td>0</td>\n",
              "      <td>0</td>\n",
              "      <td>0</td>\n",
              "      <td>6.0</td>\n",
              "      <td>6.2</td>\n",
              "      <td>5.2</td>\n",
              "      <td>4.5</td>\n",
              "      <td>1.0</td>\n",
              "      <td>2</td>\n",
              "      <td>4</td>\n",
              "      <td>3</td>\n",
              "    </tr>\n",
              "    <tr>\n",
              "      <th>2</th>\n",
              "      <td>0</td>\n",
              "      <td>0</td>\n",
              "      <td>0</td>\n",
              "      <td>0</td>\n",
              "      <td>7.3</td>\n",
              "      <td>6.7</td>\n",
              "      <td>7.1</td>\n",
              "      <td>7.2</td>\n",
              "      <td>0.0</td>\n",
              "      <td>5</td>\n",
              "      <td>0</td>\n",
              "      <td>3</td>\n",
              "    </tr>\n",
              "    <tr>\n",
              "      <th>3</th>\n",
              "      <td>1</td>\n",
              "      <td>3</td>\n",
              "      <td>1</td>\n",
              "      <td>1</td>\n",
              "      <td>0.0</td>\n",
              "      <td>0.0</td>\n",
              "      <td>0.0</td>\n",
              "      <td>0.0</td>\n",
              "      <td>1.0</td>\n",
              "      <td>4</td>\n",
              "      <td>4</td>\n",
              "      <td>4</td>\n",
              "    </tr>\n",
              "    <tr>\n",
              "      <th>4</th>\n",
              "      <td>1</td>\n",
              "      <td>3</td>\n",
              "      <td>1</td>\n",
              "      <td>1</td>\n",
              "      <td>0.0</td>\n",
              "      <td>0.0</td>\n",
              "      <td>0.0</td>\n",
              "      <td>0.0</td>\n",
              "      <td>1.0</td>\n",
              "      <td>5</td>\n",
              "      <td>2</td>\n",
              "      <td>5</td>\n",
              "    </tr>\n",
              "  </tbody>\n",
              "</table>\n",
              "</div>"
            ],
            "text/plain": [
              "   REPROVACOES_DE  REPROVACOES_EM  ...  TAREFAS_ONLINE  FALTAS\n",
              "0               0               0  ...               4       3\n",
              "1               0               0  ...               4       3\n",
              "2               0               0  ...               0       3\n",
              "3               1               3  ...               4       4\n",
              "4               1               3  ...               2       5\n",
              "\n",
              "[5 rows x 12 columns]"
            ]
          },
          "metadata": {
            "tags": []
          },
          "execution_count": 78
        }
      ]
    },
    {
      "cell_type": "code",
      "metadata": {
        "id": "u-POxuxwRazl",
        "colab_type": "code",
        "colab": {
          "base_uri": "https://localhost:8080/",
          "height": 119
        },
        "outputId": "aa91b5c0-5295-452f-b4e6-1e5e80d20161"
      },
      "source": [
        "y.head()"
      ],
      "execution_count": 79,
      "outputs": [
        {
          "output_type": "execute_result",
          "data": {
            "text/plain": [
              "0         EXATAS\n",
              "1         EXATAS\n",
              "2        HUMANAS\n",
              "3    DIFICULDADE\n",
              "4    DIFICULDADE\n",
              "Name: PERFIL, dtype: object"
            ]
          },
          "metadata": {
            "tags": []
          },
          "execution_count": 79
        }
      ]
    },
    {
      "cell_type": "code",
      "metadata": {
        "id": "1xzcDki8RdaD",
        "colab_type": "code",
        "colab": {
          "base_uri": "https://localhost:8080/",
          "height": 238
        },
        "outputId": "28be65a9-2f71-491a-ca14-f00107cd241e"
      },
      "source": [
        "# Escolhendo as features utilizando o método fit()\n",
        "\n",
        "rfe.fit(X,y)"
      ],
      "execution_count": 102,
      "outputs": [
        {
          "output_type": "execute_result",
          "data": {
            "text/plain": [
              "RFECV(cv=None,\n",
              "      estimator=RandomForestClassifier(bootstrap=True, ccp_alpha=0.0,\n",
              "                                       class_weight=None, criterion='gini',\n",
              "                                       max_depth=None, max_features='auto',\n",
              "                                       max_leaf_nodes=None, max_samples=None,\n",
              "                                       min_impurity_decrease=0.0,\n",
              "                                       min_impurity_split=None,\n",
              "                                       min_samples_leaf=1, min_samples_split=2,\n",
              "                                       min_weight_fraction_leaf=0.0,\n",
              "                                       n_estimators=100, n_jobs=None,\n",
              "                                       oob_score=False, random_state=None,\n",
              "                                       verbose=0, warm_start=False),\n",
              "      min_features_to_select=1, n_jobs=None, scoring=None, step=1, verbose=0)"
            ]
          },
          "metadata": {
            "tags": []
          },
          "execution_count": 102
        }
      ]
    },
    {
      "cell_type": "markdown",
      "metadata": {
        "id": "PRZz6xieZC47",
        "colab_type": "text"
      },
      "source": [
        "Rodamos a função e agora vamos ver quantas features o modelo sugera para utilizarmos. Entretanto, para mim apareceram 11 features, e na explicação da menina foram 9."
      ]
    },
    {
      "cell_type": "code",
      "metadata": {
        "id": "t7VBXdusY-N7",
        "colab_type": "code",
        "colab": {
          "base_uri": "https://localhost:8080/",
          "height": 34
        },
        "outputId": "3616bab5-5cc3-4a01-afc2-bf8dec16377d"
      },
      "source": [
        "rfe.n_features_"
      ],
      "execution_count": 103,
      "outputs": [
        {
          "output_type": "execute_result",
          "data": {
            "text/plain": [
              "9"
            ]
          },
          "metadata": {
            "tags": []
          },
          "execution_count": 103
        }
      ]
    },
    {
      "cell_type": "code",
      "metadata": {
        "id": "EPyIIfODZZd1",
        "colab_type": "code",
        "colab": {
          "base_uri": "https://localhost:8080/",
          "height": 51
        },
        "outputId": "d8a79e08-29cc-4f43-fcc7-e2cfa04ac607"
      },
      "source": [
        "rfe.support_"
      ],
      "execution_count": 104,
      "outputs": [
        {
          "output_type": "execute_result",
          "data": {
            "text/plain": [
              "array([False, False,  True,  True,  True,  True,  True,  True, False,\n",
              "        True,  True,  True])"
            ]
          },
          "metadata": {
            "tags": []
          },
          "execution_count": 104
        }
      ]
    },
    {
      "cell_type": "code",
      "metadata": {
        "id": "7E6ohafQYkDV",
        "colab_type": "code",
        "colab": {}
      },
      "source": [
        "colunas2 = pd.DataFrame({'coluna':X.columns,\n",
        "                         'bool': rfe.support_})"
      ],
      "execution_count": 105,
      "outputs": []
    },
    {
      "cell_type": "code",
      "metadata": {
        "id": "M8zZC8V0Y4MY",
        "colab_type": "code",
        "colab": {
          "base_uri": "https://localhost:8080/",
          "height": 170
        },
        "outputId": "20d5bd27-b594-4736-e2bb-4b0cd8d561ce"
      },
      "source": [
        "# Buscar todas essas colunas, colocar em uma lista e armazenar em uma variável\n",
        "features = list(colunas2.query('bool == True').coluna)\n",
        "features"
      ],
      "execution_count": 106,
      "outputs": [
        {
          "output_type": "execute_result",
          "data": {
            "text/plain": [
              "['REPROVACOES_MF',\n",
              " 'REPROVACOES_GO',\n",
              " 'NOTA_DE',\n",
              " 'NOTA_EM',\n",
              " 'NOTA_MF',\n",
              " 'NOTA_GO',\n",
              " 'H_AULA_PRES',\n",
              " 'TAREFAS_ONLINE',\n",
              " 'FALTAS']"
            ]
          },
          "metadata": {
            "tags": []
          },
          "execution_count": 106
        }
      ]
    },
    {
      "cell_type": "code",
      "metadata": {
        "id": "9_rXPChqZiTL",
        "colab_type": "code",
        "colab": {}
      },
      "source": [
        "# O que vamos fazer com essa lista?\n",
        "# Vamos usar ela para buscar o X apenas com as colunas da lista e armazenar na variável de treino\n",
        "\n",
        "X_treino = X[features]"
      ],
      "execution_count": 107,
      "outputs": []
    },
    {
      "cell_type": "code",
      "metadata": {
        "id": "NAWIJzPBd1GB",
        "colab_type": "code",
        "colab": {
          "base_uri": "https://localhost:8080/",
          "height": 439
        },
        "outputId": "e2c5d422-32d0-4289-b709-b87e18305b6a"
      },
      "source": [
        "X_treino"
      ],
      "execution_count": 108,
      "outputs": [
        {
          "output_type": "execute_result",
          "data": {
            "text/html": [
              "<div>\n",
              "<style scoped>\n",
              "    .dataframe tbody tr th:only-of-type {\n",
              "        vertical-align: middle;\n",
              "    }\n",
              "\n",
              "    .dataframe tbody tr th {\n",
              "        vertical-align: top;\n",
              "    }\n",
              "\n",
              "    .dataframe thead th {\n",
              "        text-align: right;\n",
              "    }\n",
              "</style>\n",
              "<table border=\"1\" class=\"dataframe\">\n",
              "  <thead>\n",
              "    <tr style=\"text-align: right;\">\n",
              "      <th></th>\n",
              "      <th>REPROVACOES_MF</th>\n",
              "      <th>REPROVACOES_GO</th>\n",
              "      <th>NOTA_DE</th>\n",
              "      <th>NOTA_EM</th>\n",
              "      <th>NOTA_MF</th>\n",
              "      <th>NOTA_GO</th>\n",
              "      <th>H_AULA_PRES</th>\n",
              "      <th>TAREFAS_ONLINE</th>\n",
              "      <th>FALTAS</th>\n",
              "    </tr>\n",
              "  </thead>\n",
              "  <tbody>\n",
              "    <tr>\n",
              "      <th>0</th>\n",
              "      <td>0</td>\n",
              "      <td>0</td>\n",
              "      <td>6.2</td>\n",
              "      <td>5.8</td>\n",
              "      <td>4.6</td>\n",
              "      <td>5.9</td>\n",
              "      <td>2</td>\n",
              "      <td>4</td>\n",
              "      <td>3</td>\n",
              "    </tr>\n",
              "    <tr>\n",
              "      <th>1</th>\n",
              "      <td>0</td>\n",
              "      <td>0</td>\n",
              "      <td>6.0</td>\n",
              "      <td>6.2</td>\n",
              "      <td>5.2</td>\n",
              "      <td>4.5</td>\n",
              "      <td>2</td>\n",
              "      <td>4</td>\n",
              "      <td>3</td>\n",
              "    </tr>\n",
              "    <tr>\n",
              "      <th>2</th>\n",
              "      <td>0</td>\n",
              "      <td>0</td>\n",
              "      <td>7.3</td>\n",
              "      <td>6.7</td>\n",
              "      <td>7.1</td>\n",
              "      <td>7.2</td>\n",
              "      <td>5</td>\n",
              "      <td>0</td>\n",
              "      <td>3</td>\n",
              "    </tr>\n",
              "    <tr>\n",
              "      <th>3</th>\n",
              "      <td>1</td>\n",
              "      <td>1</td>\n",
              "      <td>0.0</td>\n",
              "      <td>0.0</td>\n",
              "      <td>0.0</td>\n",
              "      <td>0.0</td>\n",
              "      <td>4</td>\n",
              "      <td>4</td>\n",
              "      <td>4</td>\n",
              "    </tr>\n",
              "    <tr>\n",
              "      <th>4</th>\n",
              "      <td>1</td>\n",
              "      <td>1</td>\n",
              "      <td>0.0</td>\n",
              "      <td>0.0</td>\n",
              "      <td>0.0</td>\n",
              "      <td>0.0</td>\n",
              "      <td>5</td>\n",
              "      <td>2</td>\n",
              "      <td>5</td>\n",
              "    </tr>\n",
              "    <tr>\n",
              "      <th>...</th>\n",
              "      <td>...</td>\n",
              "      <td>...</td>\n",
              "      <td>...</td>\n",
              "      <td>...</td>\n",
              "      <td>...</td>\n",
              "      <td>...</td>\n",
              "      <td>...</td>\n",
              "      <td>...</td>\n",
              "      <td>...</td>\n",
              "    </tr>\n",
              "    <tr>\n",
              "      <th>19995</th>\n",
              "      <td>0</td>\n",
              "      <td>0</td>\n",
              "      <td>7.0</td>\n",
              "      <td>7.9</td>\n",
              "      <td>5.8</td>\n",
              "      <td>7.0</td>\n",
              "      <td>9</td>\n",
              "      <td>5</td>\n",
              "      <td>6</td>\n",
              "    </tr>\n",
              "    <tr>\n",
              "      <th>19996</th>\n",
              "      <td>1</td>\n",
              "      <td>1</td>\n",
              "      <td>0.0</td>\n",
              "      <td>0.0</td>\n",
              "      <td>0.0</td>\n",
              "      <td>0.0</td>\n",
              "      <td>3</td>\n",
              "      <td>2</td>\n",
              "      <td>5</td>\n",
              "    </tr>\n",
              "    <tr>\n",
              "      <th>19997</th>\n",
              "      <td>0</td>\n",
              "      <td>0</td>\n",
              "      <td>7.9</td>\n",
              "      <td>7.6</td>\n",
              "      <td>8.3</td>\n",
              "      <td>7.2</td>\n",
              "      <td>8</td>\n",
              "      <td>3</td>\n",
              "      <td>1</td>\n",
              "    </tr>\n",
              "    <tr>\n",
              "      <th>19998</th>\n",
              "      <td>1</td>\n",
              "      <td>1</td>\n",
              "      <td>6.3</td>\n",
              "      <td>5.1</td>\n",
              "      <td>0.0</td>\n",
              "      <td>0.0</td>\n",
              "      <td>3</td>\n",
              "      <td>2</td>\n",
              "      <td>6</td>\n",
              "    </tr>\n",
              "    <tr>\n",
              "      <th>19999</th>\n",
              "      <td>1</td>\n",
              "      <td>1</td>\n",
              "      <td>7.0</td>\n",
              "      <td>7.3</td>\n",
              "      <td>0.0</td>\n",
              "      <td>0.0</td>\n",
              "      <td>3</td>\n",
              "      <td>0</td>\n",
              "      <td>6</td>\n",
              "    </tr>\n",
              "  </tbody>\n",
              "</table>\n",
              "<p>20000 rows × 9 columns</p>\n",
              "</div>"
            ],
            "text/plain": [
              "       REPROVACOES_MF  REPROVACOES_GO  ...  TAREFAS_ONLINE  FALTAS\n",
              "0                   0               0  ...               4       3\n",
              "1                   0               0  ...               4       3\n",
              "2                   0               0  ...               0       3\n",
              "3                   1               1  ...               4       4\n",
              "4                   1               1  ...               2       5\n",
              "...               ...             ...  ...             ...     ...\n",
              "19995               0               0  ...               5       6\n",
              "19996               1               1  ...               2       5\n",
              "19997               0               0  ...               3       1\n",
              "19998               1               1  ...               2       6\n",
              "19999               1               1  ...               0       6\n",
              "\n",
              "[20000 rows x 9 columns]"
            ]
          },
          "metadata": {
            "tags": []
          },
          "execution_count": 108
        }
      ]
    },
    {
      "cell_type": "markdown",
      "metadata": {
        "id": "rZjrvFTOeM9v",
        "colab_type": "text"
      },
      "source": [
        "### Treinando o Modelo"
      ]
    },
    {
      "cell_type": "markdown",
      "metadata": {
        "id": "k6FCNFTVeSGV",
        "colab_type": "text"
      },
      "source": [
        "Lembrando que o feature selection foi algo para ajudar, podemos retirar as featuras que achamos desnecessárias analisando o mapa de calor, podemos ainda fazer análises estatísticas, ou usar outras ferramentas e funções para esse feature selection automático."
      ]
    },
    {
      "cell_type": "markdown",
      "metadata": {
        "id": "RfUpaLTLf_Hp",
        "colab_type": "text"
      },
      "source": [
        "#### Dividir o Dataset entre treino e teste"
      ]
    },
    {
      "cell_type": "code",
      "metadata": {
        "id": "ATRyLVD_gHue",
        "colab_type": "code",
        "colab": {}
      },
      "source": [
        "# Importando a biblioteca\n",
        "from sklearn.model_selection import train_test_split\n",
        "from sklearn.metrics import classification_report"
      ],
      "execution_count": 130,
      "outputs": []
    },
    {
      "cell_type": "code",
      "metadata": {
        "id": "kMbr__ZLgjod",
        "colab_type": "code",
        "colab": {}
      },
      "source": [
        "# Primeiro testamos com o X_treino com as [features] e não deu certo, agora vamos usar o X original\n",
        "# Lembrando que pra mim deu 80.08% no modelo 1 usando o RFECV\n",
        "#X_train, X_test, y_train, y_test = train_test_split(X_treino, y, random_state=42)\n",
        "X_train, X_test, y_train, y_test = train_test_split(X, y, random_state=42)"
      ],
      "execution_count": 157,
      "outputs": []
    },
    {
      "cell_type": "markdown",
      "metadata": {
        "id": "iClpgSfDgIC6",
        "colab_type": "text"
      },
      "source": [
        "#### Instanciando o modelo"
      ]
    },
    {
      "cell_type": "code",
      "metadata": {
        "id": "UjWjXZced2cL",
        "colab_type": "code",
        "colab": {}
      },
      "source": [
        "# Instanciar o modelo (definir random_state=42)\n",
        "modelo = RandomForestClassifier(bootstrap=True, ccp_alpha=0.0,\n",
        "                                       class_weight=None, criterion='gini',\n",
        "                                       max_depth=None, max_features='auto',\n",
        "                                       max_leaf_nodes=None, max_samples=None,\n",
        "                                       min_impurity_decrease=0.0,\n",
        "                                       min_impurity_split=None,\n",
        "                                       min_samples_leaf=1, min_samples_split=2,\n",
        "                                       min_weight_fraction_leaf=0.0,\n",
        "                                       n_estimators=100, n_jobs=None,\n",
        "                                       oob_score=False, random_state=42,\n",
        "                                       verbose=0, warm_start=False)"
      ],
      "execution_count": 286,
      "outputs": []
    },
    {
      "cell_type": "code",
      "metadata": {
        "id": "Kd7MtfrYfIUI",
        "colab_type": "code",
        "colab": {}
      },
      "source": [
        "modelo2 = RandomForestClassifier()"
      ],
      "execution_count": 252,
      "outputs": []
    },
    {
      "cell_type": "code",
      "metadata": {
        "id": "GSAaes1Hh2BE",
        "colab_type": "code",
        "colab": {
          "base_uri": "https://localhost:8080/",
          "height": 153
        },
        "outputId": "8cadbba2-77a2-40ce-ce8f-8315a5c1294d"
      },
      "source": [
        "modelo.fit(X_train, y_train)"
      ],
      "execution_count": 287,
      "outputs": [
        {
          "output_type": "execute_result",
          "data": {
            "text/plain": [
              "RandomForestClassifier(bootstrap=True, ccp_alpha=0.0, class_weight=None,\n",
              "                       criterion='gini', max_depth=None, max_features='auto',\n",
              "                       max_leaf_nodes=None, max_samples=None,\n",
              "                       min_impurity_decrease=0.0, min_impurity_split=None,\n",
              "                       min_samples_leaf=1, min_samples_split=2,\n",
              "                       min_weight_fraction_leaf=0.0, n_estimators=100,\n",
              "                       n_jobs=None, oob_score=False, random_state=42, verbose=0,\n",
              "                       warm_start=False)"
            ]
          },
          "metadata": {
            "tags": []
          },
          "execution_count": 287
        }
      ]
    },
    {
      "cell_type": "code",
      "metadata": {
        "id": "V-klOIjVh9f5",
        "colab_type": "code",
        "colab": {}
      },
      "source": [
        "previsao = modelo.predict(X_test)"
      ],
      "execution_count": 290,
      "outputs": []
    },
    {
      "cell_type": "code",
      "metadata": {
        "id": "vTcK0OYEiKFR",
        "colab_type": "code",
        "colab": {
          "base_uri": "https://localhost:8080/",
          "height": 51
        },
        "outputId": "9edbbb4a-0885-422f-95da-e5b43f08f089"
      },
      "source": [
        "previsao"
      ],
      "execution_count": 291,
      "outputs": [
        {
          "output_type": "execute_result",
          "data": {
            "text/plain": [
              "array(['EXATAS', 'EXATAS', 'HUMANAS', ..., 'EXATAS', 'EXATAS', 'HUMANAS'],\n",
              "      dtype=object)"
            ]
          },
          "metadata": {
            "tags": []
          },
          "execution_count": 291
        }
      ]
    },
    {
      "cell_type": "markdown",
      "metadata": {
        "id": "7gAdRP_kiOT4",
        "colab_type": "text"
      },
      "source": [
        "Com o que que eu comparo essa previsão?\n",
        "Vamos fazer sem usar biblioteca nenhuma"
      ]
    },
    {
      "cell_type": "code",
      "metadata": {
        "id": "9fWV96zGiMAL",
        "colab_type": "code",
        "colab": {
          "base_uri": "https://localhost:8080/",
          "height": 283
        },
        "outputId": "74b59758-b5df-4904-bbf3-92cdd8c570b9"
      },
      "source": [
        "sns.countplot(previsao)"
      ],
      "execution_count": 292,
      "outputs": [
        {
          "output_type": "execute_result",
          "data": {
            "text/plain": [
              "<matplotlib.axes._subplots.AxesSubplot at 0x7f74d92b7898>"
            ]
          },
          "metadata": {
            "tags": []
          },
          "execution_count": 292
        },
        {
          "output_type": "display_data",
          "data": {
            "image/png": "[encoded data removed]",
            "text/plain": [
              "<Figure size 432x288 with 1 Axes>"
            ]
          },
          "metadata": {
            "tags": [],
            "needs_background": "light"
          }
        }
      ]
    },
    {
      "cell_type": "code",
      "metadata": {
        "id": "OWzVVoZjirqs",
        "colab_type": "code",
        "colab": {
          "base_uri": "https://localhost:8080/",
          "height": 297
        },
        "outputId": "8ac1cb63-573a-4511-a319-5ae5695e66b0"
      },
      "source": [
        "sns.countplot(y_test)"
      ],
      "execution_count": 293,
      "outputs": [
        {
          "output_type": "execute_result",
          "data": {
            "text/plain": [
              "<matplotlib.axes._subplots.AxesSubplot at 0x7f74d929e0b8>"
            ]
          },
          "metadata": {
            "tags": []
          },
          "execution_count": 293
        },
        {
          "output_type": "display_data",
          "data": {
            "image/png": "[encoded data removed]",
            "text/plain": [
              "<Figure size 432x288 with 1 Axes>"
            ]
          },
          "metadata": {
            "tags": [],
            "needs_background": "light"
          }
        }
      ]
    },
    {
      "cell_type": "markdown",
      "metadata": {
        "id": "WuwwpBDHi4Kn",
        "colab_type": "text"
      },
      "source": [
        "Perceba que ele errou no MUITO_BOM comparado com a previsão do X_test, DIFICULDADE também tem uma variação alta\n"
      ]
    },
    {
      "cell_type": "markdown",
      "metadata": {
        "id": "Zr25YOwkpWcR",
        "colab_type": "text"
      },
      "source": [
        "#### Precisão do modelo"
      ]
    },
    {
      "cell_type": "code",
      "metadata": {
        "id": "eKBiR49ei0ip",
        "colab_type": "code",
        "colab": {}
      },
      "source": [
        "# Importar a biblioteca\n",
        "from sklearn.metrics import accuracy_score"
      ],
      "execution_count": 294,
      "outputs": []
    },
    {
      "cell_type": "markdown",
      "metadata": {
        "id": "ZTPQaIrascvl",
        "colab_type": "text"
      },
      "source": [
        "https://scikit-learn.org/stable/modules/classes.html?highlight=metrics#module-sklearn.metrics"
      ]
    },
    {
      "cell_type": "code",
      "metadata": {
        "id": "-LFdFiK9pdi2",
        "colab_type": "code",
        "colab": {
          "base_uri": "https://localhost:8080/",
          "height": 34
        },
        "outputId": "fcec7e12-da98-4e58-cb0c-cabb0c7d84d9"
      },
      "source": [
        "# Testando a acurácia modelo\n",
        "\n",
        "accuracy_score(y_test, previsao)"
      ],
      "execution_count": 295,
      "outputs": [
        {
          "output_type": "execute_result",
          "data": {
            "text/plain": [
              "0.7946"
            ]
          },
          "metadata": {
            "tags": []
          },
          "execution_count": 295
        }
      ]
    },
    {
      "cell_type": "code",
      "metadata": {
        "id": "QR-XdCnLrTaN",
        "colab_type": "code",
        "colab": {
          "base_uri": "https://localhost:8080/",
          "height": 221
        },
        "outputId": "cc964704-b445-432e-f25e-295c0e5b87a5"
      },
      "source": [
        "print(classification_report(y_test, previsao))"
      ],
      "execution_count": 296,
      "outputs": [
        {
          "output_type": "stream",
          "text": [
            "              precision    recall  f1-score   support\n",
            "\n",
            " DIFICULDADE       0.87      0.73      0.79      1753\n",
            "      EXATAS       0.79      0.91      0.84      2029\n",
            "   EXCELENTE       0.62      0.60      0.61       162\n",
            "     HUMANAS       0.75      0.93      0.83       807\n",
            "   MUITO_BOM       0.19      0.04      0.06       249\n",
            "\n",
            "    accuracy                           0.79      5000\n",
            "   macro avg       0.64      0.64      0.63      5000\n",
            "weighted avg       0.78      0.79      0.78      5000\n",
            "\n"
          ],
          "name": "stdout"
        }
      ]
    },
    {
      "cell_type": "markdown",
      "metadata": {
        "id": "00lHWiRorejD",
        "colab_type": "text"
      },
      "source": [
        "Vamos fazer o mesmo para o modelo2"
      ]
    },
    {
      "cell_type": "code",
      "metadata": {
        "id": "mq73_v-opoBX",
        "colab_type": "code",
        "colab": {
          "base_uri": "https://localhost:8080/",
          "height": 153
        },
        "outputId": "af40922f-750f-4de3-dc2d-7e1063986163"
      },
      "source": [
        "modelo2.fit(X_train, y_train)"
      ],
      "execution_count": 187,
      "outputs": [
        {
          "output_type": "execute_result",
          "data": {
            "text/plain": [
              "RandomForestClassifier(bootstrap=True, ccp_alpha=0.0, class_weight=None,\n",
              "                       criterion='gini', max_depth=None, max_features='auto',\n",
              "                       max_leaf_nodes=None, max_samples=None,\n",
              "                       min_impurity_decrease=0.0, min_impurity_split=None,\n",
              "                       min_samples_leaf=1, min_samples_split=2,\n",
              "                       min_weight_fraction_leaf=0.0, n_estimators=100,\n",
              "                       n_jobs=None, oob_score=False, random_state=None,\n",
              "                       verbose=0, warm_start=False)"
            ]
          },
          "metadata": {
            "tags": []
          },
          "execution_count": 187
        }
      ]
    },
    {
      "cell_type": "code",
      "metadata": {
        "id": "ifpYbtUtp9SL",
        "colab_type": "code",
        "colab": {}
      },
      "source": [
        "previsao2 = modelo2.predict(X_test)"
      ],
      "execution_count": 188,
      "outputs": []
    },
    {
      "cell_type": "code",
      "metadata": {
        "id": "CkSz5aMZqA8f",
        "colab_type": "code",
        "colab": {
          "base_uri": "https://localhost:8080/",
          "height": 34
        },
        "outputId": "86392cc2-8962-4c47-e9ee-7f2cbac14cb9"
      },
      "source": [
        "# Testando a acurácia modelo2\n",
        "\n",
        "accuracy_score(y_test, previsao2)"
      ],
      "execution_count": 189,
      "outputs": [
        {
          "output_type": "execute_result",
          "data": {
            "text/plain": [
              "0.8006"
            ]
          },
          "metadata": {
            "tags": []
          },
          "execution_count": 189
        }
      ]
    },
    {
      "cell_type": "code",
      "metadata": {
        "id": "Nn5TcpZjrDor",
        "colab_type": "code",
        "colab": {
          "base_uri": "https://localhost:8080/",
          "height": 221
        },
        "outputId": "65f6d507-bed0-4cae-d652-1f311fd0c2bc"
      },
      "source": [
        "print(classification_report(y_test, previsao2))"
      ],
      "execution_count": 190,
      "outputs": [
        {
          "output_type": "stream",
          "text": [
            "              precision    recall  f1-score   support\n",
            "\n",
            " DIFICULDADE       0.88      0.73      0.80      1753\n",
            "      EXATAS       0.79      0.91      0.85      2029\n",
            "   EXCELENTE       0.63      0.62      0.63       162\n",
            "     HUMANAS       0.75      0.94      0.84       807\n",
            "   MUITO_BOM       0.24      0.05      0.08       249\n",
            "\n",
            "    accuracy                           0.80      5000\n",
            "   macro avg       0.66      0.65      0.64      5000\n",
            "weighted avg       0.79      0.80      0.78      5000\n",
            "\n"
          ],
          "name": "stdout"
        }
      ]
    },
    {
      "cell_type": "markdown",
      "metadata": {
        "id": "SzRljiAxsqqx",
        "colab_type": "text"
      },
      "source": [
        "Modelo3"
      ]
    },
    {
      "cell_type": "code",
      "metadata": {
        "id": "7-zFmcYNsstE",
        "colab_type": "code",
        "colab": {}
      },
      "source": [
        "from sklearn.ensemble import ExtraTreesClassifier\n",
        "modelo3 = ExtraTreesClassifier(random_state=42)"
      ],
      "execution_count": 191,
      "outputs": []
    },
    {
      "cell_type": "code",
      "metadata": {
        "id": "DXPJE_sFs87u",
        "colab_type": "code",
        "colab": {
          "base_uri": "https://localhost:8080/",
          "height": 153
        },
        "outputId": "0f0f5f8f-dec7-4be0-e9ba-d0d4db8261f4"
      },
      "source": [
        "modelo3.fit(X_train, y_train)"
      ],
      "execution_count": 192,
      "outputs": [
        {
          "output_type": "execute_result",
          "data": {
            "text/plain": [
              "ExtraTreesClassifier(bootstrap=False, ccp_alpha=0.0, class_weight=None,\n",
              "                     criterion='gini', max_depth=None, max_features='auto',\n",
              "                     max_leaf_nodes=None, max_samples=None,\n",
              "                     min_impurity_decrease=0.0, min_impurity_split=None,\n",
              "                     min_samples_leaf=1, min_samples_split=2,\n",
              "                     min_weight_fraction_leaf=0.0, n_estimators=100,\n",
              "                     n_jobs=None, oob_score=False, random_state=42, verbose=0,\n",
              "                     warm_start=False)"
            ]
          },
          "metadata": {
            "tags": []
          },
          "execution_count": 192
        }
      ]
    },
    {
      "cell_type": "code",
      "metadata": {
        "id": "G9XkgVK4s9Zy",
        "colab_type": "code",
        "colab": {}
      },
      "source": [
        "previsao3 = modelo3.predict(X_test)"
      ],
      "execution_count": 193,
      "outputs": []
    },
    {
      "cell_type": "code",
      "metadata": {
        "id": "_FFEecK2s84u",
        "colab_type": "code",
        "colab": {
          "base_uri": "https://localhost:8080/",
          "height": 34
        },
        "outputId": "1b964142-4ee3-4373-bcad-f180235d8ccc"
      },
      "source": [
        "accuracy_score(y_test, previsao3)"
      ],
      "execution_count": 194,
      "outputs": [
        {
          "output_type": "execute_result",
          "data": {
            "text/plain": [
              "0.7946"
            ]
          },
          "metadata": {
            "tags": []
          },
          "execution_count": 194
        }
      ]
    },
    {
      "cell_type": "code",
      "metadata": {
        "id": "uQfNMs2Mtr8x",
        "colab_type": "code",
        "colab": {
          "base_uri": "https://localhost:8080/",
          "height": 221
        },
        "outputId": "0fb65806-29b2-4276-c386-59d13c48531a"
      },
      "source": [
        "print(classification_report(y_test, previsao3))"
      ],
      "execution_count": 176,
      "outputs": [
        {
          "output_type": "stream",
          "text": [
            "              precision    recall  f1-score   support\n",
            "\n",
            " DIFICULDADE       0.89      0.73      0.80      1753\n",
            "      EXATAS       0.78      0.92      0.85      2029\n",
            "   EXCELENTE       0.60      0.60      0.60       162\n",
            "     HUMANAS       0.74      0.90      0.82       807\n",
            "   MUITO_BOM       0.21      0.03      0.06       249\n",
            "\n",
            "    accuracy                           0.79      5000\n",
            "   macro avg       0.64      0.64      0.62      5000\n",
            "weighted avg       0.78      0.79      0.78      5000\n",
            "\n"
          ],
          "name": "stdout"
        }
      ]
    },
    {
      "cell_type": "markdown",
      "metadata": {
        "id": "AwbR8CJTt-SP",
        "colab_type": "text"
      },
      "source": [
        "Modelo 4"
      ]
    },
    {
      "cell_type": "code",
      "metadata": {
        "id": "qcZ21i3f8rDN",
        "colab_type": "code",
        "colab": {}
      },
      "source": [
        "from sklearn.ensemble import GradientBoostingClassifier"
      ],
      "execution_count": 224,
      "outputs": []
    },
    {
      "cell_type": "code",
      "metadata": {
        "id": "GUZiGhv48yFI",
        "colab_type": "code",
        "colab": {}
      },
      "source": [
        "modelo4 = GradientBoostingClassifier(random_state=42)"
      ],
      "execution_count": 225,
      "outputs": []
    },
    {
      "cell_type": "code",
      "metadata": {
        "id": "Iy8rb7oO8ydj",
        "colab_type": "code",
        "colab": {
          "base_uri": "https://localhost:8080/",
          "height": 187
        },
        "outputId": "22c4e2b5-e8a5-4217-a8ba-4b9723cdd019"
      },
      "source": [
        "modelo4.fit(X_train, y_train)"
      ],
      "execution_count": 226,
      "outputs": [
        {
          "output_type": "execute_result",
          "data": {
            "text/plain": [
              "GradientBoostingClassifier(ccp_alpha=0.0, criterion='friedman_mse', init=None,\n",
              "                           learning_rate=0.1, loss='deviance', max_depth=3,\n",
              "                           max_features=None, max_leaf_nodes=None,\n",
              "                           min_impurity_decrease=0.0, min_impurity_split=None,\n",
              "                           min_samples_leaf=1, min_samples_split=2,\n",
              "                           min_weight_fraction_leaf=0.0, n_estimators=100,\n",
              "                           n_iter_no_change=None, presort='deprecated',\n",
              "                           random_state=42, subsample=1.0, tol=0.0001,\n",
              "                           validation_fraction=0.1, verbose=0,\n",
              "                           warm_start=False)"
            ]
          },
          "metadata": {
            "tags": []
          },
          "execution_count": 226
        }
      ]
    },
    {
      "cell_type": "code",
      "metadata": {
        "id": "kmzP7zUW8yVS",
        "colab_type": "code",
        "colab": {}
      },
      "source": [
        "previsao4 = modelo4.predict(X_test)"
      ],
      "execution_count": 227,
      "outputs": []
    },
    {
      "cell_type": "code",
      "metadata": {
        "id": "vAzzYodi9dBZ",
        "colab_type": "code",
        "colab": {
          "base_uri": "https://localhost:8080/",
          "height": 34
        },
        "outputId": "360de3f9-f13f-4fc4-9951-d4133395d49b"
      },
      "source": [
        "accuracy_score(y_test, previsao4)"
      ],
      "execution_count": 228,
      "outputs": [
        {
          "output_type": "execute_result",
          "data": {
            "text/plain": [
              "0.8044"
            ]
          },
          "metadata": {
            "tags": []
          },
          "execution_count": 228
        }
      ]
    },
    {
      "cell_type": "code",
      "metadata": {
        "id": "c0kVBBvv8x9x",
        "colab_type": "code",
        "colab": {
          "base_uri": "https://localhost:8080/",
          "height": 221
        },
        "outputId": "44bc8494-d5e7-41e9-ec6f-563508c3b536"
      },
      "source": [
        "print(classification_report(y_test, previsao4))"
      ],
      "execution_count": 229,
      "outputs": [
        {
          "output_type": "stream",
          "text": [
            "              precision    recall  f1-score   support\n",
            "\n",
            " DIFICULDADE       0.89      0.73      0.81      1753\n",
            "      EXATAS       0.80      0.92      0.86      2029\n",
            "   EXCELENTE       0.59      0.62      0.61       162\n",
            "     HUMANAS       0.75      0.93      0.83       807\n",
            "   MUITO_BOM       0.24      0.05      0.08       249\n",
            "\n",
            "    accuracy                           0.80      5000\n",
            "   macro avg       0.66      0.65      0.64      5000\n",
            "weighted avg       0.79      0.80      0.79      5000\n",
            "\n"
          ],
          "name": "stdout"
        }
      ]
    },
    {
      "cell_type": "markdown",
      "metadata": {
        "id": "adEDIekIqt7K",
        "colab_type": "text"
      },
      "source": [
        "### Balanceamento das classes"
      ]
    },
    {
      "cell_type": "markdown",
      "metadata": {
        "id": "wC5CMCXUslIt",
        "colab_type": "text"
      },
      "source": [
        "https://imbalanced-learn.readthedocs.io/en/stable/generated/imblearn.over_sampling.SMOTE.html"
      ]
    },
    {
      "cell_type": "markdown",
      "metadata": {
        "id": "tGTzwyIFuC-M",
        "colab_type": "text"
      },
      "source": [
        "**SMOTE**\n",
        "\n",
        "Vamos fazer um fit() apenas do X_treino. Ou seja, vamos balancear apenas o nosso Dataset de treino, mas vamos testar com os dados não balanceados.\n",
        "\n",
        "**O SMOTE não vai na pipeline, nós só vamos treinar o modelo com ele, mas os teste serão feitos sem os dados balanceados**"
      ]
    },
    {
      "cell_type": "code",
      "metadata": {
        "id": "tU21bTjYqUEQ",
        "colab_type": "code",
        "colab": {}
      },
      "source": [
        "# Importar a biblioteca\n",
        "\n",
        "from imblearn.over_sampling import SMOTE"
      ],
      "execution_count": 195,
      "outputs": []
    },
    {
      "cell_type": "markdown",
      "metadata": {
        "id": "i46c7PlNuzvA",
        "colab_type": "text"
      },
      "source": [
        "o SMOTE pede alguns parâmetros. O primeiro deles ;e o sampling_strategy, e vamos usar a estratégia all que faz um resample de todas as classes"
      ]
    },
    {
      "cell_type": "code",
      "metadata": {
        "id": "edzRt4kdud6C",
        "colab_type": "code",
        "colab": {}
      },
      "source": [
        "# Balanceando\n",
        "\n",
        "smote = SMOTE(sampling_strategy='minority', random_state=42)"
      ],
      "execution_count": 210,
      "outputs": []
    },
    {
      "cell_type": "code",
      "metadata": {
        "id": "p-_HZHduvRkD",
        "colab_type": "code",
        "colab": {
          "base_uri": "https://localhost:8080/",
          "height": 71
        },
        "outputId": "6e8f3d29-8018-400d-f062-2ee581019e5e"
      },
      "source": [
        "\n",
        "# X_train, y_train =smote.fit_resample(X_train, y_train)\n",
        "# Vamos mudar pra não ficar com a mesma variável\n",
        "XB, yB =smote.fit_resample(X_train, y_train)"
      ],
      "execution_count": 211,
      "outputs": [
        {
          "output_type": "stream",
          "text": [
            "/usr/local/lib/python3.6/dist-packages/sklearn/utils/deprecation.py:87: FutureWarning: Function safe_indexing is deprecated; safe_indexing is deprecated in version 0.22 and will be removed in version 0.24.\n",
            "  warnings.warn(msg, category=FutureWarning)\n"
          ],
          "name": "stderr"
        }
      ]
    },
    {
      "cell_type": "markdown",
      "metadata": {
        "id": "qqM06My1wyGH",
        "colab_type": "text"
      },
      "source": [
        "#### Treinar os modelos novamente com os dados balanceados"
      ]
    },
    {
      "cell_type": "markdown",
      "metadata": {
        "id": "qVcRexOcw56G",
        "colab_type": "text"
      },
      "source": [
        "##### Modelo"
      ]
    },
    {
      "cell_type": "code",
      "metadata": {
        "id": "o-RdxpIBvp1K",
        "colab_type": "code",
        "colab": {
          "base_uri": "https://localhost:8080/",
          "height": 153
        },
        "outputId": "ba73c535-7c99-4011-beaf-7b2413652d39"
      },
      "source": [
        "# Treinando o modelo novamente com os dados balanceados\n",
        "\n",
        "modelo.fit(XB, yB)"
      ],
      "execution_count": 212,
      "outputs": [
        {
          "output_type": "execute_result",
          "data": {
            "text/plain": [
              "RandomForestClassifier(bootstrap=True, ccp_alpha=0.0, class_weight=None,\n",
              "                       criterion='gini', max_depth=None, max_features='auto',\n",
              "                       max_leaf_nodes=None, max_samples=None,\n",
              "                       min_impurity_decrease=0.0, min_impurity_split=None,\n",
              "                       min_samples_leaf=1, min_samples_split=2,\n",
              "                       min_weight_fraction_leaf=0.0, n_estimators=100,\n",
              "                       n_jobs=None, oob_score=False, random_state=42, verbose=0,\n",
              "                       warm_start=False)"
            ]
          },
          "metadata": {
            "tags": []
          },
          "execution_count": 212
        }
      ]
    },
    {
      "cell_type": "code",
      "metadata": {
        "id": "8Dgxw0RlvtyK",
        "colab_type": "code",
        "colab": {}
      },
      "source": [
        "previsao_balanceada = modelo.predict(X_test)"
      ],
      "execution_count": 213,
      "outputs": []
    },
    {
      "cell_type": "markdown",
      "metadata": {
        "id": "AZRO1icswHVY",
        "colab_type": "text"
      },
      "source": [
        "Perceba que o predict do modelo estamos fazendo com o X_test que não foi balanceado como o X_train no caso XB"
      ]
    },
    {
      "cell_type": "code",
      "metadata": {
        "colab_type": "code",
        "id": "0S9ChMtkwZEg",
        "colab": {
          "base_uri": "https://localhost:8080/",
          "height": 34
        },
        "outputId": "00f4f7fe-27ac-4ec8-b3a8-0687b1524c3e"
      },
      "source": [
        "accuracy_score(y_test, previsao_balanceada)"
      ],
      "execution_count": 214,
      "outputs": [
        {
          "output_type": "execute_result",
          "data": {
            "text/plain": [
              "0.7958"
            ]
          },
          "metadata": {
            "tags": []
          },
          "execution_count": 214
        }
      ]
    },
    {
      "cell_type": "code",
      "metadata": {
        "colab_type": "code",
        "id": "bU1PbE7SwZEk",
        "colab": {
          "base_uri": "https://localhost:8080/",
          "height": 221
        },
        "outputId": "cd9bd516-2f08-43b0-e4b2-083c8c1ab0a1"
      },
      "source": [
        "print(classification_report(y_test, previsao_balanceada))"
      ],
      "execution_count": 215,
      "outputs": [
        {
          "output_type": "stream",
          "text": [
            "              precision    recall  f1-score   support\n",
            "\n",
            " DIFICULDADE       0.88      0.73      0.80      1753\n",
            "      EXATAS       0.80      0.91      0.85      2029\n",
            "   EXCELENTE       0.46      0.78      0.58       162\n",
            "     HUMANAS       0.77      0.88      0.82       807\n",
            "   MUITO_BOM       0.09      0.00      0.01       249\n",
            "\n",
            "    accuracy                           0.80      5000\n",
            "   macro avg       0.60      0.66      0.61      5000\n",
            "weighted avg       0.78      0.80      0.78      5000\n",
            "\n"
          ],
          "name": "stdout"
        }
      ]
    },
    {
      "cell_type": "markdown",
      "metadata": {
        "colab_type": "text",
        "id": "AydMibFbxDpy"
      },
      "source": [
        "##### Modelo2"
      ]
    },
    {
      "cell_type": "code",
      "metadata": {
        "colab_type": "code",
        "id": "IJo8tBdLxDpy",
        "colab": {
          "base_uri": "https://localhost:8080/",
          "height": 153
        },
        "outputId": "6cc5157e-1436-4417-a432-0479e63b39f0"
      },
      "source": [
        "# Treinando o modelo novamente com os dados balanceados\n",
        "\n",
        "modelo2.fit(XB, yB)"
      ],
      "execution_count": 216,
      "outputs": [
        {
          "output_type": "execute_result",
          "data": {
            "text/plain": [
              "RandomForestClassifier(bootstrap=True, ccp_alpha=0.0, class_weight=None,\n",
              "                       criterion='gini', max_depth=None, max_features='auto',\n",
              "                       max_leaf_nodes=None, max_samples=None,\n",
              "                       min_impurity_decrease=0.0, min_impurity_split=None,\n",
              "                       min_samples_leaf=1, min_samples_split=2,\n",
              "                       min_weight_fraction_leaf=0.0, n_estimators=100,\n",
              "                       n_jobs=None, oob_score=False, random_state=None,\n",
              "                       verbose=0, warm_start=False)"
            ]
          },
          "metadata": {
            "tags": []
          },
          "execution_count": 216
        }
      ]
    },
    {
      "cell_type": "code",
      "metadata": {
        "colab_type": "code",
        "id": "cJ7d0tgQxDp0",
        "colab": {}
      },
      "source": [
        "previsao_balanceada2 = modelo2.predict(X_test)"
      ],
      "execution_count": 217,
      "outputs": []
    },
    {
      "cell_type": "markdown",
      "metadata": {
        "colab_type": "text",
        "id": "mBERKDamxDp2"
      },
      "source": [
        "Perceba que o predict do modelo estamos fazendo com o X_test que não foi balanceado como o X_train no caso XB"
      ]
    },
    {
      "cell_type": "code",
      "metadata": {
        "colab_type": "code",
        "id": "l6gFwIW3xDp2",
        "colab": {
          "base_uri": "https://localhost:8080/",
          "height": 34
        },
        "outputId": "55a1f51d-b762-43ca-8eb0-07c91a174efa"
      },
      "source": [
        "accuracy_score(y_test, previsao_balanceada2)"
      ],
      "execution_count": 218,
      "outputs": [
        {
          "output_type": "execute_result",
          "data": {
            "text/plain": [
              "0.7938"
            ]
          },
          "metadata": {
            "tags": []
          },
          "execution_count": 218
        }
      ]
    },
    {
      "cell_type": "code",
      "metadata": {
        "colab_type": "code",
        "id": "TcYf9r2CxDp4",
        "colab": {
          "base_uri": "https://localhost:8080/",
          "height": 221
        },
        "outputId": "932f4592-816d-4341-8a49-994865339893"
      },
      "source": [
        "print(classification_report(y_test, previsao_balanceada2))"
      ],
      "execution_count": 219,
      "outputs": [
        {
          "output_type": "stream",
          "text": [
            "              precision    recall  f1-score   support\n",
            "\n",
            " DIFICULDADE       0.88      0.73      0.80      1753\n",
            "      EXATAS       0.79      0.91      0.85      2029\n",
            "   EXCELENTE       0.46      0.80      0.58       162\n",
            "     HUMANAS       0.77      0.88      0.82       807\n",
            "   MUITO_BOM       0.29      0.01      0.02       249\n",
            "\n",
            "    accuracy                           0.79      5000\n",
            "   macro avg       0.64      0.67      0.61      5000\n",
            "weighted avg       0.78      0.79      0.78      5000\n",
            "\n"
          ],
          "name": "stdout"
        }
      ]
    },
    {
      "cell_type": "markdown",
      "metadata": {
        "colab_type": "text",
        "id": "YABRajb6xpcs"
      },
      "source": [
        "##### Modelo3"
      ]
    },
    {
      "cell_type": "code",
      "metadata": {
        "colab_type": "code",
        "id": "FR4d40rDxpcs",
        "colab": {
          "base_uri": "https://localhost:8080/",
          "height": 153
        },
        "outputId": "f9ae60f0-e52c-44db-cd4f-0203ffdbb2c2"
      },
      "source": [
        "# Treinando o modelo novamente com os dados balanceados\n",
        "\n",
        "modelo3.fit(XB, yB)"
      ],
      "execution_count": 220,
      "outputs": [
        {
          "output_type": "execute_result",
          "data": {
            "text/plain": [
              "ExtraTreesClassifier(bootstrap=False, ccp_alpha=0.0, class_weight=None,\n",
              "                     criterion='gini', max_depth=None, max_features='auto',\n",
              "                     max_leaf_nodes=None, max_samples=None,\n",
              "                     min_impurity_decrease=0.0, min_impurity_split=None,\n",
              "                     min_samples_leaf=1, min_samples_split=2,\n",
              "                     min_weight_fraction_leaf=0.0, n_estimators=100,\n",
              "                     n_jobs=None, oob_score=False, random_state=42, verbose=0,\n",
              "                     warm_start=False)"
            ]
          },
          "metadata": {
            "tags": []
          },
          "execution_count": 220
        }
      ]
    },
    {
      "cell_type": "code",
      "metadata": {
        "colab_type": "code",
        "id": "fcYVwMHaxpcv",
        "colab": {}
      },
      "source": [
        "previsao_balanceada3 = modelo3.predict(X_test)"
      ],
      "execution_count": 221,
      "outputs": []
    },
    {
      "cell_type": "markdown",
      "metadata": {
        "colab_type": "text",
        "id": "Y02i41xYxpcw"
      },
      "source": [
        "Perceba que o predict do modelo estamos fazendo com o X_test que não foi balanceado como o X_train no caso XB"
      ]
    },
    {
      "cell_type": "code",
      "metadata": {
        "colab_type": "code",
        "id": "Hu6pc2bXxpcx",
        "colab": {
          "base_uri": "https://localhost:8080/",
          "height": 34
        },
        "outputId": "12786dfd-14ce-44ea-ea0e-5f423de09933"
      },
      "source": [
        "accuracy_score(y_test, previsao_balanceada3)"
      ],
      "execution_count": 222,
      "outputs": [
        {
          "output_type": "execute_result",
          "data": {
            "text/plain": [
              "0.7854"
            ]
          },
          "metadata": {
            "tags": []
          },
          "execution_count": 222
        }
      ]
    },
    {
      "cell_type": "code",
      "metadata": {
        "colab_type": "code",
        "id": "Y5c9Puhzxpcy",
        "colab": {
          "base_uri": "https://localhost:8080/",
          "height": 221
        },
        "outputId": "bb12d94f-8c21-4a63-a880-4db5f36ccd1e"
      },
      "source": [
        "print(classification_report(y_test, previsao_balanceada3))"
      ],
      "execution_count": 223,
      "outputs": [
        {
          "output_type": "stream",
          "text": [
            "              precision    recall  f1-score   support\n",
            "\n",
            " DIFICULDADE       0.88      0.72      0.79      1753\n",
            "      EXATAS       0.78      0.91      0.84      2029\n",
            "   EXCELENTE       0.46      0.77      0.58       162\n",
            "     HUMANAS       0.76      0.86      0.81       807\n",
            "   MUITO_BOM       0.20      0.02      0.03       249\n",
            "\n",
            "    accuracy                           0.79      5000\n",
            "   macro avg       0.62      0.65      0.61      5000\n",
            "weighted avg       0.77      0.79      0.77      5000\n",
            "\n"
          ],
          "name": "stdout"
        }
      ]
    },
    {
      "cell_type": "markdown",
      "metadata": {
        "colab_type": "text",
        "id": "_DcAvXT39pmX"
      },
      "source": [
        "##### Modelo4"
      ]
    },
    {
      "cell_type": "code",
      "metadata": {
        "colab_type": "code",
        "id": "u_3GqYb39pmY",
        "colab": {
          "base_uri": "https://localhost:8080/",
          "height": 187
        },
        "outputId": "0b46bd6b-7a50-4237-9f9d-0e2a2875ce00"
      },
      "source": [
        "# Treinando o modelo novamente com os dados balanceados\n",
        "\n",
        "modelo4.fit(XB, yB)"
      ],
      "execution_count": 230,
      "outputs": [
        {
          "output_type": "execute_result",
          "data": {
            "text/plain": [
              "GradientBoostingClassifier(ccp_alpha=0.0, criterion='friedman_mse', init=None,\n",
              "                           learning_rate=0.1, loss='deviance', max_depth=3,\n",
              "                           max_features=None, max_leaf_nodes=None,\n",
              "                           min_impurity_decrease=0.0, min_impurity_split=None,\n",
              "                           min_samples_leaf=1, min_samples_split=2,\n",
              "                           min_weight_fraction_leaf=0.0, n_estimators=100,\n",
              "                           n_iter_no_change=None, presort='deprecated',\n",
              "                           random_state=42, subsample=1.0, tol=0.0001,\n",
              "                           validation_fraction=0.1, verbose=0,\n",
              "                           warm_start=False)"
            ]
          },
          "metadata": {
            "tags": []
          },
          "execution_count": 230
        }
      ]
    },
    {
      "cell_type": "code",
      "metadata": {
        "colab_type": "code",
        "id": "dRGtQugz9pma",
        "colab": {}
      },
      "source": [
        "previsao_balanceada4 = modelo4.predict(X_test)"
      ],
      "execution_count": 231,
      "outputs": []
    },
    {
      "cell_type": "markdown",
      "metadata": {
        "colab_type": "text",
        "id": "XQqXMvbz9pmc"
      },
      "source": [
        "Perceba que o predict do modelo estamos fazendo com o X_test que não foi balanceado como o X_train no caso XB"
      ]
    },
    {
      "cell_type": "code",
      "metadata": {
        "colab_type": "code",
        "id": "cpe32fbs9pmc",
        "colab": {
          "base_uri": "https://localhost:8080/",
          "height": 34
        },
        "outputId": "5b94c107-b2ca-4840-cd6f-8c77fe132541"
      },
      "source": [
        "accuracy_score(y_test, previsao_balanceada4)"
      ],
      "execution_count": 232,
      "outputs": [
        {
          "output_type": "execute_result",
          "data": {
            "text/plain": [
              "0.8008"
            ]
          },
          "metadata": {
            "tags": []
          },
          "execution_count": 232
        }
      ]
    },
    {
      "cell_type": "code",
      "metadata": {
        "colab_type": "code",
        "id": "uw6zwv2A9pmf",
        "colab": {
          "base_uri": "https://localhost:8080/",
          "height": 221
        },
        "outputId": "ae27c1fa-10fd-48da-c087-9f50393dd1a0"
      },
      "source": [
        "print(classification_report(y_test, previsao_balanceada4))"
      ],
      "execution_count": 233,
      "outputs": [
        {
          "output_type": "stream",
          "text": [
            "              precision    recall  f1-score   support\n",
            "\n",
            " DIFICULDADE       0.89      0.73      0.80      1753\n",
            "      EXATAS       0.80      0.92      0.85      2029\n",
            "   EXCELENTE       0.49      0.81      0.61       162\n",
            "     HUMANAS       0.78      0.89      0.83       807\n",
            "   MUITO_BOM       0.31      0.04      0.06       249\n",
            "\n",
            "    accuracy                           0.80      5000\n",
            "   macro avg       0.65      0.68      0.63      5000\n",
            "weighted avg       0.79      0.80      0.78      5000\n",
            "\n"
          ],
          "name": "stdout"
        }
      ]
    }
  ]
}